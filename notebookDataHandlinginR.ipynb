{
 "cells": [
  {
   "cell_type": "markdown",
   "metadata": {
    "collapsed": true,
    "deletable": true,
    "editable": true
   },
   "source": [
    "# Data handling in R \n",
    "Preparing and cleaning data is an important step before actual analyses are done. Wrong data can adversely affect your outcome. This preparation can be more time consuming then doing the actual analyses. This workshop provides an introduction to handling raw data with R. This allows you to go from raw to clean data in a reproducible way. In this workshop we will handle some basic functionality. "
   ]
  },
  {
   "cell_type": "markdown",
   "metadata": {
    "collapsed": false,
    "deletable": true,
    "editable": true
   },
   "source": [
    "## What is R?\n",
    "R is an open source language and environment for data handling, statistical computing and graphics. R can easily be extended by importing 'packages' for various functionalities or statistical techniques. Also self-made functions can be defined. This makes R a very versatile option. It can also handle larger amounts of data than, for instance, Excel."
   ]
  },
  {
   "cell_type": "markdown",
   "metadata": {
    "collapsed": false,
    "deletable": true,
    "editable": true
   },
   "source": [
    "## Step 1. Import and check raw data\n",
    "To import data, always first set the path to where the data is. Then import the raw data into the R environment. For each data format (i.e. .txt, .csv) a different import function() is required. Any function() comes with different options for parameters, in this case on how exactly you want to import the data. The data will mostly be imported into a dataframe object. This can hold different types of data; all columns can be of a different type. This is in contrast to a matrix, or a vector, which can hold only one data type.\n",
    "\n",
    "The first thing you do after import is to check the data to see what you'll be working with. \n",
    "\n",
    "> As a good practice, first assess your dataframe. Use head(), tail(), str(), summary()"
   ]
  },
  {
   "cell_type": "code",
   "execution_count": null,
   "metadata": {
    "collapsed": false,
    "deletable": true,
    "editable": true
   },
   "outputs": [],
   "source": [
    "# read.delim reads tab-delimited text files.\n",
    "\n",
    "# With '<-' we assign the data to a variable name, so you can refer to the \n",
    "# data. Wwe read in two files here that are related, we'll work with these \n",
    "# throughout this Jupyter notebook.\n",
    "\n",
    "PD1 <- read.delim(\"PatientDATA1.txt\", stringsAsFactors = FALSE )\n",
    "PD2 <- read.delim(\"PatientDATA2.txt\", stringsAsFactors = FALSE )\n",
    "\n",
    "####### Question: What happens if you do not assign the data to a variable name?\n",
    "\n",
    "# 'head' gives you the first 6 rows of the object.\n",
    "head(PD1)\n",
    "head(PD2)"
   ]
  },
  {
   "cell_type": "code",
   "execution_count": null,
   "metadata": {
    "collapsed": false,
    "deletable": true,
    "editable": true
   },
   "outputs": [],
   "source": [
    "####### Assignment:\n",
    "\n",
    "# You've seen what function head() does. Now check out PD1 and PD2 \n",
    "# more closely here with str(), tail(), summary() and dim()."
   ]
  },
  {
   "cell_type": "code",
   "execution_count": null,
   "metadata": {
    "collapsed": false
   },
   "outputs": [],
   "source": [
    "####### Assignment:\n",
    "\n",
    "# You've seen what head() and tail() do. Try to output 3 lines instead of 6. \n",
    "\n",
    "# head(PD1, ...)\n",
    "\n",
    "# tail(PD1, ... )\n"
   ]
  },
  {
   "cell_type": "markdown",
   "metadata": {},
   "source": [
    "Each column of the PD1 and PD2 can be extracted from the data. R has several methods to do this."
   ]
  },
  {
   "cell_type": "code",
   "execution_count": null,
   "metadata": {
    "collapsed": false
   },
   "outputs": [],
   "source": [
    "# this is the most common way to select a single column\n",
    "PD1$HR\n",
    "\n",
    "# the same as PD1$HR but with a different notation\n",
    "PD1[[\"HR\"]]\n",
    "\n",
    "# another way to select a column\n",
    "PD1[, \"HR\"]"
   ]
  },
  {
   "cell_type": "markdown",
   "metadata": {
    "collapsed": false,
    "deletable": true,
    "editable": true
   },
   "source": [
    "## Step 2. Change the data classes to appropriate ones\n",
    "\n",
    "All data objects in R belong to one or another *class*. \n",
    "Each class has its own possibilities for analyses, and associated permitted values (value domain). This will help check if the data is correct. For instance, 'two' is not a permitted value for a numeric class type, '2' is. Similarly, you cannot (and should not) calculate with Factors. So having assigned the correct class prevents mistakes.\n",
    "\n",
    "Common classes of data that are supported in R are: \n",
    "* character (for text)\n",
    "* factor (for categorical)\n",
    "* numeric and integer (for numerical)\n",
    "* date (for dates) \n",
    "* logical (either true or false) \n",
    "\n",
    "Convert each data column to the correct class (this is named 'type setting'). If a numeric is not intended for calculations such as the patient number, it should be a factor. For the date, we want to convert this into the international standard (year, month, day). These are indicated as %y (for short notation i.e. '16') or %Y (for long notation i.e. '2016'), %m, %d.\n",
    "* PATNO = Factor (patient ID)\n",
    "* GENDER = Factor (male or female)  \n",
    "* HR = Numeric (heart rate)\n",
    "* SBP_DBP = Numeric (systolic_diastolic blood pressure)\n",
    "* AE = Factor (got medicine yes/no)\n",
    "* DX = Factor (diagnosis number) \n",
    "* VISIT = date (the date of the visit)\n",
    "\n",
    "> As a good practice, adjust the columns in a dataframe to the correct class. Postpone this for some that you want to clean. i.e. Factors are easier manipulated as a string."
   ]
  },
  {
   "cell_type": "code",
   "execution_count": null,
   "metadata": {
    "collapsed": false,
    "deletable": true,
    "editable": true,
    "scrolled": true
   },
   "outputs": [],
   "source": [
    "# Dates formats are indicated as %y (short i.e. '09' or '9') or \n",
    "# %Y (long i.e. '2009'), %m (month as '04' or ; '4'), %d (day as '06' or '6').\n",
    "# Check out: how is the conversion of visit to a date with as.Date()\n",
    "as.Date(PD2$VISIT,format=\"%d-%m-%Y\")\n",
    "\n",
    "# Now really change the dataframe (by overwriting the column PD1$VISIT)\n",
    "# Include how the date should be read with 'format'.\n",
    "PD2$VISIT <- as.Date(PD2$VISIT,format=\"%d-%m-%Y\")\n",
    "\n",
    "# The number of days between the visits can be calculated. Only possible now, \n",
    "# with date format!\n",
    "diff(PD2$VISIT)\n"
   ]
  },
  {
   "cell_type": "code",
   "execution_count": null,
   "metadata": {
    "collapsed": false,
    "deletable": true,
    "editable": true
   },
   "outputs": [],
   "source": [
    "####### Assignment:\n",
    "# change the DX and AE column to the right type. Remove the # in the line below. Insert the right 'as.' comment.\n",
    "\n",
    "#PD2$DX <- as....(PD2$DX) \n",
    "#PD1$AE <- as....(PD1$AE)\n",
    "\n",
    "str(PD1)\n",
    "str(PD2)"
   ]
  },
  {
   "cell_type": "markdown",
   "metadata": {
    "collapsed": false,
    "deletable": true,
    "editable": true
   },
   "source": [
    "## Step 3. Integrate with other data\n",
    "Different sets on the same subjects can be integrated, always on the basis of a common identifier. The 'merge()' function is very handy. It enabels you to \n",
    "\n",
    "* keep only the data on common records/rows (all=FALSE) \n",
    "* all records/rows of one or the other file (all.x=TRUE, all.y=TRUE) \n",
    "* keep al records/rows of both files (all=TRUE) \n",
    "\n",
    "> As a good practice, do not overwrite the data objects that you've read in. Assign a new name to your working objects."
   ]
  },
  {
   "cell_type": "code",
   "execution_count": null,
   "metadata": {
    "collapsed": false,
    "deletable": true,
    "editable": true,
    "scrolled": true
   },
   "outputs": [],
   "source": [
    "####### Assignment:\n",
    "# For our dataset, we merge on the common identier 'PATNO'. We keep only the \n",
    "# patients for which there is data in both files. What 'all' option do you need \n",
    "# to keep only the common patients between the files? Remove the # in the line\n",
    "# below and provide the good answer.\n",
    "\n",
    "#Pdata <- merge(PD1,PD2,by=\"PATNO\",all....) \n",
    "\n",
    "# The file is small, in this case we can view it in total. This is done by just \n",
    "# writing 'Pdata'.\n",
    "Pdata\n",
    "\n",
    "# Question: How many rows and columns did the original files have? How many does\n",
    "# the new integrated file have? "
   ]
  },
  {
   "cell_type": "markdown",
   "metadata": {
    "collapsed": false,
    "deletable": true,
    "editable": true
   },
   "source": [
    "## Step 4. Subselections of the datafile\n",
    "For analyses, you might want to calculate with or view only a selected part of the file. From a dataframe it is easy to group data."
   ]
  },
  {
   "cell_type": "code",
   "execution_count": null,
   "metadata": {
    "collapsed": true
   },
   "outputs": [],
   "source": [
    "# take a random sample\n",
    "Pdata_random <- Pdata[sample(1:nrow(Pdata), 3, replace=FALSE),] \n",
    "Pdata_random"
   ]
  },
  {
   "cell_type": "code",
   "execution_count": null,
   "metadata": {
    "collapsed": true
   },
   "outputs": [],
   "source": [
    "# Give frequencies of AE value (1 and 8 occur at a different number: 4 and 3 times)\n",
    "table(Pdata$AE)\n",
    "# Give frequencies of AE value separate for GENDER\n",
    "table(Pdata$AE,Pdata$GENDER)\n",
    "# Give relative frequencies\n",
    "prop.table(table(Pdata$AE,Pdata$GENDER))"
   ]
  },
  {
   "cell_type": "code",
   "execution_count": null,
   "metadata": {
    "collapsed": false,
    "deletable": true,
    "editable": true,
    "scrolled": true
   },
   "outputs": [],
   "source": [
    "# Order the dataframe according to the heart rate\n",
    "Pdata[order(Pdata$HR),]\n",
    "\n",
    "###### QUESTION: is the Pdata really reordered according to heart rate? ##############"
   ]
  },
  {
   "cell_type": "code",
   "execution_count": null,
   "metadata": {
    "collapsed": false,
    "deletable": true,
    "editable": true
   },
   "outputs": [],
   "source": [
    "####### Assignment:\n",
    "\n",
    "# Order the dataframe according to date of visit.\n"
   ]
  },
  {
   "cell_type": "markdown",
   "metadata": {
    "collapsed": false,
    "deletable": true,
    "editable": true
   },
   "source": [
    "## Step 5. Organize data to your preference\n",
    "Sometimes there are obsolete columns in our data to delete, or alternatively columns to be added. Or we might want to represent the colums differently. \n",
    "\n",
    "\n",
    "\n",
    "For our datafile, we would like to have systolic and diastolic blood pressure added as two separate columns, removing the old. Then, we would like to compute the difference between these and also add it as a new column.\n"
   ]
  },
  {
   "cell_type": "code",
   "execution_count": null,
   "metadata": {
    "collapsed": false,
    "deletable": true,
    "editable": true
   },
   "outputs": [],
   "source": [
    "# For our datafile, we would like to have systolic and diastolic blood pressure\n",
    "# added as two separate columns, removing the old. Then, we would like to \n",
    "# compute the difference between these and also add it as a new column.\n",
    "\n",
    "# Not very easy! First separate SBP and DBP values by their underscore\n",
    "sepcol <- strsplit(Pdata$SBP_DBP,\"_\")\n",
    "str(sepcol)\n",
    "\n",
    "# the result is a list of character vectors. \n",
    "# Second step is to unlist, into a single long list.\n",
    "unlist(sepcol)\n",
    "\n",
    "# We want to convert that to a numeric matrix. \n",
    "# The matrix function enables us to define rows, columns, and how the matrix \n",
    "# should be filled (by row or by column).\n",
    "New <- matrix(unlist(sepcol), nrow = 7, ncol = 2, byrow=TRUE)\n",
    "\n",
    "colnames(New) <- c(\"SBP\",\"DBP\")\n",
    "\n",
    "# Make the values in the matrix numeric\n",
    "New <- apply(New,2,as.numeric)\n",
    "\n",
    "New"
   ]
  },
  {
   "cell_type": "code",
   "execution_count": null,
   "metadata": {
    "collapsed": false,
    "deletable": true,
    "editable": true
   },
   "outputs": [],
   "source": [
    "# now bind the rows to the dataframe.\n",
    "Pdatanew <- cbind(Pdata,New)\n",
    "\n",
    "# remove the old column\n",
    "Pdatanew <- Pdatanew[,!names(Pdatanew)==\"SBP_DBP\"]\n",
    "\n",
    "# Now we can finally calculate the difference between the two values! We add \n",
    "# that as a column too. Just indicate a new column name and assign the \n",
    "# calculated difference\n",
    "Pdatanew[,\"diff\"] <- Pdatanew$DBP-Pdatanew$SBP\n",
    "Pdatanew"
   ]
  },
  {
   "cell_type": "markdown",
   "metadata": {
    "collapsed": false,
    "deletable": true,
    "editable": true
   },
   "source": [
    "## Step 6. Make values consistent and within correct range\n",
    "\n",
    "How to address separate rows, columns, and values in a dataframe:\n",
    "\n",
    "* Pdata[rownumber,columnnumber] adresses a specific cell in the dataframe  \n",
    "* Pdata[rownumber, ] adresses a row \n",
    "* Pdata[ ,columnnumber] adresses a column \n",
    "* Pdata followed by a dollar sign also adresses a column, by name.\n",
    "* Pdata followed by a dollar sign and [instancenumber] adresses the cell in the column \n",
    "\n",
    "**ALIGN VOCABULARY.** We take GENDER for an example. For GENDER, we see some inconsistencies. We know in reality (for the larger part!) we have oly two sorts of gender: Male and Female. Spelling mistakes or abbreviations can lead to a number of names for these. We will calculate the difference of all varieties in the GENDER column to our default: Male and Female. This difference is calculated based on length, faulty characters, capital/lower case differences. For every instance of the GENDER column, we choose the nearest option (Male or Female). Checking every instance as such is a realistic option as there presumably will only be a limited number of instances by possible notations/mistakes.\n"
   ]
  },
  {
   "cell_type": "code",
   "execution_count": null,
   "metadata": {
    "collapsed": false,
    "deletable": true,
    "editable": true,
    "scrolled": false
   },
   "outputs": [],
   "source": [
    "# Check what GENDER column looks like.\n",
    "Pdatanew$GENDER\n",
    "\n",
    "# Set a character vector of example names\n",
    "codes<-c(\"Male\",\"Female\")\n",
    "codes\n",
    "\n",
    "D <- adist(Pdatanew$GENDER, codes)\n",
    "colnames(D) <- codes\n",
    "rownames(D) <- Pdatanew$GENDER\n",
    "\n",
    "# distances for all records\n",
    "D\n",
    "# On second thought, show only those varieties that are unique (this is \n",
    "# efficient; there is less to evaluate). The exclamation mark means 'not'.\n",
    "D[!duplicated(rownames(D)),]\n",
    "\n",
    "####### Assignment: \n",
    "\n",
    "# Does the code work or does it contain errors? Check if all varieties are \n",
    "# nearest to their intended name.\n",
    "\n"
   ]
  },
  {
   "cell_type": "code",
   "execution_count": null,
   "metadata": {
    "collapsed": false,
    "deletable": true,
    "editable": true
   },
   "outputs": [],
   "source": [
    "# This works for the most part, however with 'F' there is a mistake. \n",
    "# This is because there is a larger difference in word length with 'Female' \n",
    "# than with 'Male'. As a solution: Get all cells that contain 'F' in column 'GENDER'and replace \n",
    "# these by 'Female', in a newly made column. Repeat the distance calculation.\n",
    "\n",
    "Frepl<-grep(\"F\",Pdatanew$GENDER) \n",
    "Pdatanew$GENDER_CLEAN = Pdatanew$GENDER \n",
    "Pdatanew$GENDER_CLEAN[Frepl]<-\"Female\"\n",
    "\n",
    "\n",
    "\n",
    "D <- adist(Pdatanew$GENDER_CLEAN, codes)\n",
    "colnames(D) <- codes\n",
    "rownames(D) <- Pdatanew$GENDER\n",
    "\n",
    "# distances for every variety\n",
    "D[!duplicated(rownames(D)),]\n",
    "\n",
    "i <- apply(D, 1, which.min)\n",
    "\n",
    "# Change the column entries with the nearest codename. \n",
    "Pdatanew$GENDER_CLEAN<-codes[i]\n",
    "\n",
    "Pdatanew"
   ]
  },
  {
   "cell_type": "markdown",
   "metadata": {
    "collapsed": false,
    "deletable": true,
    "editable": true
   },
   "source": [
    "### CHECK VALUE RANGE.\n",
    "\n",
    "Also, we check if the values of all columns are within range and if not, we replace these with NA (not available) if we are not sure what the correct value is. Most operations in R can handle NA without crashing. na.omit() will let you remove all incomplete entries."
   ]
  },
  {
   "cell_type": "code",
   "execution_count": null,
   "metadata": {
    "collapsed": false,
    "deletable": true,
    "editable": true
   },
   "outputs": [],
   "source": [
    "max(Pdatanew$HR)\n",
    "min(Pdatanew$HR)\n",
    "\n",
    "# Heart rate should be anywhere from 40 to 100. \n",
    "paste('Mean heart rate : ', mean(Pdatanew$HR))\n",
    "\n",
    "####### Assignment:\n",
    "# Are all values reasonable in Pdata$HR?"
   ]
  },
  {
   "cell_type": "code",
   "execution_count": null,
   "metadata": {
    "collapsed": false,
    "deletable": true,
    "editable": true
   },
   "outputs": [],
   "source": [
    "# Values outside of the realistic range should be omitted.\n",
    "# Find cells that have unrealistic values!\n",
    "replaceNA <- which(Pdatanew$HR<40)\n",
    "Pdatanew$HR_CLEAN <- Pdatanew$HR\n",
    "Pdatanew$HR_CLEAN[replaceNA] <- NA\n",
    "\n",
    "Pdatanew$HR_CLEAN\n",
    "\n",
    "paste('Mean heart rate : ', mean(Pdatanew$HR_CLEAN,na.rm=TRUE))\n",
    "# Notice how the mean of the Heart Rate (HR) has changed before (cell above) \n",
    "# and after cleaning (this cell)!\n",
    "\n",
    "Pdatanew"
   ]
  },
  {
   "cell_type": "markdown",
   "metadata": {
    "collapsed": false,
    "deletable": true,
    "editable": true
   },
   "source": [
    "## Step 7. Plot the data for inspection\n",
    "It is always good to have a visual representation of your data, to see if you have missed anything. We will make a dot plot in R. The shape of the dots can be manipulated with 'pch'. The color with 'col'. Boxplot for outlier detection."
   ]
  },
  {
   "cell_type": "code",
   "execution_count": null,
   "metadata": {
    "collapsed": false,
    "deletable": true,
    "editable": true
   },
   "outputs": [],
   "source": [
    "# First some options for the size of the plot.\n",
    "options(repr.plot.width=6, repr.plot.height=5)\n",
    "\n",
    "# make a simple plot with the plot function\n",
    "plot(c(1:20),pch=1:20,col=1:20)"
   ]
  },
  {
   "cell_type": "code",
   "execution_count": null,
   "metadata": {
    "collapsed": false,
    "deletable": true,
    "editable": true,
    "scrolled": false
   },
   "outputs": [],
   "source": [
    "Pdatanew<-Pdatanew[order(Pdatanew$HR),]\n",
    "Pdata_plot<-na.omit(Pdatanew)\n",
    "\n",
    "cols <- ifelse(Pdata_plot$GENDER_CLEAN == \"Male\", \"red\",\"darkred\")\n",
    "\n",
    "\n",
    "# make a barplot and save it to variable x1\n",
    "x1 <- barplot(Pdata_plot$HR, # the data to plot\n",
    "              col=cols, \n",
    "              ylim=c(0,200),\n",
    "              xlab=\"Patient number\", \n",
    "              ylab=\"Heart rate\",\n",
    "              names.arg=Pdata_plot$PATNO) \n",
    "\n",
    "legend(0, 190, c(\"Male\", \"Female\"), col = c(\"red\",\"darkred\"), pch = c(15,15))\n",
    "\n",
    "Pdata_plot$GENDER_CLEAN<-as.factor(Pdata_plot$GENDER_CLEAN)\n",
    "\n",
    "boxplot(Pdata_plot$HR~Pdata_plot$GENDER_CLEAN,col=c(\"darkred\",\"red\"),ylab=\"Heart rate\")"
   ]
  },
  {
   "cell_type": "markdown",
   "metadata": {},
   "source": [
    "## Step 8. Make it yourself easy\n",
    "R has a large community of beginner and experienced users. Some members of the community develop so-called \"packages\" for base R. These packages are add-ons for R. These packages can make things easier for you. In this section, we use the package \"stringr\" to simplify the splitting of `Pdata$SBP_DBP`. "
   ]
  },
  {
   "cell_type": "code",
   "execution_count": null,
   "metadata": {
    "collapsed": false
   },
   "outputs": [],
   "source": [
    "# load the library (after it was installed)\n",
    "library(\"stringr\")\n",
    "\n",
    "# We do have access to new functions now. \n",
    "splitted_SBP_DBP <- str_split_fixed(Pdata$SBP_DBP, \"_\", 2) # 2: two parts after split\n",
    "colnames(splitted_SBP_DBP) <- c(\"SBP\", \"DBP\")\n",
    "\n",
    "# show the result\n",
    "splitted_SBP_DBP\n",
    "\n",
    "# bind the columns\n",
    "cbind(Pdata, splitted_SBP_DBP)"
   ]
  },
  {
   "cell_type": "markdown",
   "metadata": {
    "collapsed": false,
    "deletable": true,
    "editable": true
   },
   "source": [
    "# That's it! \n",
    "This is the end of this introduction. For the next part, we will go to RStudio and learn to work with this R script in that. We will practice good commenting practices there, so others (or you yourself, in two months time) can reuse your data easily. "
   ]
  }
 ],
 "metadata": {
  "anaconda-cloud": {},
  "kernelspec": {
   "display_name": "R",
   "language": "R",
   "name": "ir"
  },
  "language_info": {
   "codemirror_mode": "r",
   "file_extension": ".r",
   "mimetype": "text/x-r-source",
   "name": "R",
   "pygments_lexer": "r",
   "version": "3.3.2"
  }
 },
 "nbformat": 4,
 "nbformat_minor": 0
}
