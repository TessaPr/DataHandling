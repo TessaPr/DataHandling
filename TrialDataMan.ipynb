{
 "cells": [
  {
   "cell_type": "markdown",
   "metadata": {
    "collapsed": true
   },
   "source": [
    "# Data handling in R \n",
    "Preparing and cleaning data is an important step before actual analyses are done. Wrong data can adversely affect your outcome. This preparation can be more time consuming then doing the actual analyses. This workshop provides an introduction to handling raw data with R. This allows you to go from raw to clean data in a reproducible way. In this workshop we will handle some basic functionality. "
   ]
  },
  {
   "cell_type": "markdown",
   "metadata": {
    "collapsed": false
   },
   "source": [
    "## What is R?\n",
    "R is an open source language and environment for data handling, statistical computing and graphics. R can easily be extended by importing 'packages' for various functionalities or statistical techniques. Also self-made functions can be defined. This makes R a very versatile option. It can also handle larger amounts of data than, for instance, Excel."
   ]
  },
  {
   "cell_type": "markdown",
   "metadata": {
    "collapsed": false
   },
   "source": [
    "## Step 1. Import and check raw data\n",
    "To import data, always first set the path to where the data is. Then import the raw data into the R environment. For each data format (i.e. .txt, .csv) a different import function() is required. Any function() comes with different options for parameters, in this case on how exactly you want to import the data. The data will mostly be imported into a dataframe object. This can hold different types of data; all columns can be of a different type. This is in contrast to a matrix, or a vector, which can hold only one data type.\n",
    "\n",
    "The first thing you do after import is to check the data to see what you'll be working with. \n",
    "\n",
    "> As a good practice, first assess your dataframe. Use head(), str(), summary()"
   ]
  },
  {
   "cell_type": "code",
   "execution_count": 2,
   "metadata": {
    "collapsed": false
   },
   "outputs": [
   ],
   "source": [
    "# read.delim reads tab-delimited text files.\n",
    "# with '<-' we assign the data to a variable name, so you can refer to the data. \n",
    "# we read in two files here that are related, we'll work with these throughout this Jupyter notebook.\n",
    "\n",
    "PD1 <- read.delim(\"PatientDATA1.txt\", stringsAsFactors = FALSE )\n",
    "PD2 <- read.delim(\"PatientDATA2.txt\", stringsAsFactors = FALSE )\n",
    "\n",
    "####### Question: What happens if you do not assign the data to a variable name?\n",
    "\n",
    "# 'head' gives you the first 6 rows of the object.\n",
    "head(PD1)\n",
    "head(PD2)\n"
   ]
  },
  {
   "cell_type": "code",
   "execution_count": 3,
   "metadata": {
    "collapsed": false
   },
   "outputs": [
   ],
   "source": [
    "####### Assignment:\n",
    "\n",
    "# You've seen what head() does.\n",
    "# Now check out PatientDATA1 and PatientDATA2 more closely here with str() and summary() and dim()\n",
    "\n"
   ]
  },
  {
   "cell_type": "markdown",
   "metadata": {
    "collapsed": false
   },
   "source": [
    "## Step 2. Integrate with other data\n",
    "Different sets on the same subjects can be integrated, always on the basis of a common identifier. The 'merge()' function is very handy. It enabels you to \n",
    "\n",
    "* keep only the data on common records/rows (all=FALSE) \n",
    "* all records/rows of one or the other file (all.x=TRUE, all.y=TRUE) \n",
    "* keep al records/rows of both files (all=TRUE) \n",
    "\n",
    "> As a good practice, do not overwrite the data objects that you've read in. Assign a new name to your working objects."
   ]
  },
  {
   "cell_type": "code",
   "execution_count": 4,
   "metadata": {
    "collapsed": false,
    "scrolled": true
   },
   "outputs": [
   ],
   "source": [
    "####### Assignment:\n",
    "# For our dataset, we merge on the common identier 'PATNO'. We keep only the patients for which there is data in both files.\n",
    "# what 'all' option do you need to keep only the common patients between the files? Remove the # in the line below and provide the good answer.\n",
    "\n",
    "#Pdata<-merge(PD1,PD2,by=\"PATNO\",all..... ) \n",
    "\n",
    "\n",
    "# The file is small, in this case we can view it in total. This is done by just writing 'Pdata'.\n",
    "Pdata\n",
    "\n",
    "# Question: How many rows and columns did the original files have? How many does the new integrated file have? "
   ]
  },
  {
   "cell_type": "markdown",
   "metadata": {
    "collapsed": false
   },
   "source": [
    "## Step 3. Change the data classes to appropriate ones\n",
    "All data belong to one or another class. \n",
    "Each class has its own possibilities for analyses, and associated permitted values (value domain). This will help check if the data is correct. For instance, 'two' is not a permitted value for a numeric class type, '2' is. Similarly, you cannot (and should not) calculate with Factors. So having assigned the correct class prevents mistakes.\n",
    "\n",
    "Common classes of data that are supported in R are: \n",
    "* character (for text)\n",
    "* factor (for categorical)\n",
    "* numeric and integer (for numerical)\n",
    "* date (for dates) \n",
    "* logical (either true or false) \n",
    "\n",
    "Convert each data column to the correct class. If a numeric is not intended for calculations such as the patient number, it should be a factor. For the date, we want to convert this into the international standard (year, month, day). These are indicated as %y (for short notation i.e. '16') or %Y (for long notation i.e. '2016'), %m, %d.\n",
    "* PATNO = Factor (patient ID)\n",
    "* GENDER = Factor (male or female)  \n",
    "* HR = Numeric (heart rate)\n",
    "* SBP_DBP = Numeric (systolic_diastolic blood pressure)\n",
    "* AE = Factor (got medicine yes/no)\n",
    "* DX = Factor (diagnosis number) \n",
    "* VISIT = date (the date of the visit)\n",
    "\n",
    "> As a good practice, adjust the columns in a dataframe to the correct class. Postpone this for some that you want to clean. i.e. Factors are easily manipulated as a string."
   ]
  },
  {
   "cell_type": "code",
   "execution_count": 0,
   "metadata": {
    "collapsed": false,
    "scrolled": true
   },
   "outputs": [
   ],
   "source": [
    "dim(Pdata)\n",
    "str(Pdata)\n",
    "\n",
    "\n",
    "# Dates formats are indicated as %y (short i.e. '09' or '9') or %Y (long i.e. '2009'), %m (month as '04' or ; '4'), %d (day as '06' or '6').\n",
    "# check out: how is the conversion of visit to a date with as.date()\n",
    "as.Date(Pdata$VISIT,format=\"%d-%m-%Y\")\n",
    "\n",
    "# now really change the datafile\n",
    "Pdata$VISIT<-as.Date(Pdata$VISIT,format=\"%d-%m-%Y\")\n",
    "\n",
    "# the number of days between the visits can be calculated. Only possible now, with date format!\n",
    "diff(Pdata$VISIT)\n",
    "\n",
    "Pdata$PATNO <-as.factor(Pdata$PATNO) \n",
    "Pdata$AE <-as.factor(Pdata$AE)\n",
    "str(Pdata)"
   ]
  },
  {
   "cell_type": "code",
   "execution_count": 0,
   "metadata": {
    "collapsed": false
   },
   "outputs": [
   ],
   "source": [
    "####### Assignment:\n",
    "# are all columns converted to a correct data type? Check the str() outcome above.\n",
    "# change the DX column to the right type. Remove the # in the line below. Insert the right 'as.' comment.\n",
    "\n",
    "#Pdata$DX <-as....(Pdata$DX) "
   ]
  },
  {
   "cell_type": "markdown",
   "metadata": {
    "collapsed": false
   },
   "source": [
    "## Step 4. Make values consistent and within correct range\n",
    "\n",
    "How to address separate rows, columns, and values in a dataframe:\n",
    "\n",
    "* Pdata[rownumber,columnnumber] adresses a specific cell in the dataframe  \n",
    "* Pdata[rownumber, ] adresses a row \n",
    "* Pdata[ ,columnnumber] adresses a column \n",
    "* Pdata followed by a dollar sign also adresses a column, by name.\n",
    "* Pdata followed by a dollar sign and [instancenumber] adresses the value in a list \n",
    "\n",
    "**ALIGN VOCABULARY.** We take GENDER for an example. For GENDER, we see some inconsistencies. We know in reality (for the larger part!) we have oly two sorts of gender: Male and Female. Spelling mistakes or abbreviations can lead to a number of names for these. We will calculate the difference of all varieties in the GENDER column to our default: Male and Female. This difference is calculated based on length, faulty characters, capital/lower case differences. For every instance of the GENDER column, we choose the nearest option (Male or Female). Checking every instance as such is a realistic option as there presumably will only be a limited number of instances by possible notations/mistakes.\n"
   ]
  },
  {
   "cell_type": "code",
   "execution_count": 5,
   "metadata": {
    "collapsed": false,
    "scrolled": true
   },
   "outputs": [
   ],
   "source": [
    "# Check what GENDER column looks like.\n",
    "Pdata$GENDER\n",
    "\n",
    "# Set a character vector of example names\n",
    "codes<-c(\"Male\",\"Female\")\n",
    "codes\n",
    "\n",
    "D <- adist(Pdata$GENDER, codes)\n",
    "colnames(D) <- codes\n",
    "rownames(D) <- Pdata$GENDER\n",
    "\n",
    "# distances for all records\n",
    "D\n",
    "# On second thought, show only those varieties that are unique (this is efficient; there is less to evaluate)\n",
    "# the exclamation mark means 'not'.\n",
    "D[!duplicated(rownames(D)),]\n",
    "\n",
    "####### Assignment: \n",
    "\n",
    "# Does the code work or does it contain errors? Check if all varieties are nearest to their intended name.\n",
    "\n"
   ]
  },
  {
   "cell_type": "code",
   "execution_count": 0,
   "metadata": {
    "collapsed": false
   },
   "outputs": [
   ],
   "source": [
    "# This works for the most part, however with 'F' there is a mistake. \n",
    "# This is because there is a larger difference in word length with 'Female' than with 'Male'.\n",
    "# As a solution: Get all words that contain 'F' and replace these by 'Female'. Repeat the distance calculation.\n",
    "\n",
    "Frepl<-grep(\"F\",Pdata$GENDER)#<-\"Female\" # do the same for female!\n",
    "Pdata$GENDER[Frepl]<-\"Female\"\n",
    "\n",
    "D <- adist(Pdata$GENDER, codes)\n",
    "colnames(D) <- codes\n",
    "rownames(D) <- Pdata$GENDER\n",
    "\n",
    "# distances for every variety\n",
    "D[!duplicated(rownames(D)),]\n",
    "\n",
    "i <- apply(D, 1, which.min)\n",
    "\n",
    "# Change the column entries with the nearest codename. \n",
    "Pdata$GENDER<-codes[as.numeric(i)]\n",
    "\n",
    "Pdata"
   ]
  },
  {
   "cell_type": "markdown",
   "metadata": {
    "collapsed": false
   },
   "source": [
    "**CHECK VALUE RANGE.** Also, we check if the values of all columns are within range and if not, we replace these with NA (not available) if we are not sure what the correct value is. Most operations in R can handle NA without crashing. na.omit() will let you remove all incomplete entries."
   ]
  },
  {
   "cell_type": "code",
   "execution_count": 0,
   "metadata": {
    "collapsed": false
   },
   "outputs": [
   ],
   "source": [
    "# Heart rate should be anywhere from 40 to 100. \n",
    "mean(Pdata$HR)\n",
    "\n",
    "max(Pdata$HR)\n",
    "min(Pdata$HR)\n",
    "\n",
    "####### Assignment:\n",
    "# Are all values reasonable in Pdata$HR?"
   ]
  },
  {
   "cell_type": "code",
   "execution_count": 0,
   "metadata": {
    "collapsed": false
   },
   "outputs": [
   ],
   "source": [
    "# Values outside of the realistic range should be omitted. \n",
    "replaceNA<-which(Pdata$HR<40)\n",
    "Pdata$HR[replaceNA]<-NA\n",
    "\n",
    "Pdata$HR\n",
    "\n",
    "mean(Pdata$HR,na.rm=TRUE)\n",
    "# Notice how the mean of the Heart Rate (HR) has changed before (cell above) and after cleaning (this cell)!"
   ]
  },
  {
   "cell_type": "markdown",
   "metadata": {
    "collapsed": false
   },
   "source": [
    "## Step 5. Organize data to your preference\n",
    "Sometimes there are obsolete columns in our data to delete, or alternatively columns to be added. Or we might want to represent the colums differently. \n",
    "\n",
    "\n",
    "\n",
    "For our datafile, we would like to have systolic and diastolic blood pressure added as two separate columns, removing the old. Then, we would like to compute the difference between these and also add it as a new column.\n"
   ]
  },
  {
   "cell_type": "code",
   "execution_count": 0,
   "metadata": {
    "collapsed": false
   },
   "outputs": [
   ],
   "source": [
    "# For our datafile, we would like to have systolic and diastolic blood pressure added as two separate columns, removing the old. \n",
    "# Then, we would like to compute the difference between these and also add it as a new column.\n",
    "\n",
    "# Not very easy! First separate SBP and DBP values by their underscore\n",
    "sepcol<-strsplit(Pdata$SBP_DBP,\"_\")\n",
    "str(sepcol)\n",
    "\n",
    "# the result is a list of character vectors. \n",
    "# Second step is to unlist, into a single long list.\n",
    "unlist(sepcol)\n",
    "\n",
    "# We want to convert that to a numeric matrix. \n",
    "# The matrix function enables us to define rows, columns, and how the matrix should be filled (by row or by column).\n",
    "New<-matrix(unlist(sepcol), nrow = 7, ncol = 2, byrow=TRUE)\n",
    "\n",
    "colnames(New)<-c(\"SBP\",\"DBP\")\n",
    "\n",
    "# Make the values in the matrix numeric\n",
    "New <- apply(New,2,as.numeric)\n",
    "\n",
    "New"
   ]
  },
  {
   "cell_type": "code",
   "execution_count": 11,
   "metadata": {
    "collapsed": false
   },
   "outputs": [
   ],
   "source": [
    "# now bind the rows to the dataframe.\n",
    "Pdatanew<-cbind(Pdata,New)\n",
    "\n",
    "# remove the old column\n",
    "Pdatanew<-Pdatanew[,!names(Pdatanew)==\"SBP_DBP\"]\n",
    "\n",
    "# Now we can finally calculate the difference between the two values! We add that as a column too.\n",
    "# Just indicate a new column name and assign the calculated difference\n",
    "Pdatanew[,\"diff\"] <- Pdatanew$DBP-Pdatanew$SBP\n",
    "Pdatanew"
   ]
  },
  {
   "cell_type": "markdown",
   "metadata": {
    "collapsed": false
   },
   "source": [
    "## Step 6. Subselections of the datafile\n",
    "For analyses, you might want to calculate with only a selected part of the file. From a dataframe it is easy to group data."
   ]
  },
  {
   "cell_type": "code",
   "execution_count": 12,
   "metadata": {
    "collapsed": false
   },
   "outputs": [
   ],
   "source": [
    "# create a subset from observations on Male subjects that have a heart rate larger than 50 bpm.\n",
    "newdata1 <- subset(Pdatanew, GENDER==\"Male\" & HR > 50)\n",
    "newdata1\n",
    "\n",
    "# don't mind this code: it prevents an error message specific to jupyter.\n",
    "options(jupyter.display_mimetypes = 'text/plain')\n",
    "\n",
    "# split the dataframe into a list of smaller dataframes)\n",
    "split(Pdatanew,f=list(Pdatanew$AE,Pdatanew$DX) ,drop=TRUE)\n",
    "\n",
    "# take a random sample\n",
    "newdata2<- Pdatanew[sample(1:nrow(Pdatanew), 3, replace=FALSE),] \n",
    "cat(\"A random sample\")\n",
    "newdata2\n",
    "\n",
    "# Give frequencies of AE value\n",
    "table(Pdatanew$AE)\n",
    "# Give frequencies of AE value separate for GENDER\n",
    "table(Pdatanew$AE,Pdatanew$GENDER)\n",
    "# Give relative frequencies\n",
    "prop.table(table(Pdatanew$AE,Pdatanew$GENDER))\n",
    "\n",
    "# Order the dataframe according to the heart rate\n",
    "Pdatanew[order(Pdatanew$HR),]"
   ]
  },
  {
   "cell_type": "code",
   "execution_count": 13,
   "metadata": {
    "collapsed": false
   },
   "outputs": [
   ],
   "source": [
    "####### Assignment:\n",
    "# Make a subset of all patients with an AE of 8\n",
    "\n",
    "####### Assignment:\n",
    "# Order the dataframe according to date of visit."
   ]
  },
  {
   "cell_type": "markdown",
   "metadata": {
    "collapsed": false
   },
   "source": [
    "## Step 7. Plot the data for inspection\n",
    "It is always good to have a visual representation of your data, to see if you have missed anything. We will make a dot plot in R. The shape of the dots can be manipulated with 'pch'. The color with 'col'. Boxplot for outlier detection."
   ]
  },
  {
   "cell_type": "code",
   "execution_count": 14,
   "metadata": {
    "collapsed": false
   },
   "outputs": [
   ],
   "source": [
    "# First some options for the size of the plot.\n",
    "options(repr.plot.width=7, repr.plot.height=6)\n",
    "\n",
    "Pdatanew<-Pdatanew[order(Pdatanew$HR),]\n",
    "Pdatanew<-na.omit(Pdatanew)\n",
    "\n",
    "cols <- ifelse(Pdatanew$GENDER == \"Male\", \"red\",\"darkred\")\n",
    "\n",
    "plot(c(1:20),pch=1:20,col=1:20)\n",
    "\n",
    "\n",
    "x1<-barplot(Pdatanew$HR, col=cols,ylim=c(0,200),xlab=\"Patient number\", ylab=\"Heart rate\",names.arg=Pdatanew$PATNO) #change the shape to triangles\n",
    "points(Pdatanew$SBP~x1, col=cols, pch=15)\n",
    "points(Pdatanew$DBP~x1, col=cols, pch=16)\n",
    "\n",
    "legend(0, 190, c(\"Male\", \"Female\"), col = c(\"red\",\"darkred\"), pch = c(15,15), cex=0.8)\n",
    "legend(0, 160, c(\"HR\", \"SBP\",\"DBP\"), col = \"black\", pch = c(15,11,10), cex=0.8)\n",
    "\n",
    "Pdatanew$GENDER<-as.factor(Pdatanew$GENDER)\n",
    "\n",
    "boxplot(Pdatanew$HR~Pdatanew$GENDER,col=c(\"darkred\",\"red\"),ylab=\"Heart rate\")\n"
   ]
  },
  {
   "cell_type": "markdown",
   "metadata": {
    "collapsed": false
   },
   "source": [
    "# That's it! \n",
    "This is the end of this introduction. For the next part, we will go to RStudio and learn to work with this R script in that. We will practice good commenting practices there, so others (or you yourself, in two months time) can reuse your data easily. "
   ]
  }
 ],
 "metadata": {
  "kernelspec": {
   "display_name": "R (R-Project)",
   "language": "r",
   "name": "ir"
  },
  "language_info": {
   "codemirror_mode": "r",
   "file_extension": ".r",
   "mimetype": "text/x-r-source",
   "name": "R",
   "pygments_lexer": "r",
   "version": "3.3.2"
  }
 },
 "nbformat": 4,
 "nbformat_minor": 0
}