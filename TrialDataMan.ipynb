{
 "cells": [
  {
   "cell_type": "markdown",
   "metadata": {
    "collapsed": true
   },
   "source": [
    "# Data handling in R \n",
    "Preparing and cleaning data is an important step before actual analyses are done. Wrong data can adversely affect your outcome. This preparation can be more time consuming then doing the actual analyses. This workshop provides an introduction to handling raw data with R. This allows you to go from raw to clean data in a reproducible way. In this workshop we will handle some basic functionality. "
   ]
  },
  {
   "cell_type": "markdown",
   "metadata": {},
   "source": [
    "## What is R?\n",
    "R is an open source language and environment for data handling, statistical computing and graphics. R can easily be extended by importing 'packages' for various functionalities or statistical techniques. Also self-made functions can be defined. This makes R a very versatile option. It can also handle larger amounts of data than, for instance, Excel."
   ]
  },
  {
   "cell_type": "markdown",
   "metadata": {},
   "source": [
    "## Step 1. Import and check raw data\n",
    "To import data, always first set the path to where the data is. Then import the raw data into the R environment. For each data format (i.e. .txt, .csv) a different import function() is required. Any function() comes with different options for parameters, in this case on how exactly you want to import the data. The data will mostly be imported into a dataframe object. This can hold different types of data; all columns can be of a different type. This is in contrast to a matrix, or a vector, which can hold only one data type.\n",
    "\n",
    "The first thing you do after import is to check the data to see what you'll be working with. \n",
    "\n",
    "> As a good practice, first assess your dataframe. Use head(), str(), summary()"
   ]
  },
  {
   "cell_type": "code",
   "execution_count": 1,
   "metadata": {
    "collapsed": false
   },
   "outputs": [
    {
     "data": {
      "text/html": [
       "<table>\n",
       "<thead><tr><th></th><th scope=col>PATNO</th><th scope=col>GENDER</th><th scope=col>HR</th><th scope=col>SBP_DBP</th><th scope=col>AE</th></tr></thead>\n",
       "<tbody>\n",
       "\t<tr><th scope=row>1</th><td>3456</td><td>Male</td><td>40</td><td>80_120</td><td>8</td></tr>\n",
       "\t<tr><th scope=row>2</th><td>8765</td><td>Female</td><td>56</td><td>120_190</td><td>1</td></tr>\n",
       "\t<tr><th scope=row>3</th><td>987</td><td>Male</td><td>77</td><td>110_180</td><td>8</td></tr>\n",
       "\t<tr><th scope=row>4</th><td>7372</td><td>m</td><td>56</td><td>134_154</td><td>1</td></tr>\n",
       "\t<tr><th scope=row>5</th><td>8742</td><td>F</td><td>89</td><td>88_108</td><td>1</td></tr>\n",
       "\t<tr><th scope=row>6</th><td>4321</td><td>feminin</td><td>4</td><td>103_190</td><td>1</td></tr>\n",
       "</tbody>\n",
       "</table>\n"
      ],
      "text/latex": [
       "\\begin{tabular}{r|lllll}\n",
       "  & PATNO & GENDER & HR & SBP_DBP & AE\\\\\n",
       "\\hline\n",
       "\t1 & 3456 & Male & 40 & 80_120 & 8\\\\\n",
       "\t2 & 8765 & Female & 56 & 120_190 & 1\\\\\n",
       "\t3 & 987 & Male & 77 & 110_180 & 8\\\\\n",
       "\t4 & 7372 & m & 56 & 134_154 & 1\\\\\n",
       "\t5 & 8742 & F & 89 & 88_108 & 1\\\\\n",
       "\t6 & 4321 & feminin & 4 & 103_190 & 1\\\\\n",
       "\\end{tabular}\n"
      ],
      "text/plain": [
       "  PATNO  GENDER HR SBP_DBP AE\n",
       "1  3456    Male 40  80_120  8\n",
       "2  8765  Female 56 120_190  1\n",
       "3   987    Male 77 110_180  8\n",
       "4  7372       m 56 134_154  1\n",
       "5  8742       F 89  88_108  1\n",
       "6  4321 feminin  4 103_190  1"
      ]
     },
     "execution_count": 1,
     "metadata": {},
     "output_type": "execute_result"
    },
    {
     "data": {
      "text/html": [
       "<table>\n",
       "<thead><tr><th></th><th scope=col>PATNO</th><th scope=col>DX</th><th scope=col>VISIT</th></tr></thead>\n",
       "<tbody>\n",
       "\t<tr><th scope=row>1</th><td>541</td><td>12</td><td>2-3-2016</td></tr>\n",
       "\t<tr><th scope=row>2</th><td>8765</td><td>34</td><td>9-8-2015</td></tr>\n",
       "\t<tr><th scope=row>3</th><td>7654</td><td>34</td><td>17-4-2016</td></tr>\n",
       "\t<tr><th scope=row>4</th><td>3456</td><td>39</td><td>23-4-2016</td></tr>\n",
       "\t<tr><th scope=row>5</th><td>987</td><td>12</td><td>11-12-2015</td></tr>\n",
       "\t<tr><th scope=row>6</th><td>452</td><td>39</td><td>04-12-2015</td></tr>\n",
       "</tbody>\n",
       "</table>\n"
      ],
      "text/latex": [
       "\\begin{tabular}{r|lll}\n",
       "  & PATNO & DX & VISIT\\\\\n",
       "\\hline\n",
       "\t1 & 541 & 12 & 2-3-2016\\\\\n",
       "\t2 & 8765 & 34 & 9-8-2015\\\\\n",
       "\t3 & 7654 & 34 & 17-4-2016\\\\\n",
       "\t4 & 3456 & 39 & 23-4-2016\\\\\n",
       "\t5 & 987 & 12 & 11-12-2015\\\\\n",
       "\t6 & 452 & 39 & 04-12-2015\\\\\n",
       "\\end{tabular}\n"
      ],
      "text/plain": [
       "  PATNO DX      VISIT\n",
       "1   541 12   2-3-2016\n",
       "2  8765 34   9-8-2015\n",
       "3  7654 34  17-4-2016\n",
       "4  3456 39  23-4-2016\n",
       "5   987 12 11-12-2015\n",
       "6   452 39 04-12-2015"
      ]
     },
     "execution_count": 1,
     "metadata": {},
     "output_type": "execute_result"
    }
   ],
   "source": [
    "# read.delim reads tab-delimited text files.\n",
    "# with '<-' we assign the data to a variable name, so you can refer to the data. \n",
    "# we read in two files here that are related, we'll work with these throughout this Jupyter notebook.\n",
    "\n",
    "PD1 <- read.delim(\"PatientDATA1.txt\", stringsAsFactors = FALSE )\n",
    "PD2 <- read.delim(\"PatientDATA2.txt\", stringsAsFactors = FALSE )\n",
    "\n",
    "# Question: What happens if you do not assign the data to a variable name?\n",
    "\n",
    "# 'head' gives you the first 6 rows of the object.\n",
    "head(PD1)\n",
    "head(PD2)\n"
   ]
  },
  {
   "cell_type": "code",
   "execution_count": 2,
   "metadata": {
    "collapsed": true
   },
   "outputs": [],
   "source": [
    "####### Assignment:\n",
    "\n",
    "# You've seen what head() does.\n",
    "# With str() and summary() you can already have a peak at how 'clean' or 'faulty' your data is.\n",
    "# Now check out PatientDATA1 and PatientDATA2 more closely here with str() and summary() and dim()\n",
    "\n"
   ]
  },
  {
   "cell_type": "markdown",
   "metadata": {},
   "source": [
    "## Step 2. Integrate with other data\n",
    "Different sets on the same subjects can be integrated, always on the basis of a common identifier. The 'merge()' function is very handy. It enabels you to \n",
    "\n",
    "* keep only the data on common records/rows (all=FALSE) \n",
    "* all records/rows of one or the other file (all.x=TRUE, all.y=TRUE) \n",
    "* keep al records/rows of both files (all=TRUE) \n",
    "\n",
    "> As a good practice, do not overwrite the data objects that you've read in. Assign a new name to your working objects."
   ]
  },
  {
   "cell_type": "code",
   "execution_count": 3,
   "metadata": {
    "collapsed": false,
    "scrolled": true
   },
   "outputs": [
    {
     "data": {
      "text/html": [
       "<table>\n",
       "<thead><tr><th></th><th scope=col>PATNO</th><th scope=col>GENDER</th><th scope=col>HR</th><th scope=col>SBP_DBP</th><th scope=col>AE</th><th scope=col>DX</th><th scope=col>VISIT</th></tr></thead>\n",
       "<tbody>\n",
       "\t<tr><th scope=row>1</th><td>452</td><td>Mal</td><td>91</td><td>96_180</td><td>8</td><td>39</td><td>04-12-2015</td></tr>\n",
       "\t<tr><th scope=row>2</th><td>987</td><td>Male</td><td>77</td><td>110_180</td><td>8</td><td>12</td><td>11-12-2015</td></tr>\n",
       "\t<tr><th scope=row>3</th><td>3456</td><td>Male</td><td>40</td><td>80_120</td><td>8</td><td>39</td><td>23-4-2016</td></tr>\n",
       "\t<tr><th scope=row>4</th><td>4321</td><td>feminin</td><td>4</td><td>103_190</td><td>1</td><td>12</td><td>7-2-2016</td></tr>\n",
       "\t<tr><th scope=row>5</th><td>7372</td><td>m</td><td>56</td><td>134_154</td><td>1</td><td>12</td><td>11-8-2016</td></tr>\n",
       "\t<tr><th scope=row>6</th><td>8742</td><td>F</td><td>89</td><td>88_108</td><td>1</td><td>12</td><td>8-1-2016</td></tr>\n",
       "\t<tr><th scope=row>7</th><td>8765</td><td>Female</td><td>56</td><td>120_190</td><td>1</td><td>34</td><td>9-8-2015</td></tr>\n",
       "</tbody>\n",
       "</table>\n"
      ],
      "text/latex": [
       "\\begin{tabular}{r|lllllll}\n",
       "  & PATNO & GENDER & HR & SBP_DBP & AE & DX & VISIT\\\\\n",
       "\\hline\n",
       "\t1 & 452 & Mal & 91 & 96_180 & 8 & 39 & 04-12-2015\\\\\n",
       "\t2 & 987 & Male & 77 & 110_180 & 8 & 12 & 11-12-2015\\\\\n",
       "\t3 & 3456 & Male & 40 & 80_120 & 8 & 39 & 23-4-2016\\\\\n",
       "\t4 & 4321 & feminin & 4 & 103_190 & 1 & 12 & 7-2-2016\\\\\n",
       "\t5 & 7372 & m & 56 & 134_154 & 1 & 12 & 11-8-2016\\\\\n",
       "\t6 & 8742 & F & 89 & 88_108 & 1 & 12 & 8-1-2016\\\\\n",
       "\t7 & 8765 & Female & 56 & 120_190 & 1 & 34 & 9-8-2015\\\\\n",
       "\\end{tabular}\n"
      ],
      "text/plain": [
       "  PATNO  GENDER HR SBP_DBP AE DX      VISIT\n",
       "1   452     Mal 91  96_180  8 39 04-12-2015\n",
       "2   987    Male 77 110_180  8 12 11-12-2015\n",
       "3  3456    Male 40  80_120  8 39  23-4-2016\n",
       "4  4321 feminin  4 103_190  1 12   7-2-2016\n",
       "5  7372       m 56 134_154  1 12  11-8-2016\n",
       "6  8742       F 89  88_108  1 12   8-1-2016\n",
       "7  8765  Female 56 120_190  1 34   9-8-2015"
      ]
     },
     "execution_count": 3,
     "metadata": {},
     "output_type": "execute_result"
    }
   ],
   "source": [
    "####### Assignment:\n",
    "# For our dataset, we merge on the common identier 'PATNO'. We keep only the patients for which there is data in both files.\n",
    "# what 'all' option do you need to keep only the common patients between the files?\n",
    "\n",
    "#Pdata<-merge(PD1,PD2,by=\"PATNO\",all..... ) \n",
    "\n",
    "Pdata<-merge(PD1,PD2,by=\"PATNO\",all=FALSE ) \n",
    "\n",
    "# The file is small, in this case we can view it in total. This is done by just writing 'Pdata'.\n",
    "Pdata\n",
    "\n",
    "# Question: How many rows and columns did the original files have? How many does the new integrated file have? "
   ]
  },
  {
   "cell_type": "markdown",
   "metadata": {},
   "source": [
    "## Step 3. Change the data classes to appropriate ones\n",
    "All data belong to one or another class. \n",
    "Each class has its own possibilities for analyses, and associated permitted values (value domain). This will help check if the data is correct. For instance, 'two' is not a permitted value for a numeric class type, '2' is. Similarly, you cannot (and should not) calculate with Factors. So having assigned the correct class prevents mistakes.\n",
    "\n",
    "Common classes of data that are supported in R are: \n",
    "* character (for text)\n",
    "* factor (for categorical)\n",
    "* numeric and integer (for numerical)\n",
    "* date (for dates) \n",
    "* logical (either true or false) \n",
    "\n",
    "Convert each data column to the correct class. If a numeric is not intended for calculations such as the patient number, it should be a factor. For the date, we want to convert this into the international standard (year, month, day). These are indicated as %y (for short notation i.e. '16') or %Y (for long notation i.e. '2016'), %m, %d.\n",
    "* PATNO = Factor (patient ID)\n",
    "* GENDER = Factor (male or female)  \n",
    "* HR = Numeric (heart rate)\n",
    "* SBP_DBP = Numeric (systolic_diastolic blood pressure)\n",
    "* AE = Factor (got medicine yes/no)\n",
    "* DX = Factor (diagnosis number) \n",
    "* VISIT = date (the date of the visit)\n",
    "\n",
    "> As a good practice, adjust the columns in a dataframe to the correct class. Postpone this for some that you want to clean. i.e. Factors are easily manipulated as a string."
   ]
  },
  {
   "cell_type": "code",
   "execution_count": 4,
   "metadata": {
    "collapsed": false,
    "scrolled": true
   },
   "outputs": [
    {
     "data": {
      "text/html": [
       "<ol class=list-inline>\n",
       "\t<li>7</li>\n",
       "\t<li>7</li>\n",
       "</ol>\n"
      ],
      "text/latex": [
       "\\begin{enumerate*}\n",
       "\\item 7\n",
       "\\item 7\n",
       "\\end{enumerate*}\n"
      ],
      "text/markdown": [
       "1. 7\n",
       "2. 7\n",
       "\n",
       "\n"
      ],
      "text/plain": [
       "[1] 7 7"
      ]
     },
     "execution_count": 4,
     "metadata": {},
     "output_type": "execute_result"
    },
    {
     "name": "stdout",
     "output_type": "stream",
     "text": [
      "'data.frame':\t7 obs. of  7 variables:\n",
      " $ PATNO  : int  452 987 3456 4321 7372 8742 8765\n",
      " $ GENDER : chr  \"Mal\" \"Male\" \"Male\" \"feminin\" ...\n",
      " $ HR     : int  91 77 40 4 56 89 56\n",
      " $ SBP_DBP: chr  \"96_180\" \"110_180\" \"80_120\" \"103_190\" ...\n",
      " $ AE     : int  8 8 8 1 1 1 1\n",
      " $ DX     : int  39 12 39 12 12 12 34\n",
      " $ VISIT  : chr  \"04-12-2015\" \"11-12-2015\" \"23-4-2016\" \"7-2-2016\" ...\n"
     ]
    },
    {
     "data": {
      "text/plain": [
       "[1] \"2015-12-04\" \"2015-12-11\" \"2016-04-23\" \"2016-02-07\" \"2016-08-11\"\n",
       "[6] \"2016-01-08\" \"2015-08-09\""
      ]
     },
     "execution_count": 4,
     "metadata": {},
     "output_type": "execute_result"
    },
    {
     "data": {
      "text/plain": [
       "Time differences in days\n",
       "[1]    7  134  -76  186 -216 -152"
      ]
     },
     "execution_count": 4,
     "metadata": {},
     "output_type": "execute_result"
    },
    {
     "name": "stdout",
     "output_type": "stream",
     "text": [
      "'data.frame':\t7 obs. of  7 variables:\n",
      " $ PATNO  : Factor w/ 7 levels \"452\",\"987\",\"3456\",..: 1 2 3 4 5 6 7\n",
      " $ GENDER : chr  \"Mal\" \"Male\" \"Male\" \"feminin\" ...\n",
      " $ HR     : int  91 77 40 4 56 89 56\n",
      " $ SBP_DBP: chr  \"96_180\" \"110_180\" \"80_120\" \"103_190\" ...\n",
      " $ AE     : Factor w/ 2 levels \"1\",\"8\": 2 2 2 1 1 1 1\n",
      " $ DX     : int  39 12 39 12 12 12 34\n",
      " $ VISIT  : Date, format: \"2015-12-04\" \"2015-12-11\" ...\n"
     ]
    }
   ],
   "source": [
    "dim(Pdata)\n",
    "str(Pdata)\n",
    "\n",
    "\n",
    "# Dates formats are indicated as %y (short i.e. '09' or '9') or %Y (long i.e. '2009'), %m (month as '04' or ; '4'), %d (day as '06' or '6').\n",
    "# check out: how is the conversion of visit to a date with as.date()\n",
    "as.Date(Pdata$VISIT,format=\"%d-%m-%Y\")\n",
    "\n",
    "# now really change the datafile\n",
    "Pdata$VISIT<-as.Date(Pdata$VISIT,format=\"%d-%m-%Y\")\n",
    "\n",
    "# the number of days between the visits can be calculated. Only possible now, with date format!\n",
    "diff(Pdata$VISIT)\n",
    "\n",
    "Pdata$PATNO <-as.factor(Pdata$PATNO) \n",
    "Pdata$AE <-as.factor(Pdata$AE)\n",
    "str(Pdata)"
   ]
  },
  {
   "cell_type": "code",
   "execution_count": 5,
   "metadata": {
    "collapsed": true
   },
   "outputs": [],
   "source": [
    "####### Assignment:\n",
    "# are all columns converted to a correct data type? Check the str() outcome above.\n",
    "# change the DX column to the right type.\n",
    "\n",
    "Pdata$DX <-as.factor(Pdata$DX) "
   ]
  },
  {
   "cell_type": "markdown",
   "metadata": {},
   "source": [
    "## Step 4. Make values consistent and within correct range\n",
    "\n",
    "How to address separate rows, columns, and values in a dataframe:\n",
    "\n",
    "* Pdata[rownumber,columnnumber] adresses a specific cell in the dataframe  \n",
    "* Pdata[rownumber, ] adresses a row \n",
    "* Pdata[ ,columnnumber] adresses a column \n",
    "* Pdata'$'label also adresses a column, by name.\n",
    "* Pdata$label[instancenumber] adresses the value in a list \n",
    "\n",
    "**ALIGN VOCABULARY.** We take GENDER for an example. For GENDER, we see some inconsistencies. We know in reality (for the larger part!) we have oly two sorts of gender: Male and Female. Spelling mistakes or abbreviations can lead to a number of names for these. We will calculate the difference of all varieties in the GENDER column to our default: Male and Female. This difference is calculated based on length, faulty characters, capital/lower case differences. For every instance of the GENDER column, we choose the nearest option (Male or Female). Checking every instance as such is a realistic option as there presumably will only be a limited number of instances by possible notations/mistakes.\n"
   ]
  },
  {
   "cell_type": "code",
   "execution_count": 6,
   "metadata": {
    "collapsed": false,
    "scrolled": true
   },
   "outputs": [
    {
     "data": {
      "text/html": [
       "<ol class=list-inline>\n",
       "\t<li>'Mal'</li>\n",
       "\t<li>'Male'</li>\n",
       "\t<li>'Male'</li>\n",
       "\t<li>'feminin'</li>\n",
       "\t<li>'m'</li>\n",
       "\t<li>'F'</li>\n",
       "\t<li>'Female'</li>\n",
       "</ol>\n"
      ],
      "text/latex": [
       "\\begin{enumerate*}\n",
       "\\item 'Mal'\n",
       "\\item 'Male'\n",
       "\\item 'Male'\n",
       "\\item 'feminin'\n",
       "\\item 'm'\n",
       "\\item 'F'\n",
       "\\item 'Female'\n",
       "\\end{enumerate*}\n"
      ],
      "text/markdown": [
       "1. 'Mal'\n",
       "2. 'Male'\n",
       "3. 'Male'\n",
       "4. 'feminin'\n",
       "5. 'm'\n",
       "6. 'F'\n",
       "7. 'Female'\n",
       "\n",
       "\n"
      ],
      "text/plain": [
       "[1] \"Mal\"     \"Male\"    \"Male\"    \"feminin\" \"m\"       \"F\"       \"Female\" "
      ]
     },
     "execution_count": 6,
     "metadata": {},
     "output_type": "execute_result"
    },
    {
     "data": {
      "text/html": [
       "<ol class=list-inline>\n",
       "\t<li>'Male'</li>\n",
       "\t<li>'Female'</li>\n",
       "</ol>\n"
      ],
      "text/latex": [
       "\\begin{enumerate*}\n",
       "\\item 'Male'\n",
       "\\item 'Female'\n",
       "\\end{enumerate*}\n"
      ],
      "text/markdown": [
       "1. 'Male'\n",
       "2. 'Female'\n",
       "\n",
       "\n"
      ],
      "text/plain": [
       "[1] \"Male\"   \"Female\""
      ]
     },
     "execution_count": 6,
     "metadata": {},
     "output_type": "execute_result"
    },
    {
     "data": {
      "text/html": [
       "<table>\n",
       "<thead><tr><th></th><th scope=col>Male</th><th scope=col>Female</th></tr></thead>\n",
       "<tbody>\n",
       "\t<tr><th scope=row>Mal</th><td>1</td><td>4</td></tr>\n",
       "\t<tr><th scope=row>Male</th><td>0</td><td>3</td></tr>\n",
       "\t<tr><th scope=row>Male</th><td>0</td><td>3</td></tr>\n",
       "\t<tr><th scope=row>feminin</th><td>7</td><td>5</td></tr>\n",
       "\t<tr><th scope=row>m</th><td>4</td><td>5</td></tr>\n",
       "\t<tr><th scope=row>F</th><td>4</td><td>5</td></tr>\n",
       "\t<tr><th scope=row>Female</th><td>3</td><td>0</td></tr>\n",
       "</tbody>\n",
       "</table>\n"
      ],
      "text/latex": [
       "\\begin{tabular}{r|ll}\n",
       "  & Male & Female\\\\\n",
       "\\hline\n",
       "\tMal & 1 & 4\\\\\n",
       "\tMale & 0 & 3\\\\\n",
       "\tMale & 0 & 3\\\\\n",
       "\tfeminin & 7 & 5\\\\\n",
       "\tm & 4 & 5\\\\\n",
       "\tF & 4 & 5\\\\\n",
       "\tFemale & 3 & 0\\\\\n",
       "\\end{tabular}\n"
      ],
      "text/markdown": [
       "1. 1\n",
       "2. 0\n",
       "3. 0\n",
       "4. 7\n",
       "5. 4\n",
       "6. 4\n",
       "7. 3\n",
       "8. 4\n",
       "9. 3\n",
       "10. 3\n",
       "11. 5\n",
       "12. 5\n",
       "13. 5\n",
       "14. 0\n",
       "\n",
       "\n"
      ],
      "text/plain": [
       "        Male Female\n",
       "Mal        1      4\n",
       "Male       0      3\n",
       "Male       0      3\n",
       "feminin    7      5\n",
       "m          4      5\n",
       "F          4      5\n",
       "Female     3      0"
      ]
     },
     "execution_count": 6,
     "metadata": {},
     "output_type": "execute_result"
    },
    {
     "data": {
      "text/html": [
       "<table>\n",
       "<thead><tr><th></th><th scope=col>Male</th><th scope=col>Female</th></tr></thead>\n",
       "<tbody>\n",
       "\t<tr><th scope=row>Mal</th><td>1</td><td>4</td></tr>\n",
       "\t<tr><th scope=row>Male</th><td>0</td><td>3</td></tr>\n",
       "\t<tr><th scope=row>feminin</th><td>7</td><td>5</td></tr>\n",
       "\t<tr><th scope=row>m</th><td>4</td><td>5</td></tr>\n",
       "\t<tr><th scope=row>F</th><td>4</td><td>5</td></tr>\n",
       "\t<tr><th scope=row>Female</th><td>3</td><td>0</td></tr>\n",
       "</tbody>\n",
       "</table>\n"
      ],
      "text/latex": [
       "\\begin{tabular}{r|ll}\n",
       "  & Male & Female\\\\\n",
       "\\hline\n",
       "\tMal & 1 & 4\\\\\n",
       "\tMale & 0 & 3\\\\\n",
       "\tfeminin & 7 & 5\\\\\n",
       "\tm & 4 & 5\\\\\n",
       "\tF & 4 & 5\\\\\n",
       "\tFemale & 3 & 0\\\\\n",
       "\\end{tabular}\n"
      ],
      "text/markdown": [
       "1. 1\n",
       "2. 0\n",
       "3. 7\n",
       "4. 4\n",
       "5. 4\n",
       "6. 3\n",
       "7. 4\n",
       "8. 3\n",
       "9. 5\n",
       "10. 5\n",
       "11. 5\n",
       "12. 0\n",
       "\n",
       "\n"
      ],
      "text/plain": [
       "        Male Female\n",
       "Mal        1      4\n",
       "Male       0      3\n",
       "feminin    7      5\n",
       "m          4      5\n",
       "F          4      5\n",
       "Female     3      0"
      ]
     },
     "execution_count": 6,
     "metadata": {},
     "output_type": "execute_result"
    }
   ],
   "source": [
    "# Check what GENDER column looks like.\n",
    "Pdata$GENDER\n",
    "\n",
    "# Set a character vector of example names\n",
    "codes<-c(\"Male\",\"Female\")\n",
    "codes\n",
    "\n",
    "D <- adist(Pdata$GENDER, codes)\n",
    "colnames(D) <- codes\n",
    "rownames(D) <- Pdata$GENDER\n",
    "\n",
    "# distances for all records\n",
    "D\n",
    "# On second thought, show only those varieties that are unique (this is efficient; there is less to evaluate)\n",
    "# the exclamation mark means 'not'.\n",
    "D[!duplicated(rownames(D)),]\n",
    "\n",
    "####### Assignment: \n",
    "\n",
    "# Does the code work or does it contain errors? Check if all varieties are nearest to their intended name.\n",
    "\n"
   ]
  },
  {
   "cell_type": "code",
   "execution_count": 7,
   "metadata": {
    "collapsed": false
   },
   "outputs": [
    {
     "data": {
      "text/html": [
       "<table>\n",
       "<thead><tr><th></th><th scope=col>Male</th><th scope=col>Female</th></tr></thead>\n",
       "<tbody>\n",
       "\t<tr><th scope=row>Mal</th><td>1</td><td>4</td></tr>\n",
       "\t<tr><th scope=row>Male</th><td>0</td><td>3</td></tr>\n",
       "\t<tr><th scope=row>feminin</th><td>7</td><td>5</td></tr>\n",
       "\t<tr><th scope=row>m</th><td>4</td><td>5</td></tr>\n",
       "\t<tr><th scope=row>Female</th><td>3</td><td>0</td></tr>\n",
       "</tbody>\n",
       "</table>\n"
      ],
      "text/latex": [
       "\\begin{tabular}{r|ll}\n",
       "  & Male & Female\\\\\n",
       "\\hline\n",
       "\tMal & 1 & 4\\\\\n",
       "\tMale & 0 & 3\\\\\n",
       "\tfeminin & 7 & 5\\\\\n",
       "\tm & 4 & 5\\\\\n",
       "\tFemale & 3 & 0\\\\\n",
       "\\end{tabular}\n"
      ],
      "text/markdown": [
       "1. 1\n",
       "2. 0\n",
       "3. 7\n",
       "4. 4\n",
       "5. 3\n",
       "6. 4\n",
       "7. 3\n",
       "8. 5\n",
       "9. 5\n",
       "10. 0\n",
       "\n",
       "\n"
      ],
      "text/plain": [
       "        Male Female\n",
       "Mal        1      4\n",
       "Male       0      3\n",
       "feminin    7      5\n",
       "m          4      5\n",
       "Female     3      0"
      ]
     },
     "execution_count": 7,
     "metadata": {},
     "output_type": "execute_result"
    },
    {
     "data": {
      "text/html": [
       "<table>\n",
       "<thead><tr><th></th><th scope=col>PATNO</th><th scope=col>GENDER</th><th scope=col>HR</th><th scope=col>SBP_DBP</th><th scope=col>AE</th><th scope=col>DX</th><th scope=col>VISIT</th></tr></thead>\n",
       "<tbody>\n",
       "\t<tr><th scope=row>1</th><td>452</td><td>Male</td><td>91</td><td>96_180</td><td>8</td><td>39</td><td>2015-12-04</td></tr>\n",
       "\t<tr><th scope=row>2</th><td>987</td><td>Male</td><td>77</td><td>110_180</td><td>8</td><td>12</td><td>2015-12-11</td></tr>\n",
       "\t<tr><th scope=row>3</th><td>3456</td><td>Male</td><td>40</td><td>80_120</td><td>8</td><td>39</td><td>2016-04-23</td></tr>\n",
       "\t<tr><th scope=row>4</th><td>4321</td><td>Female</td><td>4</td><td>103_190</td><td>1</td><td>12</td><td>2016-02-07</td></tr>\n",
       "\t<tr><th scope=row>5</th><td>7372</td><td>Male</td><td>56</td><td>134_154</td><td>1</td><td>12</td><td>2016-08-11</td></tr>\n",
       "\t<tr><th scope=row>6</th><td>8742</td><td>Female</td><td>89</td><td>88_108</td><td>1</td><td>12</td><td>2016-01-08</td></tr>\n",
       "\t<tr><th scope=row>7</th><td>8765</td><td>Female</td><td>56</td><td>120_190</td><td>1</td><td>34</td><td>2015-08-09</td></tr>\n",
       "</tbody>\n",
       "</table>\n"
      ],
      "text/latex": [
       "\\begin{tabular}{r|lllllll}\n",
       "  & PATNO & GENDER & HR & SBP_DBP & AE & DX & VISIT\\\\\n",
       "\\hline\n",
       "\t1 & 452 & Male & 91 & 96_180 & 8 & 39 & 2015-12-04\\\\\n",
       "\t2 & 987 & Male & 77 & 110_180 & 8 & 12 & 2015-12-11\\\\\n",
       "\t3 & 3456 & Male & 40 & 80_120 & 8 & 39 & 2016-04-23\\\\\n",
       "\t4 & 4321 & Female & 4 & 103_190 & 1 & 12 & 2016-02-07\\\\\n",
       "\t5 & 7372 & Male & 56 & 134_154 & 1 & 12 & 2016-08-11\\\\\n",
       "\t6 & 8742 & Female & 89 & 88_108 & 1 & 12 & 2016-01-08\\\\\n",
       "\t7 & 8765 & Female & 56 & 120_190 & 1 & 34 & 2015-08-09\\\\\n",
       "\\end{tabular}\n"
      ],
      "text/plain": [
       "  PATNO GENDER HR SBP_DBP AE DX      VISIT\n",
       "1   452   Male 91  96_180  8 39 2015-12-04\n",
       "2   987   Male 77 110_180  8 12 2015-12-11\n",
       "3  3456   Male 40  80_120  8 39 2016-04-23\n",
       "4  4321 Female  4 103_190  1 12 2016-02-07\n",
       "5  7372   Male 56 134_154  1 12 2016-08-11\n",
       "6  8742 Female 89  88_108  1 12 2016-01-08\n",
       "7  8765 Female 56 120_190  1 34 2015-08-09"
      ]
     },
     "execution_count": 7,
     "metadata": {},
     "output_type": "execute_result"
    }
   ],
   "source": [
    "# This works for the most part, however with 'F' there is a mistake. \n",
    "# This is because there is a larger difference in word length with 'Female' than with 'Male'.\n",
    "# As a solution: Get all words that contain 'F' and replace these by 'Female'. Repeat the distance calculation.\n",
    "\n",
    "Frepl<-grep(\"F\",Pdata$GENDER)#<-\"Female\" # do the same for female!\n",
    "Pdata$GENDER[Frepl]<-\"Female\"\n",
    "\n",
    "D <- adist(Pdata$GENDER, codes)\n",
    "colnames(D) <- codes\n",
    "rownames(D) <- Pdata$GENDER\n",
    "\n",
    "# distances for every variety\n",
    "D[!duplicated(rownames(D)),]\n",
    "\n",
    "i <- apply(D, 1, which.min)\n",
    "\n",
    "# Change the column entries with the nearest codename. \n",
    "Pdata$GENDER<-codes[as.numeric(i)]\n",
    "\n",
    "Pdata"
   ]
  },
  {
   "cell_type": "markdown",
   "metadata": {},
   "source": [
    "**CHECK VALUE RANGE.** Also, we check if the values of all columns are within range and if not, we replace these with NA (not available) if we are not sure what the correct value is. Most operations in R can handle NA without crashing. na.omit() will let you remove all incomplete entries."
   ]
  },
  {
   "cell_type": "code",
   "execution_count": 8,
   "metadata": {
    "collapsed": false
   },
   "outputs": [
    {
     "data": {
      "text/html": [
       "59"
      ],
      "text/latex": [
       "59"
      ],
      "text/markdown": [
       "59"
      ],
      "text/plain": [
       "[1] 59"
      ]
     },
     "execution_count": 8,
     "metadata": {},
     "output_type": "execute_result"
    },
    {
     "data": {
      "text/html": [
       "91"
      ],
      "text/latex": [
       "91"
      ],
      "text/markdown": [
       "91"
      ],
      "text/plain": [
       "[1] 91"
      ]
     },
     "execution_count": 8,
     "metadata": {},
     "output_type": "execute_result"
    },
    {
     "data": {
      "text/html": [
       "4"
      ],
      "text/latex": [
       "4"
      ],
      "text/markdown": [
       "4"
      ],
      "text/plain": [
       "[1] 4"
      ]
     },
     "execution_count": 8,
     "metadata": {},
     "output_type": "execute_result"
    }
   ],
   "source": [
    "# Heart rate should be anywhere from 40 to 100. \n",
    "mean(Pdata$HR)\n",
    "\n",
    "max(Pdata$HR)\n",
    "min(Pdata$HR)\n",
    "\n",
    "####### Assignment:\n",
    "# Are all values reasonable in Pdata$HR?"
   ]
  },
  {
   "cell_type": "code",
   "execution_count": 9,
   "metadata": {
    "collapsed": false
   },
   "outputs": [
    {
     "data": {
      "text/html": [
       "<ol class=list-inline>\n",
       "\t<li>91</li>\n",
       "\t<li>77</li>\n",
       "\t<li>40</li>\n",
       "\t<li>NA</li>\n",
       "\t<li>56</li>\n",
       "\t<li>89</li>\n",
       "\t<li>56</li>\n",
       "</ol>\n"
      ],
      "text/latex": [
       "\\begin{enumerate*}\n",
       "\\item 91\n",
       "\\item 77\n",
       "\\item 40\n",
       "\\item NA\n",
       "\\item 56\n",
       "\\item 89\n",
       "\\item 56\n",
       "\\end{enumerate*}\n"
      ],
      "text/markdown": [
       "1. 91\n",
       "2. 77\n",
       "3. 40\n",
       "4. NA\n",
       "5. 56\n",
       "6. 89\n",
       "7. 56\n",
       "\n",
       "\n"
      ],
      "text/plain": [
       "[1] 91 77 40 NA 56 89 56"
      ]
     },
     "execution_count": 9,
     "metadata": {},
     "output_type": "execute_result"
    },
    {
     "data": {
      "text/html": [
       "68.1666666666667"
      ],
      "text/latex": [
       "68.1666666666667"
      ],
      "text/markdown": [
       "68.1666666666667"
      ],
      "text/plain": [
       "[1] 68.16667"
      ]
     },
     "execution_count": 9,
     "metadata": {},
     "output_type": "execute_result"
    }
   ],
   "source": [
    "# Values outside of the realistic range should be omitted. \n",
    "replaceNA<-which(Pdata$HR<40)\n",
    "Pdata$HR[replaceNA]<-NA\n",
    "\n",
    "Pdata$HR\n",
    "\n",
    "mean(Pdata$HR,na.rm=TRUE)\n",
    "# Notice how the mean of the Heart Rate (HR) has changed before (cell above) and after cleaning (this cell)!"
   ]
  },
  {
   "cell_type": "markdown",
   "metadata": {},
   "source": [
    "## Step 5. Organize data to your preference\n",
    "Sometimes there are obsolete columns in our data to delete, or alternatively columns to be added. Or we might want to represent the colums differently. \n",
    "\n",
    "\n",
    "\n",
    "For our datafile, we would like to have systolic and diastolic blood pressure added as two separate columns, removing the old. Then, we would like to compute the difference between these and also add it as a new column.\n"
   ]
  },
  {
   "cell_type": "code",
   "execution_count": 10,
   "metadata": {
    "collapsed": false
   },
   "outputs": [
    {
     "name": "stdout",
     "output_type": "stream",
     "text": [
      "List of 7\n",
      " $ : chr [1:2] \"96\" \"180\"\n",
      " $ : chr [1:2] \"110\" \"180\"\n",
      " $ : chr [1:2] \"80\" \"120\"\n",
      " $ : chr [1:2] \"103\" \"190\"\n",
      " $ : chr [1:2] \"134\" \"154\"\n",
      " $ : chr [1:2] \"88\" \"108\"\n",
      " $ : chr [1:2] \"120\" \"190\"\n"
     ]
    },
    {
     "data": {
      "text/html": [
       "<ol class=list-inline>\n",
       "\t<li>'96'</li>\n",
       "\t<li>'180'</li>\n",
       "\t<li>'110'</li>\n",
       "\t<li>'180'</li>\n",
       "\t<li>'80'</li>\n",
       "\t<li>'120'</li>\n",
       "\t<li>'103'</li>\n",
       "\t<li>'190'</li>\n",
       "\t<li>'134'</li>\n",
       "\t<li>'154'</li>\n",
       "\t<li>'88'</li>\n",
       "\t<li>'108'</li>\n",
       "\t<li>'120'</li>\n",
       "\t<li>'190'</li>\n",
       "</ol>\n"
      ],
      "text/latex": [
       "\\begin{enumerate*}\n",
       "\\item '96'\n",
       "\\item '180'\n",
       "\\item '110'\n",
       "\\item '180'\n",
       "\\item '80'\n",
       "\\item '120'\n",
       "\\item '103'\n",
       "\\item '190'\n",
       "\\item '134'\n",
       "\\item '154'\n",
       "\\item '88'\n",
       "\\item '108'\n",
       "\\item '120'\n",
       "\\item '190'\n",
       "\\end{enumerate*}\n"
      ],
      "text/markdown": [
       "1. '96'\n",
       "2. '180'\n",
       "3. '110'\n",
       "4. '180'\n",
       "5. '80'\n",
       "6. '120'\n",
       "7. '103'\n",
       "8. '190'\n",
       "9. '134'\n",
       "10. '154'\n",
       "11. '88'\n",
       "12. '108'\n",
       "13. '120'\n",
       "14. '190'\n",
       "\n",
       "\n"
      ],
      "text/plain": [
       " [1] \"96\"  \"180\" \"110\" \"180\" \"80\"  \"120\" \"103\" \"190\" \"134\" \"154\" \"88\"  \"108\"\n",
       "[13] \"120\" \"190\""
      ]
     },
     "execution_count": 10,
     "metadata": {},
     "output_type": "execute_result"
    },
    {
     "data": {
      "text/html": [
       "<table>\n",
       "<thead><tr><th scope=col>SBP</th><th scope=col>DBP</th></tr></thead>\n",
       "<tbody>\n",
       "\t<tr><td> 96</td><td>180</td></tr>\n",
       "\t<tr><td>110</td><td>180</td></tr>\n",
       "\t<tr><td> 80</td><td>120</td></tr>\n",
       "\t<tr><td>103</td><td>190</td></tr>\n",
       "\t<tr><td>134</td><td>154</td></tr>\n",
       "\t<tr><td> 88</td><td>108</td></tr>\n",
       "\t<tr><td>120</td><td>190</td></tr>\n",
       "</tbody>\n",
       "</table>\n"
      ],
      "text/latex": [
       "\\begin{tabular}{ll}\n",
       " SBP & DBP\\\\\n",
       "\\hline\n",
       "\t  96 & 180\\\\\n",
       "\t 110 & 180\\\\\n",
       "\t  80 & 120\\\\\n",
       "\t 103 & 190\\\\\n",
       "\t 134 & 154\\\\\n",
       "\t  88 & 108\\\\\n",
       "\t 120 & 190\\\\\n",
       "\\end{tabular}\n"
      ],
      "text/markdown": [
       "1. 96\n",
       "2. 110\n",
       "3. 80\n",
       "4. 103\n",
       "5. 134\n",
       "6. 88\n",
       "7. 120\n",
       "8. 180\n",
       "9. 180\n",
       "10. 120\n",
       "11. 190\n",
       "12. 154\n",
       "13. 108\n",
       "14. 190\n",
       "\n",
       "\n"
      ],
      "text/plain": [
       "     SBP DBP\n",
       "[1,]  96 180\n",
       "[2,] 110 180\n",
       "[3,]  80 120\n",
       "[4,] 103 190\n",
       "[5,] 134 154\n",
       "[6,]  88 108\n",
       "[7,] 120 190"
      ]
     },
     "execution_count": 10,
     "metadata": {},
     "output_type": "execute_result"
    }
   ],
   "source": [
    "# For our datafile, we would like to have systolic and diastolic blood pressure added as two separate columns, removing the old. \n",
    "# Then, we would like to compute the difference between these and also add it as a new column.\n",
    "\n",
    "# Not very easy! First separate SBP and DBP values by their underscore\n",
    "sepcol<-strsplit(Pdata$SBP_DBP,\"_\")\n",
    "str(sepcol)\n",
    "\n",
    "# the result is a list of character vectors. \n",
    "# Second step is to unlist, into a single long list.\n",
    "unlist(sepcol)\n",
    "\n",
    "# We want to convert that to a numeric matrix. \n",
    "# The matrix function enables us to define rows, columns, and how the matrix should be filled (by row or by column).\n",
    "New<-matrix(unlist(sepcol), nrow = 7, ncol = 2, byrow=TRUE)\n",
    "\n",
    "colnames(New)<-c(\"SBP\",\"DBP\")\n",
    "\n",
    "# Make the values in the matrix numeric\n",
    "New <- apply(New,2,as.numeric)\n",
    "\n",
    "New"
   ]
  },
  {
   "cell_type": "code",
   "execution_count": 11,
   "metadata": {
    "collapsed": false
   },
   "outputs": [
    {
     "data": {
      "text/html": [
       "<table>\n",
       "<thead><tr><th></th><th scope=col>PATNO</th><th scope=col>GENDER</th><th scope=col>HR</th><th scope=col>AE</th><th scope=col>DX</th><th scope=col>VISIT</th><th scope=col>SBP</th><th scope=col>DBP</th><th scope=col>diff</th></tr></thead>\n",
       "<tbody>\n",
       "\t<tr><th scope=row>1</th><td>452</td><td>Male</td><td>91</td><td>8</td><td>39</td><td>2015-12-04</td><td>96</td><td>180</td><td>84</td></tr>\n",
       "\t<tr><th scope=row>2</th><td>987</td><td>Male</td><td>77</td><td>8</td><td>12</td><td>2015-12-11</td><td>110</td><td>180</td><td>70</td></tr>\n",
       "\t<tr><th scope=row>3</th><td>3456</td><td>Male</td><td>40</td><td>8</td><td>39</td><td>2016-04-23</td><td>80</td><td>120</td><td>40</td></tr>\n",
       "\t<tr><th scope=row>4</th><td>4321</td><td>Female</td><td>NA</td><td>1</td><td>12</td><td>2016-02-07</td><td>103</td><td>190</td><td>87</td></tr>\n",
       "\t<tr><th scope=row>5</th><td>7372</td><td>Male</td><td>56</td><td>1</td><td>12</td><td>2016-08-11</td><td>134</td><td>154</td><td>20</td></tr>\n",
       "\t<tr><th scope=row>6</th><td>8742</td><td>Female</td><td>89</td><td>1</td><td>12</td><td>2016-01-08</td><td>88</td><td>108</td><td>20</td></tr>\n",
       "\t<tr><th scope=row>7</th><td>8765</td><td>Female</td><td>56</td><td>1</td><td>34</td><td>2015-08-09</td><td>120</td><td>190</td><td>70</td></tr>\n",
       "</tbody>\n",
       "</table>\n"
      ],
      "text/latex": [
       "\\begin{tabular}{r|lllllllll}\n",
       "  & PATNO & GENDER & HR & AE & DX & VISIT & SBP & DBP & diff\\\\\n",
       "\\hline\n",
       "\t1 & 452 & Male & 91 & 8 & 39 & 2015-12-04 & 96 & 180 & 84\\\\\n",
       "\t2 & 987 & Male & 77 & 8 & 12 & 2015-12-11 & 110 & 180 & 70\\\\\n",
       "\t3 & 3456 & Male & 40 & 8 & 39 & 2016-04-23 & 80 & 120 & 40\\\\\n",
       "\t4 & 4321 & Female & NA & 1 & 12 & 2016-02-07 & 103 & 190 & 87\\\\\n",
       "\t5 & 7372 & Male & 56 & 1 & 12 & 2016-08-11 & 134 & 154 & 20\\\\\n",
       "\t6 & 8742 & Female & 89 & 1 & 12 & 2016-01-08 & 88 & 108 & 20\\\\\n",
       "\t7 & 8765 & Female & 56 & 1 & 34 & 2015-08-09 & 120 & 190 & 70\\\\\n",
       "\\end{tabular}\n"
      ],
      "text/plain": [
       "  PATNO GENDER HR AE DX      VISIT SBP DBP diff\n",
       "1   452   Male 91  8 39 2015-12-04  96 180   84\n",
       "2   987   Male 77  8 12 2015-12-11 110 180   70\n",
       "3  3456   Male 40  8 39 2016-04-23  80 120   40\n",
       "4  4321 Female NA  1 12 2016-02-07 103 190   87\n",
       "5  7372   Male 56  1 12 2016-08-11 134 154   20\n",
       "6  8742 Female 89  1 12 2016-01-08  88 108   20\n",
       "7  8765 Female 56  1 34 2015-08-09 120 190   70"
      ]
     },
     "execution_count": 11,
     "metadata": {},
     "output_type": "execute_result"
    }
   ],
   "source": [
    "# now bind the rows to the dataframe.\n",
    "Pdatanew<-cbind(Pdata,New)\n",
    "\n",
    "# remove the old column\n",
    "Pdatanew<-Pdatanew[,!names(Pdatanew)==\"SBP_DBP\"]\n",
    "\n",
    "# Now we can finally calculate the difference between the two values! We add that as a column too.\n",
    "# Just indicate a new column name and assign the calculated difference\n",
    "Pdatanew[,\"diff\"] <- Pdatanew$DBP-Pdatanew$SBP\n",
    "Pdatanew"
   ]
  },
  {
   "cell_type": "markdown",
   "metadata": {},
   "source": [
    "## Step 6. Subselections of the datafile\n",
    "For analyses, you might want to calculate with only a selected part of the file. From a dataframe it is easy to group data."
   ]
  },
  {
   "cell_type": "code",
   "execution_count": 12,
   "metadata": {
    "collapsed": false
   },
   "outputs": [
    {
     "data": {
      "text/html": [
       "<table>\n",
       "<thead><tr><th></th><th scope=col>PATNO</th><th scope=col>GENDER</th><th scope=col>HR</th><th scope=col>AE</th><th scope=col>DX</th><th scope=col>VISIT</th><th scope=col>SBP</th><th scope=col>DBP</th><th scope=col>diff</th></tr></thead>\n",
       "<tbody>\n",
       "\t<tr><th scope=row>1</th><td>452</td><td>Male</td><td>91</td><td>8</td><td>39</td><td>2015-12-04</td><td>96</td><td>180</td><td>84</td></tr>\n",
       "\t<tr><th scope=row>2</th><td>987</td><td>Male</td><td>77</td><td>8</td><td>12</td><td>2015-12-11</td><td>110</td><td>180</td><td>70</td></tr>\n",
       "\t<tr><th scope=row>5</th><td>7372</td><td>Male</td><td>56</td><td>1</td><td>12</td><td>2016-08-11</td><td>134</td><td>154</td><td>20</td></tr>\n",
       "</tbody>\n",
       "</table>\n"
      ],
      "text/latex": [
       "\\begin{tabular}{r|lllllllll}\n",
       "  & PATNO & GENDER & HR & AE & DX & VISIT & SBP & DBP & diff\\\\\n",
       "\\hline\n",
       "\t1 & 452 & Male & 91 & 8 & 39 & 2015-12-04 & 96 & 180 & 84\\\\\n",
       "\t2 & 987 & Male & 77 & 8 & 12 & 2015-12-11 & 110 & 180 & 70\\\\\n",
       "\t5 & 7372 & Male & 56 & 1 & 12 & 2016-08-11 & 134 & 154 & 20\\\\\n",
       "\\end{tabular}\n"
      ],
      "text/plain": [
       "  PATNO GENDER HR AE DX      VISIT SBP DBP diff\n",
       "1   452   Male 91  8 39 2015-12-04  96 180   84\n",
       "2   987   Male 77  8 12 2015-12-11 110 180   70\n",
       "5  7372   Male 56  1 12 2016-08-11 134 154   20"
      ]
     },
     "execution_count": 12,
     "metadata": {},
     "output_type": "execute_result"
    },
    {
     "data": {
      "text/plain": [
       "$`1.12`\n",
       "  PATNO GENDER HR AE DX      VISIT SBP DBP diff\n",
       "4  4321 Female NA  1 12 2016-02-07 103 190   87\n",
       "5  7372   Male 56  1 12 2016-08-11 134 154   20\n",
       "6  8742 Female 89  1 12 2016-01-08  88 108   20\n",
       "\n",
       "$`8.12`\n",
       "  PATNO GENDER HR AE DX      VISIT SBP DBP diff\n",
       "2   987   Male 77  8 12 2015-12-11 110 180   70\n",
       "\n",
       "$`1.34`\n",
       "  PATNO GENDER HR AE DX      VISIT SBP DBP diff\n",
       "7  8765 Female 56  1 34 2015-08-09 120 190   70\n",
       "\n",
       "$`8.39`\n",
       "  PATNO GENDER HR AE DX      VISIT SBP DBP diff\n",
       "1   452   Male 91  8 39 2015-12-04  96 180   84\n",
       "3  3456   Male 40  8 39 2016-04-23  80 120   40\n"
      ]
     },
     "execution_count": 12,
     "metadata": {},
     "output_type": "execute_result"
    },
    {
     "name": "stdout",
     "output_type": "stream",
     "text": [
      "A random sample"
     ]
    },
    {
     "data": {
      "text/plain": [
       "  PATNO GENDER HR AE DX      VISIT SBP DBP diff\n",
       "2   987   Male 77  8 12 2015-12-11 110 180   70\n",
       "3  3456   Male 40  8 39 2016-04-23  80 120   40\n",
       "5  7372   Male 56  1 12 2016-08-11 134 154   20"
      ]
     },
     "execution_count": 12,
     "metadata": {},
     "output_type": "execute_result"
    },
    {
     "data": {
      "text/plain": [
       "\n",
       "1 8 \n",
       "4 3 "
      ]
     },
     "execution_count": 12,
     "metadata": {},
     "output_type": "execute_result"
    },
    {
     "data": {
      "text/plain": [
       "   \n",
       "    Female Male\n",
       "  1      3    1\n",
       "  8      0    3"
      ]
     },
     "execution_count": 12,
     "metadata": {},
     "output_type": "execute_result"
    },
    {
     "data": {
      "text/plain": [
       "   \n",
       "       Female      Male\n",
       "  1 0.4285714 0.1428571\n",
       "  8 0.0000000 0.4285714"
      ]
     },
     "execution_count": 12,
     "metadata": {},
     "output_type": "execute_result"
    },
    {
     "data": {
      "text/plain": [
       "  PATNO GENDER HR AE DX      VISIT SBP DBP diff\n",
       "3  3456   Male 40  8 39 2016-04-23  80 120   40\n",
       "5  7372   Male 56  1 12 2016-08-11 134 154   20\n",
       "7  8765 Female 56  1 34 2015-08-09 120 190   70\n",
       "2   987   Male 77  8 12 2015-12-11 110 180   70\n",
       "6  8742 Female 89  1 12 2016-01-08  88 108   20\n",
       "1   452   Male 91  8 39 2015-12-04  96 180   84\n",
       "4  4321 Female NA  1 12 2016-02-07 103 190   87"
      ]
     },
     "execution_count": 12,
     "metadata": {},
     "output_type": "execute_result"
    }
   ],
   "source": [
    "# create a subset from observations on Male subjects that have a heart rate larger than 50 bpm.\n",
    "newdata1 <- subset(Pdatanew, GENDER==\"Male\" & HR > 50)\n",
    "newdata1\n",
    "\n",
    "# don't mind this code: it prevents an error message specific to jupyter.\n",
    "options(jupyter.display_mimetypes = 'text/plain')\n",
    "\n",
    "# split the dataframe into a list of smaller dataframes)\n",
    "split(Pdatanew,f=list(Pdatanew$AE,Pdatanew$DX) ,drop=TRUE)\n",
    "\n",
    "# take a random sample\n",
    "newdata2<- Pdatanew[sample(1:nrow(Pdatanew), 3, replace=FALSE),] \n",
    "cat(\"A random sample\")\n",
    "newdata2\n",
    "\n",
    "# Give frequencies of AE value\n",
    "table(Pdatanew$AE)\n",
    "# Give frequencies of AE value separate for GENDER\n",
    "table(Pdatanew$AE,Pdatanew$GENDER)\n",
    "# Give relative frequencies\n",
    "prop.table(table(Pdatanew$AE,Pdatanew$GENDER))\n",
    "\n",
    "# Order the dataframe according to the heart rate\n",
    "Pdatanew[order(Pdatanew$HR),]"
   ]
  },
  {
   "cell_type": "code",
   "execution_count": 13,
   "metadata": {
    "collapsed": false
   },
   "outputs": [],
   "source": [
    "####### Assignment:\n",
    "# Make a subset of all patients with an AE of 8\n",
    "\n",
    "####### Assignment:\n",
    "# Order the dataframe according to date of visit."
   ]
  },
  {
   "cell_type": "markdown",
   "metadata": {},
   "source": [
    "## Step 7. Plot the data for inspection\n",
    "It is always good to have a visual representation of your data, to see if you have missed anything. We will make a dot plot in R. The shape of the dots can be manipulated with 'pch'. The color with 'col'. Boxplot for outlier detection."
   ]
  },
  {
   "cell_type": "code",
   "execution_count": 14,
   "metadata": {
    "collapsed": false
   },
   "outputs": [
    {
     "data": {
      "image/png": "[encoded data removed]",
      "image/svg+xml": [
       "<?xml version=\"1.0\" encoding=\"UTF-8\"?>\n",
       "<svg xmlns=\"http://www.w3.org/2000/svg\" xmlns:xlink=\"http://www.w3.org/1999/xlink\" width=\"504pt\" height=\"432pt\" viewBox=\"0 0 504 432\" version=\"1.1\">\n",
       "<defs>\n",
       "<g>\n",
       "<symbol overflow=\"visible\" id=\"glyph0-0\">\n",
       "<path style=\"stroke:none;\" d=\"\"/>\n",
       "</symbol>\n",
       "<symbol overflow=\"visible\" id=\"glyph0-1\">\n",
       "<path style=\"stroke:none;\" d=\"M 6.28125 -2.953125 C 6.28125 -4.625 5.046875 -5.875 3.40625 -5.875 C 2.8125 -5.875 2.21875 -5.671875 2.015625 -5.515625 L 2.28125 -7.28125 L 5.84375 -7.28125 L 5.84375 -8.59375 L 1.203125 -8.59375 L 0.515625 -3.875 L 1.71875 -3.875 C 2.25 -4.5 2.5625 -4.671875 3.21875 -4.671875 C 4.359375 -4.671875 4.9375 -4.0625 4.9375 -2.8125 C 4.9375 -1.578125 4.375 -1.015625 3.21875 -1.015625 C 2.296875 -1.015625 1.859375 -1.359375 1.578125 -2.453125 L 0.25 -2.453125 C 0.625 -0.625 1.734375 0.1875 3.234375 0.1875 C 4.953125 0.1875 6.28125 -1.15625 6.28125 -2.953125 Z M 6.28125 -2.953125 \"/>\n",
       "</symbol>\n",
       "<symbol overflow=\"visible\" id=\"glyph0-2\">\n",
       "<path style=\"stroke:none;\" d=\"M 4.296875 -0.125 L 4.296875 -8.765625 L 3.359375 -8.765625 C 2.953125 -7.328125 2.859375 -7.28125 1.078125 -7.0625 L 1.078125 -6.0625 L 2.96875 -6.0625 L 2.96875 0 L 4.296875 0 Z M 4.296875 -0.125 \"/>\n",
       "</symbol>\n",
       "<symbol overflow=\"visible\" id=\"glyph0-3\">\n",
       "<path style=\"stroke:none;\" d=\"M 6.21875 -4.21875 C 6.21875 -7.171875 5.140625 -8.765625 3.296875 -8.765625 C 1.46875 -8.765625 0.375 -7.15625 0.375 -4.296875 C 0.375 -1.421875 1.46875 0.1875 3.296875 0.1875 C 5.09375 0.1875 6.21875 -1.421875 6.21875 -4.21875 Z M 4.859375 -4.3125 C 4.859375 -1.90625 4.453125 -0.953125 3.28125 -0.953125 C 2.15625 -0.953125 1.734375 -1.953125 1.734375 -4.28125 C 1.734375 -6.609375 2.15625 -7.578125 3.296875 -7.578125 C 4.4375 -7.578125 4.859375 -6.59375 4.859375 -4.3125 Z M 4.859375 -4.3125 \"/>\n",
       "</symbol>\n",
       "<symbol overflow=\"visible\" id=\"glyph0-4\">\n",
       "<path style=\"stroke:none;\" d=\"M 6.265625 -6.140625 C 6.265625 -7.578125 5.015625 -8.765625 3.40625 -8.765625 C 1.671875 -8.765625 0.515625 -7.75 0.453125 -5.5625 L 1.78125 -5.5625 C 1.875 -7.109375 2.328125 -7.578125 3.375 -7.578125 C 4.328125 -7.578125 4.90625 -7.03125 4.90625 -6.125 C 4.90625 -5.453125 4.546875 -4.96875 3.796875 -4.53125 L 2.6875 -3.90625 C 0.90625 -2.90625 0.359375 -2 0.25 0 L 6.203125 0 L 6.203125 -1.3125 L 1.75 -1.3125 C 1.84375 -1.875 2.1875 -2.21875 3.234375 -2.828125 L 4.421875 -3.484375 C 5.609375 -4.109375 6.265625 -5.09375 6.265625 -6.140625 Z M 6.265625 -6.140625 \"/>\n",
       "</symbol>\n",
       "<symbol overflow=\"visible\" id=\"glyph0-5\">\n",
       "<path style=\"stroke:none;\" d=\"M 2.453125 -0.125 L 2.453125 -9.015625 L 1.0625 -9.015625 L 1.0625 0 L 2.453125 0 Z M 2.453125 -0.125 \"/>\n",
       "</symbol>\n",
       "<symbol overflow=\"visible\" id=\"glyph0-6\">\n",
       "<path style=\"stroke:none;\" d=\"M 5.96875 -0.125 L 5.96875 -4.890625 C 5.96875 -5.921875 5.0625 -6.734375 3.859375 -6.734375 C 2.921875 -6.734375 2.203125 -6.34375 1.65625 -5.453125 L 1.890625 -5.359375 L 1.890625 -6.546875 L 0.703125 -6.546875 L 0.703125 0 L 1.96875 0 L 1.96875 -3.59375 C 1.96875 -4.890625 2.53125 -5.59375 3.546875 -5.59375 C 4.34375 -5.59375 4.703125 -5.25 4.703125 -4.484375 L 4.703125 0 L 5.96875 0 Z M 5.96875 -0.125 \"/>\n",
       "</symbol>\n",
       "<symbol overflow=\"visible\" id=\"glyph0-7\">\n",
       "<path style=\"stroke:none;\" d=\"M 6.078125 -0.125 L 6.078125 -9.015625 L 4.796875 -9.015625 L 4.796875 -5.625 L 5.046875 -5.71875 C 4.625 -6.359375 3.859375 -6.734375 3.015625 -6.734375 C 1.375 -6.734375 0.171875 -5.34375 0.171875 -3.34375 C 0.171875 -1.21875 1.359375 0.1875 3.046875 0.1875 C 3.90625 0.1875 4.609375 -0.1875 5.140625 -0.953125 L 4.90625 -1.0625 L 4.90625 0 L 6.078125 0 Z M 4.796875 -3.25 C 4.796875 -1.796875 4.25 -1.015625 3.1875 -1.015625 C 2.09375 -1.015625 1.484375 -1.8125 1.484375 -3.28125 C 1.484375 -4.734375 2.09375 -5.53125 3.1875 -5.53125 C 4.265625 -5.53125 4.796875 -4.703125 4.796875 -3.25 Z M 4.796875 -3.25 \"/>\n",
       "</symbol>\n",
       "<symbol overflow=\"visible\" id=\"glyph0-8\">\n",
       "<path style=\"stroke:none;\" d=\"M 6.28125 -2.984375 C 6.28125 -3.90625 6.21875 -4.46875 6.03125 -4.9375 C 5.625 -5.96875 4.53125 -6.734375 3.359375 -6.734375 C 1.609375 -6.734375 0.34375 -5.296875 0.34375 -3.234375 C 0.34375 -1.171875 1.578125 0.1875 3.34375 0.1875 C 4.78125 0.1875 5.90625 -0.765625 6.1875 -2.171875 L 4.921875 -2.171875 C 4.59375 -1.21875 4.171875 -1.015625 3.375 -1.015625 C 2.328125 -1.015625 1.6875 -1.546875 1.65625 -2.859375 L 6.28125 -2.859375 Z M 5.1875 -3.78125 C 5.1875 -3.78125 4.984375 -3.921875 4.984375 -3.9375 L 1.6875 -3.9375 C 1.765625 -4.921875 2.34375 -5.546875 3.34375 -5.546875 C 4.328125 -5.546875 4.9375 -4.859375 4.9375 -3.875 Z M 5.1875 -3.78125 \"/>\n",
       "</symbol>\n",
       "<symbol overflow=\"visible\" id=\"glyph0-9\">\n",
       "<path style=\"stroke:none;\" d=\"M 5.765625 -0.234375 L 3.65625 -3.390625 L 5.875 -6.546875 L 4.421875 -6.546875 L 2.96875 -4.375 L 1.53125 -6.546875 L 0.0625 -6.546875 L 2.25 -3.34375 L -0.0625 0 L 1.40625 0 L 2.921875 -2.296875 L 4.4375 0 L 5.921875 0 Z M 5.765625 -0.234375 \"/>\n",
       "</symbol>\n",
       "<symbol overflow=\"visible\" id=\"glyph1-0\">\n",
       "<path style=\"stroke:none;\" d=\"\"/>\n",
       "</symbol>\n",
       "<symbol overflow=\"visible\" id=\"glyph1-1\">\n",
       "<path style=\"stroke:none;\" d=\"M -2.953125 -6.28125 C -4.625 -6.28125 -5.875 -5.046875 -5.875 -3.40625 C -5.875 -2.8125 -5.671875 -2.21875 -5.515625 -2.015625 L -7.28125 -2.28125 L -7.28125 -5.84375 L -8.59375 -5.84375 L -8.59375 -1.203125 L -3.875 -0.515625 L -3.875 -1.71875 C -4.5 -2.25 -4.671875 -2.5625 -4.671875 -3.21875 C -4.671875 -4.359375 -4.0625 -4.9375 -2.8125 -4.9375 C -1.578125 -4.9375 -1.015625 -4.375 -1.015625 -3.21875 C -1.015625 -2.296875 -1.359375 -1.859375 -2.453125 -1.578125 L -2.453125 -0.25 C -0.625 -0.625 0.1875 -1.734375 0.1875 -3.234375 C 0.1875 -4.953125 -1.15625 -6.28125 -2.953125 -6.28125 Z M -2.953125 -6.28125 \"/>\n",
       "</symbol>\n",
       "<symbol overflow=\"visible\" id=\"glyph1-2\">\n",
       "<path style=\"stroke:none;\" d=\"M -0.125 -4.296875 L -8.765625 -4.296875 L -8.765625 -3.359375 C -7.328125 -2.953125 -7.28125 -2.859375 -7.0625 -1.078125 L -6.0625 -1.078125 L -6.0625 -2.96875 L 0 -2.96875 L 0 -4.296875 Z M -0.125 -4.296875 \"/>\n",
       "</symbol>\n",
       "<symbol overflow=\"visible\" id=\"glyph1-3\">\n",
       "<path style=\"stroke:none;\" d=\"M -4.21875 -6.21875 C -7.171875 -6.21875 -8.765625 -5.140625 -8.765625 -3.296875 C -8.765625 -1.46875 -7.15625 -0.375 -4.296875 -0.375 C -1.421875 -0.375 0.1875 -1.46875 0.1875 -3.296875 C 0.1875 -5.09375 -1.421875 -6.21875 -4.21875 -6.21875 Z M -4.3125 -4.859375 C -1.90625 -4.859375 -0.953125 -4.453125 -0.953125 -3.28125 C -0.953125 -2.15625 -1.953125 -1.734375 -4.28125 -1.734375 C -6.609375 -1.734375 -7.578125 -2.15625 -7.578125 -3.296875 C -7.578125 -4.4375 -6.59375 -4.859375 -4.3125 -4.859375 Z M -4.3125 -4.859375 \"/>\n",
       "</symbol>\n",
       "<symbol overflow=\"visible\" id=\"glyph1-4\">\n",
       "<path style=\"stroke:none;\" d=\"M -6.140625 -6.265625 C -7.578125 -6.265625 -8.765625 -5.015625 -8.765625 -3.40625 C -8.765625 -1.671875 -7.75 -0.515625 -5.5625 -0.453125 L -5.5625 -1.78125 C -7.109375 -1.875 -7.578125 -2.328125 -7.578125 -3.375 C -7.578125 -4.328125 -7.03125 -4.90625 -6.125 -4.90625 C -5.453125 -4.90625 -4.96875 -4.546875 -4.53125 -3.796875 L -3.90625 -2.6875 C -2.90625 -0.90625 -2 -0.359375 0 -0.25 L 0 -6.203125 L -1.3125 -6.203125 L -1.3125 -1.75 C -1.875 -1.84375 -2.21875 -2.1875 -2.828125 -3.234375 L -3.484375 -4.421875 C -4.109375 -5.609375 -5.09375 -6.265625 -6.140625 -6.265625 Z M -6.140625 -6.265625 \"/>\n",
       "</symbol>\n",
       "<symbol overflow=\"visible\" id=\"glyph1-5\">\n",
       "<path style=\"stroke:none;\" d=\"M -2.421875 -5.71875 L -2.421875 -4.59375 C -1.28125 -4.40625 -1.015625 -4.03125 -1.015625 -3.1875 C -1.015625 -2.078125 -1.734375 -1.546875 -3.21875 -1.546875 C -4.78125 -1.546875 -5.546875 -2.0625 -5.546875 -3.15625 C -5.546875 -4 -5.1875 -4.375 -4.171875 -4.53125 L -4.171875 -5.796875 C -5.84375 -5.65625 -6.734375 -4.578125 -6.734375 -3.171875 C -6.734375 -1.46875 -5.296875 -0.234375 -3.21875 -0.234375 C -1.1875 -0.234375 0.1875 -1.453125 0.1875 -3.15625 C 0.1875 -4.65625 -0.859375 -5.734375 -2.421875 -5.875 Z M -2.421875 -5.71875 \"/>\n",
       "</symbol>\n",
       "<symbol overflow=\"visible\" id=\"glyph1-6\">\n",
       "<path style=\"stroke:none;\" d=\"M 2.3125 -3.59375 C 0.59375 -2.53125 -1.3125 -1.984375 -3.234375 -1.984375 C -5.140625 -1.984375 -7.078125 -2.53125 -9.015625 -3.734375 L -9.015625 -2.765625 C -7.40625 -1.53125 -5.125 -0.734375 -3.234375 -0.734375 C -1.34375 -0.734375 0.9375 -1.53125 2.546875 -2.765625 L 2.546875 -3.734375 Z M 2.3125 -3.59375 \"/>\n",
       "</symbol>\n",
       "<symbol overflow=\"visible\" id=\"glyph1-7\">\n",
       "<path style=\"stroke:none;\" d=\"M -0.125 -2.421875 L -1.515625 -2.421875 L -1.515625 -0.90625 L 0 -0.90625 L 0 -2.421875 Z M -5.171875 -2.421875 L -6.546875 -2.421875 L -6.546875 -0.90625 L -5.046875 -0.90625 L -5.046875 -2.421875 Z M -5.171875 -2.421875 \"/>\n",
       "</symbol>\n",
       "<symbol overflow=\"visible\" id=\"glyph1-8\">\n",
       "<path style=\"stroke:none;\" d=\"M -3.234375 -3.203125 C -5.125 -3.203125 -7.40625 -2.40625 -9.015625 -1.171875 L -9.015625 -0.203125 C -7.0625 -1.40625 -5.140625 -1.953125 -3.234375 -1.953125 C -1.3125 -1.953125 0.609375 -1.40625 2.546875 -0.203125 L 2.546875 -1.171875 C 0.9375 -2.40625 -1.34375 -3.203125 -3.234375 -3.203125 Z M -3.234375 -3.203125 \"/>\n",
       "</symbol>\n",
       "</g>\n",
       "</defs>\n",
       "<g id=\"surface29\">\n",
       "<rect x=\"0\" y=\"0\" width=\"504\" height=\"432\" style=\"fill:rgb(100%,100%,100%);fill-opacity:1;stroke:none;\"/>\n",
       "<path style=\"fill:none;stroke-width:0.75;stroke-linecap:round;stroke-linejoin:round;stroke:rgb(0%,0%,0%);stroke-opacity:1;stroke-miterlimit:10;\" d=\"M 77.101562 347.464844 C 77.101562 351.066406 71.699219 351.066406 71.699219 347.464844 C 71.699219 343.867188 77.101562 343.867188 77.101562 347.464844 \"/>\n",
       "<path style=\"fill:none;stroke-width:0.75;stroke-linecap:round;stroke-linejoin:round;stroke:rgb(100%,0%,0%);stroke-opacity:1;stroke-miterlimit:10;\" d=\"M 94.609375 328.671875 L 98.246094 334.96875 L 90.972656 334.96875 L 94.609375 328.671875 \"/>\n",
       "<path style=\"fill:none;stroke-width:0.75;stroke-linecap:round;stroke-linejoin:round;stroke:rgb(0%,80.392157%,0%);stroke-opacity:1;stroke-miterlimit:10;\" d=\"M 111.003906 318.273438 L 118.640625 318.273438 \"/>\n",
       "<path style=\"fill:none;stroke-width:0.75;stroke-linecap:round;stroke-linejoin:round;stroke:rgb(0%,80.392157%,0%);stroke-opacity:1;stroke-miterlimit:10;\" d=\"M 114.820312 322.09375 L 114.820312 314.457031 \"/>\n",
       "<path style=\"fill:none;stroke-width:0.75;stroke-linecap:round;stroke-linejoin:round;stroke:rgb(0%,0%,100%);stroke-opacity:1;stroke-miterlimit:10;\" d=\"M 132.332031 306.378906 L 137.730469 300.976562 \"/>\n",
       "<path style=\"fill:none;stroke-width:0.75;stroke-linecap:round;stroke-linejoin:round;stroke:rgb(0%,0%,100%);stroke-opacity:1;stroke-miterlimit:10;\" d=\"M 132.332031 300.976562 L 137.730469 306.378906 \"/>\n",
       "<path style=\"fill:none;stroke-width:0.75;stroke-linecap:round;stroke-linejoin:round;stroke:rgb(0%,100%,100%);stroke-opacity:1;stroke-miterlimit:10;\" d=\"M 151.421875 289.082031 L 155.242188 285.261719 L 159.058594 289.082031 L 155.242188 292.898438 L 151.421875 289.082031 \"/>\n",
       "<path style=\"fill:none;stroke-width:0.75;stroke-linecap:round;stroke-linejoin:round;stroke:rgb(100%,0%,100%);stroke-opacity:1;stroke-miterlimit:10;\" d=\"M 175.453125 278.683594 L 179.089844 272.386719 L 171.816406 272.386719 L 175.453125 278.683594 \"/>\n",
       "<path style=\"fill:none;stroke-width:0.75;stroke-linecap:round;stroke-linejoin:round;stroke:rgb(100%,100%,0%);stroke-opacity:1;stroke-miterlimit:10;\" d=\"M 192.964844 262.585938 L 198.363281 262.585938 L 198.363281 257.1875 L 192.964844 257.1875 Z M 192.964844 262.585938 \"/>\n",
       "<path style=\"fill:none;stroke-width:0.75;stroke-linecap:round;stroke-linejoin:round;stroke:rgb(100%,100%,0%);stroke-opacity:1;stroke-miterlimit:10;\" d=\"M 192.964844 262.585938 L 198.363281 257.1875 \"/>\n",
       "<path style=\"fill:none;stroke-width:0.75;stroke-linecap:round;stroke-linejoin:round;stroke:rgb(100%,100%,0%);stroke-opacity:1;stroke-miterlimit:10;\" d=\"M 192.964844 257.1875 L 198.363281 262.585938 \"/>\n",
       "<path style=\"fill:none;stroke-width:0.75;stroke-linecap:round;stroke-linejoin:round;stroke:rgb(74.509804%,74.509804%,74.509804%);stroke-opacity:1;stroke-miterlimit:10;\" d=\"M 213.171875 247.992188 L 218.574219 242.589844 \"/>\n",
       "<path style=\"fill:none;stroke-width:0.75;stroke-linecap:round;stroke-linejoin:round;stroke:rgb(74.509804%,74.509804%,74.509804%);stroke-opacity:1;stroke-miterlimit:10;\" d=\"M 213.171875 242.589844 L 218.574219 247.992188 \"/>\n",
       "<path style=\"fill:none;stroke-width:0.75;stroke-linecap:round;stroke-linejoin:round;stroke:rgb(74.509804%,74.509804%,74.509804%);stroke-opacity:1;stroke-miterlimit:10;\" d=\"M 212.054688 245.292969 L 219.691406 245.292969 \"/>\n",
       "<path style=\"fill:none;stroke-width:0.75;stroke-linecap:round;stroke-linejoin:round;stroke:rgb(74.509804%,74.509804%,74.509804%);stroke-opacity:1;stroke-miterlimit:10;\" d=\"M 215.875 249.109375 L 215.875 241.472656 \"/>\n",
       "<path style=\"fill:none;stroke-width:0.75;stroke-linecap:round;stroke-linejoin:round;stroke:rgb(0%,0%,0%);stroke-opacity:1;stroke-miterlimit:10;\" d=\"M 232.265625 230.695312 L 239.902344 230.695312 \"/>\n",
       "<path style=\"fill:none;stroke-width:0.75;stroke-linecap:round;stroke-linejoin:round;stroke:rgb(0%,0%,0%);stroke-opacity:1;stroke-miterlimit:10;\" d=\"M 236.085938 234.511719 L 236.085938 226.875 \"/>\n",
       "<path style=\"fill:none;stroke-width:0.75;stroke-linecap:round;stroke-linejoin:round;stroke:rgb(0%,0%,0%);stroke-opacity:1;stroke-miterlimit:10;\" d=\"M 232.265625 230.695312 L 236.085938 226.875 L 239.902344 230.695312 L 236.085938 234.511719 L 232.265625 230.695312 \"/>\n",
       "<path style=\"fill:none;stroke-width:0.75;stroke-linecap:round;stroke-linejoin:round;stroke:rgb(100%,0%,0%);stroke-opacity:1;stroke-miterlimit:10;\" d=\"M 258.996094 216.097656 C 258.996094 219.699219 253.59375 219.699219 253.59375 216.097656 C 253.59375 212.5 258.996094 212.5 258.996094 216.097656 \"/>\n",
       "<path style=\"fill:none;stroke-width:0.75;stroke-linecap:round;stroke-linejoin:round;stroke:rgb(100%,0%,0%);stroke-opacity:1;stroke-miterlimit:10;\" d=\"M 253.59375 216.097656 L 258.996094 216.097656 \"/>\n",
       "<path style=\"fill:none;stroke-width:0.75;stroke-linecap:round;stroke-linejoin:round;stroke:rgb(100%,0%,0%);stroke-opacity:1;stroke-miterlimit:10;\" d=\"M 256.292969 218.796875 L 256.292969 213.398438 \"/>\n",
       "<path style=\"fill:none;stroke-width:0.75;stroke-linecap:round;stroke-linejoin:round;stroke:rgb(0%,80.392157%,0%);stroke-opacity:1;stroke-miterlimit:10;\" d=\"M 276.503906 205.699219 L 280.140625 198.351562 L 272.867188 198.351562 L 276.503906 205.699219 \"/>\n",
       "<path style=\"fill:none;stroke-width:0.75;stroke-linecap:round;stroke-linejoin:round;stroke:rgb(0%,80.392157%,0%);stroke-opacity:1;stroke-miterlimit:10;\" d=\"M 276.503906 197.304688 L 280.140625 204.652344 L 272.867188 204.652344 L 276.503906 197.304688 \"/>\n",
       "<path style=\"fill:none;stroke-width:0.75;stroke-linecap:round;stroke-linejoin:round;stroke:rgb(0%,0%,100%);stroke-opacity:1;stroke-miterlimit:10;\" d=\"M 294.015625 186.90625 L 299.414062 186.90625 \"/>\n",
       "<path style=\"fill:none;stroke-width:0.75;stroke-linecap:round;stroke-linejoin:round;stroke:rgb(0%,0%,100%);stroke-opacity:1;stroke-miterlimit:10;\" d=\"M 296.714844 189.605469 L 296.714844 184.207031 \"/>\n",
       "<path style=\"fill:none;stroke-width:0.75;stroke-linecap:round;stroke-linejoin:round;stroke:rgb(0%,0%,100%);stroke-opacity:1;stroke-miterlimit:10;\" d=\"M 294.015625 189.605469 L 299.414062 189.605469 L 299.414062 184.207031 L 294.015625 184.207031 Z M 294.015625 189.605469 \"/>\n",
       "<path style=\"fill:none;stroke-width:0.75;stroke-linecap:round;stroke-linejoin:round;stroke:rgb(0%,100%,100%);stroke-opacity:1;stroke-miterlimit:10;\" d=\"M 319.625 172.308594 C 319.625 175.910156 314.226562 175.910156 314.226562 172.308594 C 314.226562 168.707031 319.625 168.707031 319.625 172.308594 \"/>\n",
       "<path style=\"fill:none;stroke-width:0.75;stroke-linecap:round;stroke-linejoin:round;stroke:rgb(0%,100%,100%);stroke-opacity:1;stroke-miterlimit:10;\" d=\"M 314.226562 175.007812 L 319.625 169.609375 \"/>\n",
       "<path style=\"fill:none;stroke-width:0.75;stroke-linecap:round;stroke-linejoin:round;stroke:rgb(0%,100%,100%);stroke-opacity:1;stroke-miterlimit:10;\" d=\"M 314.226562 169.609375 L 319.625 175.007812 \"/>\n",
       "<path style=\"fill:none;stroke-width:0.75;stroke-linecap:round;stroke-linejoin:round;stroke:rgb(100%,0%,100%);stroke-opacity:1;stroke-miterlimit:10;\" d=\"M 337.136719 155.011719 L 339.835938 160.414062 L 334.4375 160.414062 L 337.136719 155.011719 \"/>\n",
       "<path style=\"fill:none;stroke-width:0.75;stroke-linecap:round;stroke-linejoin:round;stroke:rgb(100%,0%,100%);stroke-opacity:1;stroke-miterlimit:10;\" d=\"M 334.4375 160.414062 L 339.835938 160.414062 L 339.835938 155.015625 L 334.4375 155.015625 Z M 334.4375 160.414062 \"/>\n",
       "<path style=\" stroke:none;fill-rule:nonzero;fill:rgb(100%,100%,0%);fill-opacity:1;\" d=\"M 354.648438 145.816406 L 360.046875 145.816406 L 360.046875 140.414062 L 354.648438 140.414062 Z M 354.648438 145.816406 \"/>\n",
       "<path style=\" stroke:none;fill-rule:nonzero;fill:rgb(74.509804%,74.509804%,74.509804%);fill-opacity:1;\" d=\"M 380.257812 128.519531 C 380.257812 132.121094 374.859375 132.121094 374.859375 128.519531 C 374.859375 124.917969 380.257812 124.917969 380.257812 128.519531 \"/>\n",
       "<path style=\" stroke:none;fill-rule:nonzero;fill:rgb(0%,0%,0%);fill-opacity:1;\" d=\"M 397.769531 109.722656 L 401.40625 116.023438 L 394.132812 116.023438 Z M 397.769531 109.722656 \"/>\n",
       "<path style=\" stroke:none;fill-rule:nonzero;fill:rgb(100%,0%,0%);fill-opacity:1;\" d=\"M 415.277344 99.328125 L 417.980469 96.625 L 420.679688 99.328125 L 417.980469 102.027344 Z M 415.277344 99.328125 \"/>\n",
       "<path style=\"fill-rule:nonzero;fill:rgb(0%,80.392157%,0%);fill-opacity:1;stroke-width:0.75;stroke-linecap:round;stroke-linejoin:round;stroke:rgb(0%,80.392157%,0%);stroke-opacity:1;stroke-miterlimit:10;\" d=\"M 440.890625 84.730469 C 440.890625 88.328125 435.488281 88.328125 435.488281 84.730469 C 435.488281 81.128906 440.890625 81.128906 440.890625 84.730469 \"/>\n",
       "<path style=\"fill-rule:nonzero;fill:rgb(0%,0%,100%);fill-opacity:1;stroke-width:0.75;stroke-linecap:round;stroke-linejoin:round;stroke:rgb(0%,0%,100%);stroke-opacity:1;stroke-miterlimit:10;\" d=\"M 460.199219 70.132812 C 460.199219 72.535156 456.601562 72.535156 456.601562 70.132812 C 456.601562 67.734375 460.199219 67.734375 460.199219 70.132812 \"/>\n",
       "<path style=\"fill:none;stroke-width:0.75;stroke-linecap:round;stroke-linejoin:round;stroke:rgb(0%,0%,0%);stroke-opacity:1;stroke-miterlimit:10;\" d=\"M 155.242188 358.558594 L 458.398438 358.558594 \"/>\n",
       "<path style=\"fill:none;stroke-width:0.75;stroke-linecap:round;stroke-linejoin:round;stroke:rgb(0%,0%,0%);stroke-opacity:1;stroke-miterlimit:10;\" d=\"M 155.242188 358.558594 L 155.242188 365.761719 \"/>\n",
       "<path style=\"fill:none;stroke-width:0.75;stroke-linecap:round;stroke-linejoin:round;stroke:rgb(0%,0%,0%);stroke-opacity:1;stroke-miterlimit:10;\" d=\"M 256.292969 358.558594 L 256.292969 365.761719 \"/>\n",
       "<path style=\"fill:none;stroke-width:0.75;stroke-linecap:round;stroke-linejoin:round;stroke:rgb(0%,0%,0%);stroke-opacity:1;stroke-miterlimit:10;\" d=\"M 357.347656 358.558594 L 357.347656 365.761719 \"/>\n",
       "<path style=\"fill:none;stroke-width:0.75;stroke-linecap:round;stroke-linejoin:round;stroke:rgb(0%,0%,0%);stroke-opacity:1;stroke-miterlimit:10;\" d=\"M 458.398438 358.558594 L 458.398438 365.761719 \"/>\n",
       "<g style=\"fill:rgb(0%,0%,0%);fill-opacity:1;\">\n",
       "  <use xlink:href=\"#glyph0-1\" x=\"151.742188\" y=\"384.256836\"/>\n",
       "</g>\n",
       "<g style=\"fill:rgb(0%,0%,0%);fill-opacity:1;\">\n",
       "  <use xlink:href=\"#glyph0-2\" x=\"249.292969\" y=\"384.256836\"/>\n",
       "  <use xlink:href=\"#glyph0-3\" x=\"255.964844\" y=\"384.256836\"/>\n",
       "</g>\n",
       "<g style=\"fill:rgb(0%,0%,0%);fill-opacity:1;\">\n",
       "  <use xlink:href=\"#glyph0-2\" x=\"350.347656\" y=\"384.256836\"/>\n",
       "  <use xlink:href=\"#glyph0-1\" x=\"357.019531\" y=\"384.256836\"/>\n",
       "</g>\n",
       "<g style=\"fill:rgb(0%,0%,0%);fill-opacity:1;\">\n",
       "  <use xlink:href=\"#glyph0-4\" x=\"451.398438\" y=\"384.256836\"/>\n",
       "  <use xlink:href=\"#glyph0-3\" x=\"458.070312\" y=\"384.256836\"/>\n",
       "</g>\n",
       "<path style=\"fill:none;stroke-width:0.75;stroke-linecap:round;stroke-linejoin:round;stroke:rgb(0%,0%,0%);stroke-opacity:1;stroke-miterlimit:10;\" d=\"M 59.039062 289.082031 L 59.039062 70.132812 \"/>\n",
       "<path style=\"fill:none;stroke-width:0.75;stroke-linecap:round;stroke-linejoin:round;stroke:rgb(0%,0%,0%);stroke-opacity:1;stroke-miterlimit:10;\" d=\"M 59.039062 289.082031 L 51.839844 289.082031 \"/>\n",
       "<path style=\"fill:none;stroke-width:0.75;stroke-linecap:round;stroke-linejoin:round;stroke:rgb(0%,0%,0%);stroke-opacity:1;stroke-miterlimit:10;\" d=\"M 59.039062 216.097656 L 51.839844 216.097656 \"/>\n",
       "<path style=\"fill:none;stroke-width:0.75;stroke-linecap:round;stroke-linejoin:round;stroke:rgb(0%,0%,0%);stroke-opacity:1;stroke-miterlimit:10;\" d=\"M 59.039062 143.117188 L 51.839844 143.117188 \"/>\n",
       "<path style=\"fill:none;stroke-width:0.75;stroke-linecap:round;stroke-linejoin:round;stroke:rgb(0%,0%,0%);stroke-opacity:1;stroke-miterlimit:10;\" d=\"M 59.039062 70.132812 L 51.839844 70.132812 \"/>\n",
       "<g style=\"fill:rgb(0%,0%,0%);fill-opacity:1;\">\n",
       "  <use xlink:href=\"#glyph1-1\" x=\"41.538086\" y=\"292.582031\"/>\n",
       "</g>\n",
       "<g style=\"fill:rgb(0%,0%,0%);fill-opacity:1;\">\n",
       "  <use xlink:href=\"#glyph1-2\" x=\"41.538086\" y=\"223.097656\"/>\n",
       "  <use xlink:href=\"#glyph1-3\" x=\"41.538086\" y=\"216.425781\"/>\n",
       "</g>\n",
       "<g style=\"fill:rgb(0%,0%,0%);fill-opacity:1;\">\n",
       "  <use xlink:href=\"#glyph1-2\" x=\"41.538086\" y=\"150.117188\"/>\n",
       "  <use xlink:href=\"#glyph1-1\" x=\"41.538086\" y=\"143.445312\"/>\n",
       "</g>\n",
       "<g style=\"fill:rgb(0%,0%,0%);fill-opacity:1;\">\n",
       "  <use xlink:href=\"#glyph1-4\" x=\"41.538086\" y=\"77.132812\"/>\n",
       "  <use xlink:href=\"#glyph1-3\" x=\"41.538086\" y=\"70.460938\"/>\n",
       "</g>\n",
       "<path style=\"fill:none;stroke-width:0.75;stroke-linecap:round;stroke-linejoin:round;stroke:rgb(0%,0%,0%);stroke-opacity:1;stroke-miterlimit:10;\" d=\"M 59.039062 358.558594 L 473.761719 358.558594 L 473.761719 59.039062 L 59.039062 59.039062 L 59.039062 358.558594 \"/>\n",
       "<g style=\"fill:rgb(0%,0%,0%);fill-opacity:1;\">\n",
       "  <use xlink:href=\"#glyph0-5\" x=\"251.398438\" y=\"413.057617\"/>\n",
       "  <use xlink:href=\"#glyph0-6\" x=\"254.734375\" y=\"413.057617\"/>\n",
       "  <use xlink:href=\"#glyph0-7\" x=\"261.40625\" y=\"413.057617\"/>\n",
       "  <use xlink:href=\"#glyph0-8\" x=\"268.078125\" y=\"413.057617\"/>\n",
       "  <use xlink:href=\"#glyph0-9\" x=\"274.450195\" y=\"413.057617\"/>\n",
       "</g>\n",
       "<g style=\"fill:rgb(0%,0%,0%);fill-opacity:1;\">\n",
       "  <use xlink:href=\"#glyph1-5\" x=\"12.737305\" y=\"227.800781\"/>\n",
       "  <use xlink:href=\"#glyph1-6\" x=\"12.737305\" y=\"221.800781\"/>\n",
       "  <use xlink:href=\"#glyph1-2\" x=\"12.737305\" y=\"217.804688\"/>\n",
       "  <use xlink:href=\"#glyph1-7\" x=\"12.737305\" y=\"211.132812\"/>\n",
       "  <use xlink:href=\"#glyph1-4\" x=\"12.737305\" y=\"207.796875\"/>\n",
       "  <use xlink:href=\"#glyph1-3\" x=\"12.737305\" y=\"201.125\"/>\n",
       "  <use xlink:href=\"#glyph1-8\" x=\"12.737305\" y=\"194.453125\"/>\n",
       "</g>\n",
       "</g>\n",
       "</svg>\n"
      ],
      "text/plain": [
       "plot without title"
      ]
     },
     "metadata": {
      "image/svg+xml": {
       "isolated": true
      }
     },
     "output_type": "display_data"
    },
    {
     "data": {
      "image/png": "[encoded data removed]",
      "image/svg+xml": [
       "<?xml version=\"1.0\" encoding=\"UTF-8\"?>\n",
       "<svg xmlns=\"http://www.w3.org/2000/svg\" xmlns:xlink=\"http://www.w3.org/1999/xlink\" width=\"504pt\" height=\"432pt\" viewBox=\"0 0 504 432\" version=\"1.1\">\n",
       "<defs>\n",
       "<g>\n",
       "<symbol overflow=\"visible\" id=\"glyph0-0\">\n",
       "<path style=\"stroke:none;\" d=\"\"/>\n",
       "</symbol>\n",
       "<symbol overflow=\"visible\" id=\"glyph0-1\">\n",
       "<path style=\"stroke:none;\" d=\"M 6.203125 -2.609375 C 6.203125 -3.640625 5.65625 -4.375 4.625 -4.71875 L 4.625 -4.453125 C 5.421875 -4.765625 5.953125 -5.453125 5.953125 -6.296875 C 5.953125 -7.765625 4.84375 -8.765625 3.234375 -8.765625 C 1.515625 -8.765625 0.453125 -7.703125 0.421875 -5.765625 L 1.75 -5.765625 C 1.78125 -7.15625 2.15625 -7.578125 3.234375 -7.578125 C 4.171875 -7.578125 4.59375 -7.15625 4.59375 -6.265625 C 4.59375 -5.359375 4.34375 -5.109375 2.515625 -5.109375 L 2.515625 -3.953125 L 3.234375 -3.953125 C 4.390625 -3.953125 4.84375 -3.546875 4.84375 -2.59375 C 4.84375 -1.53125 4.328125 -1.015625 3.234375 -1.015625 C 2.078125 -1.015625 1.640625 -1.46875 1.5625 -2.828125 L 0.234375 -2.828125 C 0.375 -0.796875 1.453125 0.1875 3.1875 0.1875 C 4.9375 0.1875 6.203125 -1 6.203125 -2.609375 Z M 6.203125 -2.609375 \"/>\n",
       "</symbol>\n",
       "<symbol overflow=\"visible\" id=\"glyph0-2\">\n",
       "<path style=\"stroke:none;\" d=\"M 6.375 -2.171875 L 6.375 -3.25 L 5.109375 -3.25 L 5.109375 -8.765625 L 4.125 -8.765625 L 0.1875 -3.328125 L 0.1875 -2.046875 L 3.78125 -2.046875 L 3.78125 0 L 5.109375 0 L 5.109375 -2.046875 L 6.375 -2.046875 Z M 3.921875 -3.25 L 1.515625 -3.25 L 4.015625 -6.75 L 3.78125 -6.84375 L 3.78125 -3.25 Z M 3.921875 -3.25 \"/>\n",
       "</symbol>\n",
       "<symbol overflow=\"visible\" id=\"glyph0-3\">\n",
       "<path style=\"stroke:none;\" d=\"M 6.28125 -2.953125 C 6.28125 -4.625 5.046875 -5.875 3.40625 -5.875 C 2.8125 -5.875 2.21875 -5.671875 2.015625 -5.515625 L 2.28125 -7.28125 L 5.84375 -7.28125 L 5.84375 -8.59375 L 1.203125 -8.59375 L 0.515625 -3.875 L 1.71875 -3.875 C 2.25 -4.5 2.5625 -4.671875 3.21875 -4.671875 C 4.359375 -4.671875 4.9375 -4.0625 4.9375 -2.8125 C 4.9375 -1.578125 4.375 -1.015625 3.21875 -1.015625 C 2.296875 -1.015625 1.859375 -1.359375 1.578125 -2.453125 L 0.25 -2.453125 C 0.625 -0.625 1.734375 0.1875 3.234375 0.1875 C 4.953125 0.1875 6.28125 -1.15625 6.28125 -2.953125 Z M 6.28125 -2.953125 \"/>\n",
       "</symbol>\n",
       "<symbol overflow=\"visible\" id=\"glyph0-4\">\n",
       "<path style=\"stroke:none;\" d=\"M 6.28125 -2.765625 C 6.28125 -4.359375 5.078125 -5.5625 3.546875 -5.5625 C 2.71875 -5.5625 1.9375 -5.203125 1.484375 -4.578125 L 1.734375 -4.46875 C 1.734375 -6.546875 2.28125 -7.578125 3.484375 -7.578125 C 4.234375 -7.578125 4.609375 -7.234375 4.796875 -6.28125 L 6.125 -6.28125 C 5.90625 -7.8125 4.859375 -8.765625 3.5625 -8.765625 C 1.578125 -8.765625 0.375 -6.96875 0.375 -4.015625 C 0.375 -1.359375 1.421875 0.1875 3.375 0.1875 C 4.984375 0.1875 6.28125 -1.109375 6.28125 -2.765625 Z M 4.9375 -2.6875 C 4.9375 -1.625 4.359375 -1.015625 3.390625 -1.015625 C 2.40625 -1.015625 1.78125 -1.65625 1.78125 -2.75 C 1.78125 -3.796875 2.375 -4.359375 3.421875 -4.359375 C 4.4375 -4.359375 4.9375 -3.828125 4.9375 -2.6875 Z M 4.9375 -2.6875 \"/>\n",
       "</symbol>\n",
       "<symbol overflow=\"visible\" id=\"glyph0-5\">\n",
       "<path style=\"stroke:none;\" d=\"M 6.375 -7.578125 L 6.375 -8.59375 L 0.40625 -8.59375 L 0.40625 -7.28125 L 4.859375 -7.28125 C 3.34375 -5.375 2.109375 -2.796875 1.46875 0 L 2.890625 0 C 3.390625 -2.875 4.546875 -5.359375 6.375 -7.53125 Z M 6.375 -7.578125 \"/>\n",
       "</symbol>\n",
       "<symbol overflow=\"visible\" id=\"glyph0-6\">\n",
       "<path style=\"stroke:none;\" d=\"M 6.265625 -6.140625 C 6.265625 -7.578125 5.015625 -8.765625 3.40625 -8.765625 C 1.671875 -8.765625 0.515625 -7.75 0.453125 -5.5625 L 1.78125 -5.5625 C 1.875 -7.109375 2.328125 -7.578125 3.375 -7.578125 C 4.328125 -7.578125 4.90625 -7.03125 4.90625 -6.125 C 4.90625 -5.453125 4.546875 -4.96875 3.796875 -4.53125 L 2.6875 -3.90625 C 0.90625 -2.90625 0.359375 -2 0.25 0 L 6.203125 0 L 6.203125 -1.3125 L 1.75 -1.3125 C 1.84375 -1.875 2.1875 -2.21875 3.234375 -2.828125 L 4.421875 -3.484375 C 5.609375 -4.109375 6.265625 -5.09375 6.265625 -6.140625 Z M 6.265625 -6.140625 \"/>\n",
       "</symbol>\n",
       "<symbol overflow=\"visible\" id=\"glyph0-7\">\n",
       "<path style=\"stroke:none;\" d=\"M 6.28125 -2.53125 C 6.28125 -3.484375 5.671875 -4.265625 4.953125 -4.625 C 5.65625 -5.046875 5.984375 -5.5625 5.984375 -6.375 C 5.984375 -7.703125 4.8125 -8.765625 3.296875 -8.765625 C 1.796875 -8.765625 0.59375 -7.703125 0.59375 -6.375 C 0.59375 -5.578125 0.921875 -5.046875 1.625 -4.625 C 0.921875 -4.265625 0.296875 -3.484375 0.296875 -2.546875 C 0.296875 -0.984375 1.625 0.1875 3.296875 0.1875 C 4.984375 0.1875 6.28125 -0.984375 6.28125 -2.53125 Z M 4.625 -6.34375 C 4.625 -5.5625 4.1875 -5.15625 3.296875 -5.15625 C 2.40625 -5.15625 1.953125 -5.5625 1.953125 -6.359375 C 1.953125 -7.171875 2.40625 -7.578125 3.296875 -7.578125 C 4.203125 -7.578125 4.625 -7.171875 4.625 -6.34375 Z M 4.9375 -2.515625 C 4.9375 -1.515625 4.359375 -1.015625 3.28125 -1.015625 C 2.25 -1.015625 1.65625 -1.53125 1.65625 -2.515625 C 1.65625 -3.515625 2.25 -4.015625 3.296875 -4.015625 C 4.359375 -4.015625 4.9375 -3.515625 4.9375 -2.515625 Z M 4.9375 -2.515625 \"/>\n",
       "</symbol>\n",
       "<symbol overflow=\"visible\" id=\"glyph0-8\">\n",
       "<path style=\"stroke:none;\" d=\"M 6.234375 -4.578125 C 6.234375 -7.25 5.1875 -8.765625 3.234375 -8.765625 C 1.625 -8.765625 0.3125 -7.484375 0.3125 -5.8125 C 0.3125 -4.234375 1.53125 -3.03125 3.078125 -3.03125 C 3.875 -3.03125 4.5625 -3.359375 5.109375 -4.015625 L 4.875 -4.109375 C 4.859375 -2.046875 4.328125 -1.015625 3.125 -1.015625 C 2.375 -1.015625 1.984375 -1.359375 1.796875 -2.296875 L 0.46875 -2.296875 C 0.703125 -0.78125 1.75 0.1875 3.046875 0.1875 C 5.046875 0.1875 6.234375 -1.640625 6.234375 -4.578125 Z M 4.8125 -5.84375 C 4.8125 -4.796875 4.21875 -4.234375 3.1875 -4.234375 C 2.171875 -4.234375 1.671875 -4.765625 1.671875 -5.90625 C 1.671875 -6.984375 2.25 -7.578125 3.234375 -7.578125 C 4.21875 -7.578125 4.8125 -6.953125 4.8125 -5.84375 Z M 4.8125 -5.84375 \"/>\n",
       "</symbol>\n",
       "<symbol overflow=\"visible\" id=\"glyph0-9\">\n",
       "<path style=\"stroke:none;\" d=\"M 7.53125 -6.3125 C 7.53125 -7.953125 6.4375 -9.015625 4.703125 -9.015625 L 0.953125 -9.015625 L 0.953125 0 L 2.34375 0 L 2.34375 -3.703125 L 4.953125 -3.703125 C 6.390625 -3.703125 7.53125 -4.859375 7.53125 -6.3125 Z M 6.09375 -6.359375 C 6.09375 -5.40625 5.609375 -4.953125 4.53125 -4.953125 L 2.34375 -4.953125 L 2.34375 -7.765625 L 4.53125 -7.765625 C 5.609375 -7.765625 6.09375 -7.3125 6.09375 -6.359375 Z M 6.09375 -6.359375 \"/>\n",
       "</symbol>\n",
       "<symbol overflow=\"visible\" id=\"glyph0-10\">\n",
       "<path style=\"stroke:none;\" d=\"M 6.546875 -0.15625 L 6.546875 -1.078125 C 6.3125 -1.015625 6.265625 -1.015625 6.203125 -1.015625 C 5.859375 -1.015625 5.796875 -1.0625 5.796875 -1.375 L 5.796875 -4.890625 C 5.796875 -6 4.84375 -6.734375 3.296875 -6.734375 C 1.78125 -6.734375 0.703125 -6.015625 0.640625 -4.421875 L 1.90625 -4.421875 C 2 -5.328125 2.328125 -5.546875 3.265625 -5.546875 C 4.15625 -5.546875 4.53125 -5.34375 4.53125 -4.734375 L 4.53125 -4.46875 C 4.53125 -4.0625 4.421875 -4.015625 3.625 -3.90625 C 2.203125 -3.734375 1.984375 -3.6875 1.609375 -3.53125 C 0.875 -3.234375 0.359375 -2.53125 0.359375 -1.765625 C 0.359375 -0.625 1.296875 0.1875 2.5625 0.1875 C 3.375 0.1875 4.25 -0.1875 4.625 -0.59375 C 4.671875 -0.390625 5.25 0.078125 5.734375 0.078125 C 5.9375 0.078125 6.09375 0.0625 6.546875 -0.046875 Z M 4.53125 -2.296875 C 4.53125 -1.40625 3.75 -0.953125 2.78125 -0.953125 C 2 -0.953125 1.6875 -1.109375 1.6875 -1.78125 C 1.6875 -2.453125 1.984375 -2.609375 3.0625 -2.765625 C 4.109375 -2.90625 4.328125 -2.953125 4.53125 -3.03125 Z M 4.53125 -2.296875 \"/>\n",
       "</symbol>\n",
       "<symbol overflow=\"visible\" id=\"glyph0-11\">\n",
       "<path style=\"stroke:none;\" d=\"M 3.1875 -0.125 L 3.1875 -1.15625 C 2.921875 -1.0625 2.765625 -1.0625 2.5625 -1.0625 C 2.140625 -1.0625 2.140625 -1.046875 2.140625 -1.484375 L 2.140625 -5.46875 L 3.1875 -5.46875 L 3.1875 -6.546875 L 2.140625 -6.546875 L 2.140625 -8.28125 L 0.875 -8.28125 L 0.875 -6.546875 L 0.03125 -6.546875 L 0.03125 -5.46875 L 0.875 -5.46875 L 0.875 -1.046875 C 0.875 -0.40625 1.453125 0.078125 2.234375 0.078125 C 2.46875 0.078125 2.71875 0.0625 3.1875 -0.03125 Z M 3.1875 -0.125 \"/>\n",
       "</symbol>\n",
       "<symbol overflow=\"visible\" id=\"glyph0-12\">\n",
       "<path style=\"stroke:none;\" d=\"M 1.96875 -0.125 L 1.96875 -6.546875 L 0.703125 -6.546875 L 0.703125 0 L 1.96875 0 Z M 2.09375 -7.375 L 2.09375 -8.75 L 0.578125 -8.75 L 0.578125 -7.234375 L 2.09375 -7.234375 Z M 2.09375 -7.375 \"/>\n",
       "</symbol>\n",
       "<symbol overflow=\"visible\" id=\"glyph0-13\">\n",
       "<path style=\"stroke:none;\" d=\"M 6.28125 -2.984375 C 6.28125 -3.90625 6.21875 -4.46875 6.03125 -4.9375 C 5.625 -5.96875 4.53125 -6.734375 3.359375 -6.734375 C 1.609375 -6.734375 0.34375 -5.296875 0.34375 -3.234375 C 0.34375 -1.171875 1.578125 0.1875 3.34375 0.1875 C 4.78125 0.1875 5.90625 -0.765625 6.1875 -2.171875 L 4.921875 -2.171875 C 4.59375 -1.21875 4.171875 -1.015625 3.375 -1.015625 C 2.328125 -1.015625 1.6875 -1.546875 1.65625 -2.859375 L 6.28125 -2.859375 Z M 5.1875 -3.78125 C 5.1875 -3.78125 4.984375 -3.921875 4.984375 -3.9375 L 1.6875 -3.9375 C 1.765625 -4.921875 2.34375 -5.546875 3.34375 -5.546875 C 4.328125 -5.546875 4.9375 -4.859375 4.9375 -3.875 Z M 5.1875 -3.78125 \"/>\n",
       "</symbol>\n",
       "<symbol overflow=\"visible\" id=\"glyph0-14\">\n",
       "<path style=\"stroke:none;\" d=\"M 5.96875 -0.125 L 5.96875 -4.890625 C 5.96875 -5.921875 5.0625 -6.734375 3.859375 -6.734375 C 2.921875 -6.734375 2.203125 -6.34375 1.65625 -5.453125 L 1.890625 -5.359375 L 1.890625 -6.546875 L 0.703125 -6.546875 L 0.703125 0 L 1.96875 0 L 1.96875 -3.59375 C 1.96875 -4.890625 2.53125 -5.59375 3.546875 -5.59375 C 4.34375 -5.59375 4.703125 -5.25 4.703125 -4.484375 L 4.703125 0 L 5.96875 0 Z M 5.96875 -0.125 \"/>\n",
       "</symbol>\n",
       "<symbol overflow=\"visible\" id=\"glyph0-15\">\n",
       "<path style=\"stroke:none;\" d=\"\"/>\n",
       "</symbol>\n",
       "<symbol overflow=\"visible\" id=\"glyph0-16\">\n",
       "<path style=\"stroke:none;\" d=\"M 5.921875 -0.125 L 5.921875 -6.546875 L 4.640625 -6.546875 L 4.640625 -2.953125 C 4.640625 -1.671875 4.109375 -0.953125 3.078125 -0.953125 C 2.28125 -0.953125 1.90625 -1.3125 1.90625 -2.0625 L 1.90625 -6.546875 L 0.640625 -6.546875 L 0.640625 -1.671875 C 0.640625 -0.625 1.5625 0.1875 2.78125 0.1875 C 3.703125 0.1875 4.390625 -0.1875 4.984375 -1.015625 L 4.734375 -1.109375 L 4.734375 0 L 5.921875 0 Z M 5.921875 -0.125 \"/>\n",
       "</symbol>\n",
       "<symbol overflow=\"visible\" id=\"glyph0-17\">\n",
       "<path style=\"stroke:none;\" d=\"M 9.25 -0.125 L 9.25 -4.84375 C 9.25 -5.96875 8.5 -6.734375 7.3125 -6.734375 C 6.484375 -6.734375 5.875 -6.4375 5.40625 -5.875 C 5.109375 -6.40625 4.515625 -6.734375 3.703125 -6.734375 C 2.859375 -6.734375 2.203125 -6.390625 1.65625 -5.625 L 1.890625 -5.53125 L 1.890625 -6.546875 L 0.703125 -6.546875 L 0.703125 0 L 1.984375 0 L 1.984375 -4.078125 C 1.984375 -4.984375 2.515625 -5.59375 3.328125 -5.59375 C 4.0625 -5.59375 4.34375 -5.265625 4.34375 -4.46875 L 4.34375 0 L 5.609375 0 L 5.609375 -4.078125 C 5.609375 -4.984375 6.15625 -5.59375 6.96875 -5.59375 C 7.703125 -5.59375 7.984375 -5.25 7.984375 -4.46875 L 7.984375 0 L 9.25 0 Z M 9.25 -0.125 \"/>\n",
       "</symbol>\n",
       "<symbol overflow=\"visible\" id=\"glyph0-18\">\n",
       "<path style=\"stroke:none;\" d=\"M 6.40625 -3.34375 C 6.40625 -5.390625 5.25 -6.734375 3.59375 -6.734375 C 2.71875 -6.734375 2 -6.375 1.53125 -5.65625 L 1.78125 -5.5625 L 1.78125 -9.015625 L 0.5 -9.015625 L 0.5 0 L 1.6875 0 L 1.6875 -1.03125 L 1.4375 -0.9375 C 1.921875 -0.203125 2.65625 0.1875 3.546875 0.1875 C 5.203125 0.1875 6.40625 -1.3125 6.40625 -3.34375 Z M 5.09375 -3.28125 C 5.09375 -1.859375 4.484375 -1.015625 3.390625 -1.015625 C 2.34375 -1.015625 1.78125 -1.84375 1.78125 -3.28125 C 1.78125 -4.75 2.34375 -5.578125 3.390625 -5.53125 C 4.515625 -5.53125 5.09375 -4.6875 5.09375 -3.28125 Z M 5.09375 -3.28125 \"/>\n",
       "</symbol>\n",
       "<symbol overflow=\"visible\" id=\"glyph0-19\">\n",
       "<path style=\"stroke:none;\" d=\"M 3.984375 -5.546875 L 3.984375 -6.6875 C 3.6875 -6.71875 3.59375 -6.734375 3.46875 -6.734375 C 2.8125 -6.734375 2.21875 -6.3125 1.640625 -5.375 L 1.890625 -5.28125 L 1.890625 -6.546875 L 0.703125 -6.546875 L 0.703125 0 L 1.96875 0 L 1.96875 -3.390625 C 1.96875 -4.8125 2.296875 -5.390625 3.984375 -5.40625 Z M 3.984375 -5.546875 \"/>\n",
       "</symbol>\n",
       "<symbol overflow=\"visible\" id=\"glyph1-0\">\n",
       "<path style=\"stroke:none;\" d=\"\"/>\n",
       "</symbol>\n",
       "<symbol overflow=\"visible\" id=\"glyph1-1\">\n",
       "<path style=\"stroke:none;\" d=\"M -0.125 -7.859375 L -9.015625 -7.859375 L -9.015625 -6.46875 L -5.234375 -6.46875 L -5.234375 -2.25 L -9.015625 -2.25 L -9.015625 -0.859375 L 0 -0.859375 L 0 -2.25 L -3.984375 -2.25 L -3.984375 -6.46875 L 0 -6.46875 L 0 -7.859375 Z M -0.125 -7.859375 \"/>\n",
       "</symbol>\n",
       "<symbol overflow=\"visible\" id=\"glyph1-2\">\n",
       "<path style=\"stroke:none;\" d=\"M -2.984375 -6.28125 C -3.90625 -6.28125 -4.46875 -6.21875 -4.9375 -6.03125 C -5.96875 -5.625 -6.734375 -4.53125 -6.734375 -3.359375 C -6.734375 -1.609375 -5.296875 -0.34375 -3.234375 -0.34375 C -1.171875 -0.34375 0.1875 -1.578125 0.1875 -3.34375 C 0.1875 -4.78125 -0.765625 -5.90625 -2.171875 -6.1875 L -2.171875 -4.921875 C -1.21875 -4.59375 -1.015625 -4.171875 -1.015625 -3.375 C -1.015625 -2.328125 -1.546875 -1.6875 -2.859375 -1.65625 L -2.859375 -6.28125 Z M -3.78125 -5.1875 C -3.78125 -5.1875 -3.921875 -4.984375 -3.9375 -4.984375 L -3.9375 -1.6875 C -4.921875 -1.765625 -5.546875 -2.34375 -5.546875 -3.34375 C -5.546875 -4.328125 -4.859375 -4.9375 -3.875 -4.9375 Z M -3.78125 -5.1875 \"/>\n",
       "</symbol>\n",
       "<symbol overflow=\"visible\" id=\"glyph1-3\">\n",
       "<path style=\"stroke:none;\" d=\"M -0.15625 -6.546875 L -1.078125 -6.546875 C -1.015625 -6.3125 -1.015625 -6.265625 -1.015625 -6.203125 C -1.015625 -5.859375 -1.0625 -5.796875 -1.375 -5.796875 L -4.890625 -5.796875 C -6 -5.796875 -6.734375 -4.84375 -6.734375 -3.296875 C -6.734375 -1.78125 -6.015625 -0.703125 -4.421875 -0.640625 L -4.421875 -1.90625 C -5.328125 -2 -5.546875 -2.328125 -5.546875 -3.265625 C -5.546875 -4.15625 -5.34375 -4.53125 -4.734375 -4.53125 L -4.46875 -4.53125 C -4.0625 -4.53125 -4.015625 -4.421875 -3.90625 -3.625 C -3.734375 -2.203125 -3.6875 -1.984375 -3.53125 -1.609375 C -3.234375 -0.875 -2.53125 -0.359375 -1.765625 -0.359375 C -0.625 -0.359375 0.1875 -1.296875 0.1875 -2.5625 C 0.1875 -3.375 -0.1875 -4.25 -0.59375 -4.625 C -0.390625 -4.671875 0.078125 -5.25 0.078125 -5.734375 C 0.078125 -5.9375 0.0625 -6.09375 -0.046875 -6.546875 Z M -2.296875 -4.53125 C -1.40625 -4.53125 -0.953125 -3.75 -0.953125 -2.78125 C -0.953125 -2 -1.109375 -1.6875 -1.78125 -1.6875 C -2.453125 -1.6875 -2.609375 -1.984375 -2.765625 -3.0625 C -2.90625 -4.109375 -2.953125 -4.328125 -3.03125 -4.53125 Z M -2.296875 -4.53125 \"/>\n",
       "</symbol>\n",
       "<symbol overflow=\"visible\" id=\"glyph1-4\">\n",
       "<path style=\"stroke:none;\" d=\"M -5.546875 -3.984375 L -6.6875 -3.984375 C -6.71875 -3.6875 -6.734375 -3.59375 -6.734375 -3.46875 C -6.734375 -2.8125 -6.3125 -2.21875 -5.375 -1.640625 L -5.28125 -1.890625 L -6.546875 -1.890625 L -6.546875 -0.703125 L 0 -0.703125 L 0 -1.96875 L -3.390625 -1.96875 C -4.8125 -1.96875 -5.390625 -2.296875 -5.40625 -3.984375 Z M -5.546875 -3.984375 \"/>\n",
       "</symbol>\n",
       "<symbol overflow=\"visible\" id=\"glyph1-5\">\n",
       "<path style=\"stroke:none;\" d=\"M -0.125 -3.1875 L -1.15625 -3.1875 C -1.0625 -2.921875 -1.0625 -2.765625 -1.0625 -2.5625 C -1.0625 -2.140625 -1.046875 -2.140625 -1.484375 -2.140625 L -5.46875 -2.140625 L -5.46875 -3.1875 L -6.546875 -3.1875 L -6.546875 -2.140625 L -8.28125 -2.140625 L -8.28125 -0.875 L -6.546875 -0.875 L -6.546875 -0.03125 L -5.46875 -0.03125 L -5.46875 -0.875 L -1.046875 -0.875 C -0.40625 -0.875 0.078125 -1.453125 0.078125 -2.234375 C 0.078125 -2.46875 0.0625 -2.71875 -0.03125 -3.1875 Z M -0.125 -3.1875 \"/>\n",
       "</symbol>\n",
       "<symbol overflow=\"visible\" id=\"glyph1-6\">\n",
       "<path style=\"stroke:none;\" d=\"\"/>\n",
       "</symbol>\n",
       "<symbol overflow=\"visible\" id=\"glyph1-7\">\n",
       "<path style=\"stroke:none;\" d=\"M -4.21875 -6.21875 C -7.171875 -6.21875 -8.765625 -5.140625 -8.765625 -3.296875 C -8.765625 -1.46875 -7.15625 -0.375 -4.296875 -0.375 C -1.421875 -0.375 0.1875 -1.46875 0.1875 -3.296875 C 0.1875 -5.09375 -1.421875 -6.21875 -4.21875 -6.21875 Z M -4.3125 -4.859375 C -1.90625 -4.859375 -0.953125 -4.453125 -0.953125 -3.28125 C -0.953125 -2.15625 -1.953125 -1.734375 -4.28125 -1.734375 C -6.609375 -1.734375 -7.578125 -2.15625 -7.578125 -3.296875 C -7.578125 -4.4375 -6.59375 -4.859375 -4.3125 -4.859375 Z M -4.3125 -4.859375 \"/>\n",
       "</symbol>\n",
       "<symbol overflow=\"visible\" id=\"glyph1-8\">\n",
       "<path style=\"stroke:none;\" d=\"M -2.953125 -6.28125 C -4.625 -6.28125 -5.875 -5.046875 -5.875 -3.40625 C -5.875 -2.8125 -5.671875 -2.21875 -5.515625 -2.015625 L -7.28125 -2.28125 L -7.28125 -5.84375 L -8.59375 -5.84375 L -8.59375 -1.203125 L -3.875 -0.515625 L -3.875 -1.71875 C -4.5 -2.25 -4.671875 -2.5625 -4.671875 -3.21875 C -4.671875 -4.359375 -4.0625 -4.9375 -2.8125 -4.9375 C -1.578125 -4.9375 -1.015625 -4.375 -1.015625 -3.21875 C -1.015625 -2.296875 -1.359375 -1.859375 -2.453125 -1.578125 L -2.453125 -0.25 C -0.625 -0.625 0.1875 -1.734375 0.1875 -3.234375 C 0.1875 -4.953125 -1.15625 -6.28125 -2.953125 -6.28125 Z M -2.953125 -6.28125 \"/>\n",
       "</symbol>\n",
       "<symbol overflow=\"visible\" id=\"glyph1-9\">\n",
       "<path style=\"stroke:none;\" d=\"M -0.125 -4.296875 L -8.765625 -4.296875 L -8.765625 -3.359375 C -7.328125 -2.953125 -7.28125 -2.859375 -7.0625 -1.078125 L -6.0625 -1.078125 L -6.0625 -2.96875 L 0 -2.96875 L 0 -4.296875 Z M -0.125 -4.296875 \"/>\n",
       "</symbol>\n",
       "<symbol overflow=\"visible\" id=\"glyph1-10\">\n",
       "<path style=\"stroke:none;\" d=\"M -6.140625 -6.265625 C -7.578125 -6.265625 -8.765625 -5.015625 -8.765625 -3.40625 C -8.765625 -1.671875 -7.75 -0.515625 -5.5625 -0.453125 L -5.5625 -1.78125 C -7.109375 -1.875 -7.578125 -2.328125 -7.578125 -3.375 C -7.578125 -4.328125 -7.03125 -4.90625 -6.125 -4.90625 C -5.453125 -4.90625 -4.96875 -4.546875 -4.53125 -3.796875 L -3.90625 -2.6875 C -2.90625 -0.90625 -2 -0.359375 0 -0.25 L 0 -6.203125 L -1.3125 -6.203125 L -1.3125 -1.75 C -1.875 -1.84375 -2.21875 -2.1875 -2.828125 -3.234375 L -3.484375 -4.421875 C -4.109375 -5.609375 -5.09375 -6.265625 -6.140625 -6.265625 Z M -6.140625 -6.265625 \"/>\n",
       "</symbol>\n",
       "<symbol overflow=\"visible\" id=\"glyph2-0\">\n",
       "<path style=\"stroke:none;\" d=\"\"/>\n",
       "</symbol>\n",
       "<symbol overflow=\"visible\" id=\"glyph2-1\">\n",
       "<path style=\"stroke:none;\" d=\"M 7.4375 -0.125 L 7.4375 -7.25 L 5.953125 -7.25 L 3.890625 -1.03125 L 4.15625 -1.03125 L 2.046875 -7.25 L 0.578125 -7.25 L 0.578125 0 L 1.703125 0 L 1.703125 -5.984375 L 1.421875 -5.984375 L 3.453125 0 L 4.578125 0 L 6.59375 -5.984375 L 6.3125 -5.984375 L 6.3125 0 L 7.4375 0 Z M 7.4375 -0.125 \"/>\n",
       "</symbol>\n",
       "<symbol overflow=\"visible\" id=\"glyph2-2\">\n",
       "<path style=\"stroke:none;\" d=\"M 5.265625 -0.140625 L 5.265625 -0.90625 C 5.046875 -0.859375 5.015625 -0.859375 4.953125 -0.859375 C 4.6875 -0.859375 4.65625 -0.875 4.65625 -1.125 L 4.65625 -3.921875 C 4.65625 -4.8125 3.875 -5.4375 2.640625 -5.4375 C 1.421875 -5.4375 0.53125 -4.828125 0.46875 -3.546875 L 1.546875 -3.546875 C 1.625 -4.28125 1.859375 -4.4375 2.609375 -4.4375 C 3.328125 -4.4375 3.59375 -4.28125 3.59375 -3.8125 L 3.59375 -3.59375 C 3.59375 -3.265625 3.53125 -3.25 2.890625 -3.171875 C 1.765625 -3.03125 1.59375 -3 1.28125 -2.875 C 0.703125 -2.625 0.265625 -2.046875 0.265625 -1.421875 C 0.265625 -0.515625 1.03125 0.140625 2.046875 0.140625 C 2.703125 0.140625 3.421875 -0.15625 3.671875 -0.4375 C 3.703125 -0.328125 4.1875 0.0625 4.578125 0.0625 C 4.75 0.0625 4.875 0.046875 5.265625 -0.046875 Z M 3.59375 -1.859375 C 3.59375 -1.140625 3 -0.8125 2.21875 -0.8125 C 1.609375 -0.8125 1.375 -0.90625 1.375 -1.453125 C 1.375 -1.96875 1.59375 -2.078125 2.453125 -2.203125 C 3.296875 -2.328125 3.46875 -2.359375 3.59375 -2.421875 Z M 3.59375 -1.859375 \"/>\n",
       "</symbol>\n",
       "<symbol overflow=\"visible\" id=\"glyph2-3\">\n",
       "<path style=\"stroke:none;\" d=\"M 1.578125 -0.125 L 1.578125 -7.25 L 0.515625 -7.25 L 0.515625 0 L 1.578125 0 Z M 1.578125 -0.125 \"/>\n",
       "</symbol>\n",
       "<symbol overflow=\"visible\" id=\"glyph2-4\">\n",
       "<path style=\"stroke:none;\" d=\"M 5.0625 -2.40625 C 5.0625 -3.140625 5 -3.59375 4.859375 -3.96875 C 4.53125 -4.796875 3.625 -5.4375 2.6875 -5.4375 C 1.28125 -5.4375 0.234375 -4.265625 0.234375 -2.609375 C 0.234375 -0.953125 1.25 0.140625 2.671875 0.140625 C 3.8125 0.140625 4.75 -0.640625 4.984375 -1.78125 L 3.90625 -1.78125 C 3.640625 -0.984375 3.34375 -0.859375 2.703125 -0.859375 C 1.859375 -0.859375 1.375 -1.25 1.359375 -2.28125 L 5.0625 -2.28125 Z M 4.15625 -3.03125 C 4.15625 -3.03125 3.96875 -3.171875 3.96875 -3.1875 L 1.375 -3.1875 C 1.4375 -3.953125 1.875 -4.4375 2.671875 -4.4375 C 3.46875 -4.4375 3.921875 -3.90625 3.921875 -3.125 Z M 4.15625 -3.03125 \"/>\n",
       "</symbol>\n",
       "<symbol overflow=\"visible\" id=\"glyph2-5\">\n",
       "<path style=\"stroke:none;\" d=\"M 5.6875 -6.328125 L 5.6875 -7.25 L 0.71875 -7.25 L 0.71875 0 L 1.890625 0 L 1.890625 -3.1875 L 5.234375 -3.1875 L 5.234375 -4.234375 L 1.890625 -4.234375 L 1.890625 -6.203125 L 5.6875 -6.203125 Z M 5.6875 -6.328125 \"/>\n",
       "</symbol>\n",
       "<symbol overflow=\"visible\" id=\"glyph2-6\">\n",
       "<path style=\"stroke:none;\" d=\"M 7.421875 -0.125 L 7.421875 -3.890625 C 7.421875 -4.796875 6.796875 -5.4375 5.859375 -5.4375 C 5.1875 -5.4375 4.671875 -5.1875 4.328125 -4.765625 C 4.109375 -5.15625 3.609375 -5.4375 2.953125 -5.4375 C 2.28125 -5.4375 1.734375 -5.140625 1.3125 -4.53125 L 1.546875 -4.4375 L 1.546875 -5.28125 L 0.53125 -5.28125 L 0.53125 0 L 1.609375 0 L 1.609375 -3.28125 C 1.609375 -4.015625 2 -4.46875 2.65625 -4.46875 C 3.25 -4.46875 3.4375 -4.234375 3.4375 -3.59375 L 3.4375 0 L 4.515625 0 L 4.515625 -3.28125 C 4.515625 -4.015625 4.921875 -4.46875 5.578125 -4.46875 C 6.15625 -4.46875 6.34375 -4.21875 6.34375 -3.59375 L 6.34375 0 L 7.421875 0 Z M 7.421875 -0.125 \"/>\n",
       "</symbol>\n",
       "<symbol overflow=\"visible\" id=\"glyph2-7\">\n",
       "<path style=\"stroke:none;\" d=\"M 6.3125 -0.125 L 6.3125 -7.25 L 5.140625 -7.25 L 5.140625 -4.234375 L 1.828125 -4.234375 L 1.828125 -7.25 L 0.65625 -7.25 L 0.65625 0 L 1.828125 0 L 1.828125 -3.1875 L 5.140625 -3.1875 L 5.140625 0 L 6.3125 0 Z M 6.3125 -0.125 \"/>\n",
       "</symbol>\n",
       "<symbol overflow=\"visible\" id=\"glyph2-8\">\n",
       "<path style=\"stroke:none;\" d=\"M 6.65625 -0.125 L 6.65625 -0.40625 C 6.28125 -0.671875 6.234375 -0.828125 6.21875 -1.75 C 6.203125 -2.90625 5.90625 -3.390625 5.140625 -3.71875 L 5.140625 -3.453125 C 5.921875 -3.84375 6.375 -4.453125 6.375 -5.25 C 6.375 -6.453125 5.484375 -7.25 4.109375 -7.25 L 0.75 -7.25 L 0.75 0 L 1.921875 0 L 1.921875 -3.015625 L 4.09375 -3.015625 C 4.875 -3.015625 5.109375 -2.75 5.09375 -1.890625 L 5.078125 -1.265625 C 5.078125 -0.828125 5.15625 -0.40625 5.34375 0 L 6.65625 0 Z M 5.171875 -5.125 C 5.171875 -4.296875 4.890625 -4.0625 3.9375 -4.0625 L 1.921875 -4.0625 L 1.921875 -6.203125 L 3.9375 -6.203125 C 4.9375 -6.203125 5.171875 -5.90625 5.171875 -5.125 Z M 5.171875 -5.125 \"/>\n",
       "</symbol>\n",
       "<symbol overflow=\"visible\" id=\"glyph2-9\">\n",
       "<path style=\"stroke:none;\" d=\"M 6.09375 -2.046875 C 6.09375 -2.90625 5.421875 -3.671875 4.46875 -3.9375 L 2.71875 -4.40625 C 1.875 -4.625 1.703125 -4.765625 1.703125 -5.3125 C 1.703125 -6.015625 2.1875 -6.421875 3.125 -6.421875 C 4.234375 -6.421875 4.734375 -6.03125 4.734375 -5 L 5.859375 -5 C 5.859375 -6.5 4.765625 -7.421875 3.15625 -7.421875 C 1.625 -7.421875 0.53125 -6.453125 0.53125 -5.1875 C 0.53125 -4.328125 1.125 -3.671875 2.046875 -3.421875 L 3.78125 -2.96875 C 4.65625 -2.734375 4.921875 -2.5 4.921875 -1.953125 C 4.921875 -1.1875 4.484375 -0.875 3.28125 -0.875 C 1.953125 -0.875 1.4375 -1.40625 1.4375 -2.53125 L 0.3125 -2.53125 C 0.3125 -0.75 1.578125 0.171875 3.21875 0.171875 C 5 0.171875 6.09375 -0.796875 6.09375 -2.046875 Z M 6.09375 -2.046875 \"/>\n",
       "</symbol>\n",
       "<symbol overflow=\"visible\" id=\"glyph2-10\">\n",
       "<path style=\"stroke:none;\" d=\"M 6.109375 -2.125 C 6.109375 -2.96875 5.59375 -3.609375 4.703125 -3.953125 L 4.703125 -3.6875 C 5.328125 -3.984375 5.796875 -4.640625 5.796875 -5.34375 C 5.796875 -6.359375 4.921875 -7.25 3.59375 -7.25 L 0.609375 -7.25 L 0.609375 0 L 3.921875 0 C 5.171875 0 6.109375 -0.96875 6.109375 -2.125 Z M 4.640625 -5.21875 C 4.640625 -4.515625 4.359375 -4.234375 3.375 -4.234375 L 1.78125 -4.234375 L 1.78125 -6.203125 L 3.375 -6.203125 C 4.359375 -6.203125 4.640625 -5.921875 4.640625 -5.21875 Z M 4.9375 -2.109375 C 4.9375 -1.4375 4.671875 -1.046875 3.828125 -1.046875 L 1.78125 -1.046875 L 1.78125 -3.1875 L 3.828125 -3.1875 C 4.671875 -3.1875 4.9375 -2.796875 4.9375 -2.109375 Z M 4.9375 -2.109375 \"/>\n",
       "</symbol>\n",
       "<symbol overflow=\"visible\" id=\"glyph2-11\">\n",
       "<path style=\"stroke:none;\" d=\"M 6.046875 -5.0625 C 6.046875 -6.375 5.140625 -7.25 3.765625 -7.25 L 0.734375 -7.25 L 0.734375 0 L 1.90625 0 L 1.90625 -2.96875 L 3.96875 -2.96875 C 5.109375 -2.96875 6.046875 -3.90625 6.046875 -5.0625 Z M 4.84375 -5.109375 C 4.84375 -4.34375 4.484375 -4.015625 3.625 -4.015625 L 1.90625 -4.015625 L 1.90625 -6.203125 L 3.625 -6.203125 C 4.484375 -6.203125 4.84375 -5.875 4.84375 -5.109375 Z M 4.84375 -5.109375 \"/>\n",
       "</symbol>\n",
       "<symbol overflow=\"visible\" id=\"glyph2-12\">\n",
       "<path style=\"stroke:none;\" d=\"M 6.53125 -3.625 C 6.53125 -5.796875 5.328125 -7.25 3.546875 -7.25 L 0.703125 -7.25 L 0.703125 0 L 3.546875 0 C 5.3125 0 6.53125 -1.453125 6.53125 -3.625 Z M 5.359375 -3.609375 C 5.359375 -1.859375 4.78125 -1.046875 3.390625 -1.046875 L 1.875 -1.046875 L 1.875 -6.203125 L 3.390625 -6.203125 C 4.78125 -6.203125 5.359375 -5.40625 5.359375 -3.609375 Z M 5.359375 -3.609375 \"/>\n",
       "</symbol>\n",
       "</g>\n",
       "</defs>\n",
       "<g id=\"surface86\">\n",
       "<rect x=\"0\" y=\"0\" width=\"504\" height=\"432\" style=\"fill:rgb(100%,100%,100%);fill-opacity:1;stroke:none;\"/>\n",
       "<path style=\"fill-rule:nonzero;fill:rgb(100%,0%,0%);fill-opacity:1;stroke-width:0.75;stroke-linecap:round;stroke-linejoin:round;stroke:rgb(0%,0%,0%);stroke-opacity:1;stroke-miterlimit:10;\" d=\"M 74.398438 358.558594 L 129.253906 358.558594 L 129.253906 298.65625 L 74.398438 298.65625 Z M 74.398438 358.558594 \"/>\n",
       "<path style=\"fill-rule:nonzero;fill:rgb(100%,0%,0%);fill-opacity:1;stroke-width:0.75;stroke-linecap:round;stroke-linejoin:round;stroke:rgb(0%,0%,0%);stroke-opacity:1;stroke-miterlimit:10;\" d=\"M 140.230469 358.558594 L 195.085938 358.558594 L 195.085938 274.691406 L 140.230469 274.691406 Z M 140.230469 358.558594 \"/>\n",
       "<path style=\"fill-rule:nonzero;fill:rgb(54.509804%,0%,0%);fill-opacity:1;stroke-width:0.75;stroke-linecap:round;stroke-linejoin:round;stroke:rgb(0%,0%,0%);stroke-opacity:1;stroke-miterlimit:10;\" d=\"M 206.058594 358.558594 L 260.914062 358.558594 L 260.914062 274.691406 L 206.058594 274.691406 Z M 206.058594 358.558594 \"/>\n",
       "<path style=\"fill-rule:nonzero;fill:rgb(100%,0%,0%);fill-opacity:1;stroke-width:0.75;stroke-linecap:round;stroke-linejoin:round;stroke:rgb(0%,0%,0%);stroke-opacity:1;stroke-miterlimit:10;\" d=\"M 271.886719 358.558594 L 326.742188 358.558594 L 326.742188 243.242188 L 271.886719 243.242188 Z M 271.886719 358.558594 \"/>\n",
       "<path style=\"fill-rule:nonzero;fill:rgb(54.509804%,0%,0%);fill-opacity:1;stroke-width:0.75;stroke-linecap:round;stroke-linejoin:round;stroke:rgb(0%,0%,0%);stroke-opacity:1;stroke-miterlimit:10;\" d=\"M 337.714844 358.558594 L 392.570312 358.558594 L 392.570312 225.273438 L 337.714844 225.273438 Z M 337.714844 358.558594 \"/>\n",
       "<path style=\"fill-rule:nonzero;fill:rgb(100%,0%,0%);fill-opacity:1;stroke-width:0.75;stroke-linecap:round;stroke-linejoin:round;stroke:rgb(0%,0%,0%);stroke-opacity:1;stroke-miterlimit:10;\" d=\"M 403.542969 358.558594 L 458.398438 358.558594 L 458.398438 222.277344 L 403.542969 222.277344 Z M 403.542969 358.558594 \"/>\n",
       "<g style=\"fill:rgb(0%,0%,0%);fill-opacity:1;\">\n",
       "  <use xlink:href=\"#glyph0-1\" x=\"88.328125\" y=\"384.256836\"/>\n",
       "  <use xlink:href=\"#glyph0-2\" x=\"95\" y=\"384.256836\"/>\n",
       "  <use xlink:href=\"#glyph0-3\" x=\"101.671875\" y=\"384.256836\"/>\n",
       "  <use xlink:href=\"#glyph0-4\" x=\"108.34375\" y=\"384.256836\"/>\n",
       "</g>\n",
       "<g style=\"fill:rgb(0%,0%,0%);fill-opacity:1;\">\n",
       "  <use xlink:href=\"#glyph0-5\" x=\"154.15625\" y=\"384.256836\"/>\n",
       "  <use xlink:href=\"#glyph0-1\" x=\"160.828125\" y=\"384.256836\"/>\n",
       "  <use xlink:href=\"#glyph0-5\" x=\"167.5\" y=\"384.256836\"/>\n",
       "  <use xlink:href=\"#glyph0-6\" x=\"174.171875\" y=\"384.256836\"/>\n",
       "</g>\n",
       "<g style=\"fill:rgb(0%,0%,0%);fill-opacity:1;\">\n",
       "  <use xlink:href=\"#glyph0-7\" x=\"219.984375\" y=\"384.256836\"/>\n",
       "  <use xlink:href=\"#glyph0-5\" x=\"226.65625\" y=\"384.256836\"/>\n",
       "  <use xlink:href=\"#glyph0-4\" x=\"233.328125\" y=\"384.256836\"/>\n",
       "  <use xlink:href=\"#glyph0-3\" x=\"240\" y=\"384.256836\"/>\n",
       "</g>\n",
       "<g style=\"fill:rgb(0%,0%,0%);fill-opacity:1;\">\n",
       "  <use xlink:href=\"#glyph0-8\" x=\"288.8125\" y=\"384.256836\"/>\n",
       "  <use xlink:href=\"#glyph0-7\" x=\"295.484375\" y=\"384.256836\"/>\n",
       "  <use xlink:href=\"#glyph0-5\" x=\"302.15625\" y=\"384.256836\"/>\n",
       "</g>\n",
       "<g style=\"fill:rgb(0%,0%,0%);fill-opacity:1;\">\n",
       "  <use xlink:href=\"#glyph0-7\" x=\"351.644531\" y=\"384.256836\"/>\n",
       "  <use xlink:href=\"#glyph0-5\" x=\"358.316406\" y=\"384.256836\"/>\n",
       "  <use xlink:href=\"#glyph0-2\" x=\"364.988281\" y=\"384.256836\"/>\n",
       "  <use xlink:href=\"#glyph0-6\" x=\"371.660156\" y=\"384.256836\"/>\n",
       "</g>\n",
       "<g style=\"fill:rgb(0%,0%,0%);fill-opacity:1;\">\n",
       "  <use xlink:href=\"#glyph0-2\" x=\"420.472656\" y=\"384.256836\"/>\n",
       "  <use xlink:href=\"#glyph0-3\" x=\"427.144531\" y=\"384.256836\"/>\n",
       "  <use xlink:href=\"#glyph0-6\" x=\"433.816406\" y=\"384.256836\"/>\n",
       "</g>\n",
       "<g style=\"fill:rgb(0%,0%,0%);fill-opacity:1;\">\n",
       "  <use xlink:href=\"#glyph0-9\" x=\"225.398438\" y=\"413.057617\"/>\n",
       "  <use xlink:href=\"#glyph0-10\" x=\"233.042969\" y=\"413.057617\"/>\n",
       "  <use xlink:href=\"#glyph0-11\" x=\"239.714844\" y=\"413.057617\"/>\n",
       "  <use xlink:href=\"#glyph0-12\" x=\"243.050781\" y=\"413.057617\"/>\n",
       "  <use xlink:href=\"#glyph0-13\" x=\"245.714844\" y=\"413.057617\"/>\n",
       "  <use xlink:href=\"#glyph0-14\" x=\"252.386719\" y=\"413.057617\"/>\n",
       "  <use xlink:href=\"#glyph0-11\" x=\"259.058594\" y=\"413.057617\"/>\n",
       "  <use xlink:href=\"#glyph0-15\" x=\"262.394531\" y=\"413.057617\"/>\n",
       "  <use xlink:href=\"#glyph0-14\" x=\"265.730469\" y=\"413.057617\"/>\n",
       "  <use xlink:href=\"#glyph0-16\" x=\"272.402344\" y=\"413.057617\"/>\n",
       "  <use xlink:href=\"#glyph0-17\" x=\"279.074219\" y=\"413.057617\"/>\n",
       "  <use xlink:href=\"#glyph0-18\" x=\"289.070312\" y=\"413.057617\"/>\n",
       "  <use xlink:href=\"#glyph0-13\" x=\"295.742188\" y=\"413.057617\"/>\n",
       "  <use xlink:href=\"#glyph0-19\" x=\"302.414062\" y=\"413.057617\"/>\n",
       "</g>\n",
       "<g style=\"fill:rgb(0%,0%,0%);fill-opacity:1;\">\n",
       "  <use xlink:href=\"#glyph1-1\" x=\"12.737305\" y=\"235.800781\"/>\n",
       "  <use xlink:href=\"#glyph1-2\" x=\"12.737305\" y=\"227.136719\"/>\n",
       "  <use xlink:href=\"#glyph1-3\" x=\"12.737305\" y=\"220.464844\"/>\n",
       "  <use xlink:href=\"#glyph1-4\" x=\"12.737305\" y=\"213.792969\"/>\n",
       "  <use xlink:href=\"#glyph1-5\" x=\"12.737305\" y=\"209.4375\"/>\n",
       "  <use xlink:href=\"#glyph1-6\" x=\"12.737305\" y=\"206.101562\"/>\n",
       "  <use xlink:href=\"#glyph1-4\" x=\"12.737305\" y=\"202.765625\"/>\n",
       "  <use xlink:href=\"#glyph1-3\" x=\"12.737305\" y=\"198.829102\"/>\n",
       "  <use xlink:href=\"#glyph1-5\" x=\"12.737305\" y=\"192.157227\"/>\n",
       "  <use xlink:href=\"#glyph1-2\" x=\"12.737305\" y=\"189.000977\"/>\n",
       "</g>\n",
       "<path style=\"fill:none;stroke-width:0.75;stroke-linecap:round;stroke-linejoin:round;stroke:rgb(0%,0%,0%);stroke-opacity:1;stroke-miterlimit:10;\" d=\"M 59.039062 358.558594 L 59.039062 59.039062 \"/>\n",
       "<path style=\"fill:none;stroke-width:0.75;stroke-linecap:round;stroke-linejoin:round;stroke:rgb(0%,0%,0%);stroke-opacity:1;stroke-miterlimit:10;\" d=\"M 59.039062 358.558594 L 51.839844 358.558594 \"/>\n",
       "<path style=\"fill:none;stroke-width:0.75;stroke-linecap:round;stroke-linejoin:round;stroke:rgb(0%,0%,0%);stroke-opacity:1;stroke-miterlimit:10;\" d=\"M 59.039062 283.679688 L 51.839844 283.679688 \"/>\n",
       "<path style=\"fill:none;stroke-width:0.75;stroke-linecap:round;stroke-linejoin:round;stroke:rgb(0%,0%,0%);stroke-opacity:1;stroke-miterlimit:10;\" d=\"M 59.039062 208.800781 L 51.839844 208.800781 \"/>\n",
       "<path style=\"fill:none;stroke-width:0.75;stroke-linecap:round;stroke-linejoin:round;stroke:rgb(0%,0%,0%);stroke-opacity:1;stroke-miterlimit:10;\" d=\"M 59.039062 133.921875 L 51.839844 133.921875 \"/>\n",
       "<path style=\"fill:none;stroke-width:0.75;stroke-linecap:round;stroke-linejoin:round;stroke:rgb(0%,0%,0%);stroke-opacity:1;stroke-miterlimit:10;\" d=\"M 59.039062 59.039062 L 51.839844 59.039062 \"/>\n",
       "<g style=\"fill:rgb(0%,0%,0%);fill-opacity:1;\">\n",
       "  <use xlink:href=\"#glyph1-7\" x=\"41.538086\" y=\"362.058594\"/>\n",
       "</g>\n",
       "<g style=\"fill:rgb(0%,0%,0%);fill-opacity:1;\">\n",
       "  <use xlink:href=\"#glyph1-8\" x=\"41.538086\" y=\"290.679688\"/>\n",
       "  <use xlink:href=\"#glyph1-7\" x=\"41.538086\" y=\"284.007812\"/>\n",
       "</g>\n",
       "<g style=\"fill:rgb(0%,0%,0%);fill-opacity:1;\">\n",
       "  <use xlink:href=\"#glyph1-9\" x=\"41.538086\" y=\"219.300781\"/>\n",
       "  <use xlink:href=\"#glyph1-7\" x=\"41.538086\" y=\"212.628906\"/>\n",
       "  <use xlink:href=\"#glyph1-7\" x=\"41.538086\" y=\"205.957031\"/>\n",
       "</g>\n",
       "<g style=\"fill:rgb(0%,0%,0%);fill-opacity:1;\">\n",
       "  <use xlink:href=\"#glyph1-9\" x=\"41.538086\" y=\"144.421875\"/>\n",
       "  <use xlink:href=\"#glyph1-8\" x=\"41.538086\" y=\"137.75\"/>\n",
       "  <use xlink:href=\"#glyph1-7\" x=\"41.538086\" y=\"131.078125\"/>\n",
       "</g>\n",
       "<g style=\"fill:rgb(0%,0%,0%);fill-opacity:1;\">\n",
       "  <use xlink:href=\"#glyph1-10\" x=\"41.538086\" y=\"69.539062\"/>\n",
       "  <use xlink:href=\"#glyph1-7\" x=\"41.538086\" y=\"62.867188\"/>\n",
       "  <use xlink:href=\"#glyph1-7\" x=\"41.538086\" y=\"56.195312\"/>\n",
       "</g>\n",
       "<path style=\" stroke:none;fill-rule:nonzero;fill:rgb(100%,0%,0%);fill-opacity:1;\" d=\"M 99.128906 241.453125 L 104.527344 241.453125 L 104.527344 236.050781 L 99.128906 236.050781 Z M 99.128906 241.453125 \"/>\n",
       "<path style=\" stroke:none;fill-rule:nonzero;fill:rgb(100%,0%,0%);fill-opacity:1;\" d=\"M 164.957031 160.582031 L 170.355469 160.582031 L 170.355469 155.179688 L 164.957031 155.179688 Z M 164.957031 160.582031 \"/>\n",
       "<path style=\" stroke:none;fill-rule:nonzero;fill:rgb(54.509804%,0%,0%);fill-opacity:1;\" d=\"M 230.785156 181.546875 L 236.1875 181.546875 L 236.1875 176.148438 L 230.785156 176.148438 Z M 230.785156 181.546875 \"/>\n",
       "<path style=\" stroke:none;fill-rule:nonzero;fill:rgb(100%,0%,0%);fill-opacity:1;\" d=\"M 296.613281 196.523438 L 302.015625 196.523438 L 302.015625 191.125 L 296.613281 191.125 Z M 296.613281 196.523438 \"/>\n",
       "<path style=\" stroke:none;fill-rule:nonzero;fill:rgb(54.509804%,0%,0%);fill-opacity:1;\" d=\"M 362.441406 229.472656 L 367.84375 229.472656 L 367.84375 224.070312 L 362.441406 224.070312 Z M 362.441406 229.472656 \"/>\n",
       "<path style=\" stroke:none;fill-rule:nonzero;fill:rgb(100%,0%,0%);fill-opacity:1;\" d=\"M 428.269531 217.492188 L 433.671875 217.492188 L 433.671875 212.089844 L 428.269531 212.089844 Z M 428.269531 217.492188 \"/>\n",
       "<path style=\" stroke:none;fill-rule:nonzero;fill:rgb(100%,0%,0%);fill-opacity:1;\" d=\"M 104.527344 178.847656 C 104.527344 182.449219 99.128906 182.449219 99.128906 178.847656 C 99.128906 175.246094 104.527344 175.246094 104.527344 178.847656 \"/>\n",
       "<path style=\" stroke:none;fill-rule:nonzero;fill:rgb(100%,0%,0%);fill-opacity:1;\" d=\"M 170.355469 127.929688 C 170.355469 131.53125 164.957031 131.53125 164.957031 127.929688 C 164.957031 124.328125 170.355469 124.328125 170.355469 127.929688 \"/>\n",
       "<path style=\" stroke:none;fill-rule:nonzero;fill:rgb(54.509804%,0%,0%);fill-opacity:1;\" d=\"M 236.1875 74.015625 C 236.1875 77.617188 230.785156 77.617188 230.785156 74.015625 C 230.785156 70.414062 236.1875 70.414062 236.1875 74.015625 \"/>\n",
       "<path style=\" stroke:none;fill-rule:nonzero;fill:rgb(100%,0%,0%);fill-opacity:1;\" d=\"M 302.015625 88.992188 C 302.015625 92.59375 296.613281 92.59375 296.613281 88.992188 C 296.613281 85.390625 302.015625 85.390625 302.015625 88.992188 \"/>\n",
       "<path style=\" stroke:none;fill-rule:nonzero;fill:rgb(54.509804%,0%,0%);fill-opacity:1;\" d=\"M 367.84375 196.820312 C 367.84375 200.417969 362.441406 200.417969 362.441406 196.820312 C 362.441406 193.21875 367.84375 193.21875 367.84375 196.820312 \"/>\n",
       "<path style=\" stroke:none;fill-rule:nonzero;fill:rgb(100%,0%,0%);fill-opacity:1;\" d=\"M 433.671875 88.992188 C 433.671875 92.59375 428.269531 92.59375 428.269531 88.992188 C 428.269531 85.390625 433.671875 85.390625 433.671875 88.992188 \"/>\n",
       "<path style=\"fill:none;stroke-width:0.75;stroke-linecap:round;stroke-linejoin:round;stroke:rgb(0%,0%,0%);stroke-opacity:1;stroke-miterlimit:10;\" d=\"M 63.429688 74.015625 L 118.070312 74.015625 L 118.070312 101.878906 L 63.429688 101.878906 Z M 63.429688 74.015625 \"/>\n",
       "<path style=\" stroke:none;fill-rule:nonzero;fill:rgb(100%,0%,0%);fill-opacity:1;\" d=\"M 69.910156 85.464844 L 74.230469 85.464844 L 74.230469 81.144531 L 69.910156 81.144531 Z M 69.910156 85.464844 \"/>\n",
       "<path style=\" stroke:none;fill-rule:nonzero;fill:rgb(54.509804%,0%,0%);fill-opacity:1;\" d=\"M 69.910156 94.75 L 74.230469 94.75 L 74.230469 90.429688 L 69.910156 90.429688 Z M 69.910156 94.75 \"/>\n",
       "<g style=\"fill:rgb(0%,0%,0%);fill-opacity:1;\">\n",
       "  <use xlink:href=\"#glyph2-1\" x=\"80.707031\" y=\"86.324219\"/>\n",
       "  <use xlink:href=\"#glyph2-2\" x=\"88.698242\" y=\"86.324219\"/>\n",
       "  <use xlink:href=\"#glyph2-3\" x=\"94.032227\" y=\"86.324219\"/>\n",
       "  <use xlink:href=\"#glyph2-4\" x=\"96.162109\" y=\"86.324219\"/>\n",
       "</g>\n",
       "<g style=\"fill:rgb(0%,0%,0%);fill-opacity:1;\">\n",
       "  <use xlink:href=\"#glyph2-5\" x=\"80.707031\" y=\"95.609375\"/>\n",
       "  <use xlink:href=\"#glyph2-4\" x=\"86.329102\" y=\"95.609375\"/>\n",
       "  <use xlink:href=\"#glyph2-6\" x=\"91.663086\" y=\"95.609375\"/>\n",
       "  <use xlink:href=\"#glyph2-2\" x=\"99.654297\" y=\"95.609375\"/>\n",
       "  <use xlink:href=\"#glyph2-3\" x=\"104.988281\" y=\"95.609375\"/>\n",
       "  <use xlink:href=\"#glyph2-4\" x=\"107.118164\" y=\"95.609375\"/>\n",
       "</g>\n",
       "<path style=\"fill:none;stroke-width:0.75;stroke-linecap:round;stroke-linejoin:round;stroke:rgb(0%,0%,0%);stroke-opacity:1;stroke-miterlimit:10;\" d=\"M 63.429688 118.945312 L 105.589844 118.945312 L 105.589844 156.09375 L 63.429688 156.09375 Z M 63.429688 118.945312 \"/>\n",
       "<path style=\" stroke:none;fill-rule:nonzero;fill:rgb(0%,0%,0%);fill-opacity:1;\" d=\"M 69.910156 130.390625 L 74.230469 130.390625 L 74.230469 126.070312 L 69.910156 126.070312 Z M 69.910156 130.390625 \"/>\n",
       "<path style=\"fill:none;stroke-width:0.75;stroke-linecap:round;stroke-linejoin:round;stroke:rgb(0%,0%,0%);stroke-opacity:1;stroke-miterlimit:10;\" d=\"M 72.070312 140.878906 L 74.976562 135 L 69.160156 135 L 72.070312 140.878906 \"/>\n",
       "<path style=\"fill:none;stroke-width:0.75;stroke-linecap:round;stroke-linejoin:round;stroke:rgb(0%,0%,0%);stroke-opacity:1;stroke-miterlimit:10;\" d=\"M 72.070312 134.160156 L 74.976562 140.039062 L 69.160156 140.039062 L 72.070312 134.160156 \"/>\n",
       "<path style=\"fill:none;stroke-width:0.75;stroke-linecap:round;stroke-linejoin:round;stroke:rgb(0%,0%,0%);stroke-opacity:1;stroke-miterlimit:10;\" d=\"M 74.230469 146.804688 C 74.230469 149.6875 69.910156 149.6875 69.910156 146.804688 C 69.910156 143.925781 74.230469 143.925781 74.230469 146.804688 \"/>\n",
       "<path style=\"fill:none;stroke-width:0.75;stroke-linecap:round;stroke-linejoin:round;stroke:rgb(0%,0%,0%);stroke-opacity:1;stroke-miterlimit:10;\" d=\"M 69.910156 146.804688 L 74.230469 146.804688 \"/>\n",
       "<path style=\"fill:none;stroke-width:0.75;stroke-linecap:round;stroke-linejoin:round;stroke:rgb(0%,0%,0%);stroke-opacity:1;stroke-miterlimit:10;\" d=\"M 72.070312 148.964844 L 72.070312 144.644531 \"/>\n",
       "<g style=\"fill:rgb(0%,0%,0%);fill-opacity:1;\">\n",
       "  <use xlink:href=\"#glyph2-7\" x=\"80.707031\" y=\"131.25\"/>\n",
       "  <use xlink:href=\"#glyph2-8\" x=\"87.633789\" y=\"131.25\"/>\n",
       "</g>\n",
       "<g style=\"fill:rgb(0%,0%,0%);fill-opacity:1;\">\n",
       "  <use xlink:href=\"#glyph2-9\" x=\"80.707031\" y=\"140.539062\"/>\n",
       "  <use xlink:href=\"#glyph2-10\" x=\"87.106445\" y=\"140.539062\"/>\n",
       "  <use xlink:href=\"#glyph2-11\" x=\"93.505859\" y=\"140.539062\"/>\n",
       "</g>\n",
       "<g style=\"fill:rgb(0%,0%,0%);fill-opacity:1;\">\n",
       "  <use xlink:href=\"#glyph2-12\" x=\"80.707031\" y=\"149.824219\"/>\n",
       "  <use xlink:href=\"#glyph2-10\" x=\"87.633789\" y=\"149.824219\"/>\n",
       "  <use xlink:href=\"#glyph2-11\" x=\"94.033203\" y=\"149.824219\"/>\n",
       "</g>\n",
       "</g>\n",
       "</svg>\n"
      ],
      "text/plain": [
       "plot without title"
      ]
     },
     "metadata": {
      "image/svg+xml": {
       "isolated": true
      }
     },
     "output_type": "display_data"
    },
    {
     "data": {
      "image/png": "[encoded data removed]",
      "image/svg+xml": [
       "<?xml version=\"1.0\" encoding=\"UTF-8\"?>\n",
       "<svg xmlns=\"http://www.w3.org/2000/svg\" xmlns:xlink=\"http://www.w3.org/1999/xlink\" width=\"504pt\" height=\"432pt\" viewBox=\"0 0 504 432\" version=\"1.1\">\n",
       "<defs>\n",
       "<g>\n",
       "<symbol overflow=\"visible\" id=\"glyph0-0\">\n",
       "<path style=\"stroke:none;\" d=\"\"/>\n",
       "</symbol>\n",
       "<symbol overflow=\"visible\" id=\"glyph0-1\">\n",
       "<path style=\"stroke:none;\" d=\"M 7.078125 -7.890625 L 7.078125 -9.015625 L 0.9375 -9.015625 L 0.9375 0 L 2.328125 0 L 2.328125 -3.984375 L 6.5 -3.984375 L 6.5 -5.234375 L 2.328125 -5.234375 L 2.328125 -7.765625 L 7.078125 -7.765625 Z M 7.078125 -7.890625 \"/>\n",
       "</symbol>\n",
       "<symbol overflow=\"visible\" id=\"glyph0-2\">\n",
       "<path style=\"stroke:none;\" d=\"M 6.28125 -2.984375 C 6.28125 -3.90625 6.21875 -4.46875 6.03125 -4.9375 C 5.625 -5.96875 4.53125 -6.734375 3.359375 -6.734375 C 1.609375 -6.734375 0.34375 -5.296875 0.34375 -3.234375 C 0.34375 -1.171875 1.578125 0.1875 3.34375 0.1875 C 4.78125 0.1875 5.90625 -0.765625 6.1875 -2.171875 L 4.921875 -2.171875 C 4.59375 -1.21875 4.171875 -1.015625 3.375 -1.015625 C 2.328125 -1.015625 1.6875 -1.546875 1.65625 -2.859375 L 6.28125 -2.859375 Z M 5.1875 -3.78125 C 5.1875 -3.78125 4.984375 -3.921875 4.984375 -3.9375 L 1.6875 -3.9375 C 1.765625 -4.921875 2.34375 -5.546875 3.34375 -5.546875 C 4.328125 -5.546875 4.9375 -4.859375 4.9375 -3.875 Z M 5.1875 -3.78125 \"/>\n",
       "</symbol>\n",
       "<symbol overflow=\"visible\" id=\"glyph0-3\">\n",
       "<path style=\"stroke:none;\" d=\"M 9.25 -0.125 L 9.25 -4.84375 C 9.25 -5.96875 8.5 -6.734375 7.3125 -6.734375 C 6.484375 -6.734375 5.875 -6.4375 5.40625 -5.875 C 5.109375 -6.40625 4.515625 -6.734375 3.703125 -6.734375 C 2.859375 -6.734375 2.203125 -6.390625 1.65625 -5.625 L 1.890625 -5.53125 L 1.890625 -6.546875 L 0.703125 -6.546875 L 0.703125 0 L 1.984375 0 L 1.984375 -4.078125 C 1.984375 -4.984375 2.515625 -5.59375 3.328125 -5.59375 C 4.0625 -5.59375 4.34375 -5.265625 4.34375 -4.46875 L 4.34375 0 L 5.609375 0 L 5.609375 -4.078125 C 5.609375 -4.984375 6.15625 -5.59375 6.96875 -5.59375 C 7.703125 -5.59375 7.984375 -5.25 7.984375 -4.46875 L 7.984375 0 L 9.25 0 Z M 9.25 -0.125 \"/>\n",
       "</symbol>\n",
       "<symbol overflow=\"visible\" id=\"glyph0-4\">\n",
       "<path style=\"stroke:none;\" d=\"M 6.546875 -0.15625 L 6.546875 -1.078125 C 6.3125 -1.015625 6.265625 -1.015625 6.203125 -1.015625 C 5.859375 -1.015625 5.796875 -1.0625 5.796875 -1.375 L 5.796875 -4.890625 C 5.796875 -6 4.84375 -6.734375 3.296875 -6.734375 C 1.78125 -6.734375 0.703125 -6.015625 0.640625 -4.421875 L 1.90625 -4.421875 C 2 -5.328125 2.328125 -5.546875 3.265625 -5.546875 C 4.15625 -5.546875 4.53125 -5.34375 4.53125 -4.734375 L 4.53125 -4.46875 C 4.53125 -4.0625 4.421875 -4.015625 3.625 -3.90625 C 2.203125 -3.734375 1.984375 -3.6875 1.609375 -3.53125 C 0.875 -3.234375 0.359375 -2.53125 0.359375 -1.765625 C 0.359375 -0.625 1.296875 0.1875 2.5625 0.1875 C 3.375 0.1875 4.25 -0.1875 4.625 -0.59375 C 4.671875 -0.390625 5.25 0.078125 5.734375 0.078125 C 5.9375 0.078125 6.09375 0.0625 6.546875 -0.046875 Z M 4.53125 -2.296875 C 4.53125 -1.40625 3.75 -0.953125 2.78125 -0.953125 C 2 -0.953125 1.6875 -1.109375 1.6875 -1.78125 C 1.6875 -2.453125 1.984375 -2.609375 3.0625 -2.765625 C 4.109375 -2.90625 4.328125 -2.953125 4.53125 -3.03125 Z M 4.53125 -2.296875 \"/>\n",
       "</symbol>\n",
       "<symbol overflow=\"visible\" id=\"glyph0-5\">\n",
       "<path style=\"stroke:none;\" d=\"M 1.9375 -0.125 L 1.9375 -9.015625 L 0.671875 -9.015625 L 0.671875 0 L 1.9375 0 Z M 1.9375 -0.125 \"/>\n",
       "</symbol>\n",
       "<symbol overflow=\"visible\" id=\"glyph0-6\">\n",
       "<path style=\"stroke:none;\" d=\"M 9.265625 -0.125 L 9.265625 -9.015625 L 7.484375 -9.015625 L 4.890625 -1.265625 L 5.171875 -1.265625 L 2.53125 -9.015625 L 0.75 -9.015625 L 0.75 0 L 2.09375 0 L 2.09375 -7.46875 L 1.8125 -7.46875 L 4.34375 0 L 5.703125 0 L 8.203125 -7.46875 L 7.9375 -7.46875 L 7.9375 0 L 9.265625 0 Z M 9.265625 -0.125 \"/>\n",
       "</symbol>\n",
       "<symbol overflow=\"visible\" id=\"glyph1-0\">\n",
       "<path style=\"stroke:none;\" d=\"\"/>\n",
       "</symbol>\n",
       "<symbol overflow=\"visible\" id=\"glyph1-1\">\n",
       "<path style=\"stroke:none;\" d=\"M -2.171875 -6.375 L -3.25 -6.375 L -3.25 -5.109375 L -8.765625 -5.109375 L -8.765625 -4.125 L -3.328125 -0.1875 L -2.046875 -0.1875 L -2.046875 -3.78125 L 0 -3.78125 L 0 -5.109375 L -2.046875 -5.109375 L -2.046875 -6.375 Z M -3.25 -3.921875 L -3.25 -1.515625 L -6.75 -4.015625 L -6.84375 -3.78125 L -3.25 -3.78125 Z M -3.25 -3.921875 \"/>\n",
       "</symbol>\n",
       "<symbol overflow=\"visible\" id=\"glyph1-2\">\n",
       "<path style=\"stroke:none;\" d=\"M -4.21875 -6.21875 C -7.171875 -6.21875 -8.765625 -5.140625 -8.765625 -3.296875 C -8.765625 -1.46875 -7.15625 -0.375 -4.296875 -0.375 C -1.421875 -0.375 0.1875 -1.46875 0.1875 -3.296875 C 0.1875 -5.09375 -1.421875 -6.21875 -4.21875 -6.21875 Z M -4.3125 -4.859375 C -1.90625 -4.859375 -0.953125 -4.453125 -0.953125 -3.28125 C -0.953125 -2.15625 -1.953125 -1.734375 -4.28125 -1.734375 C -6.609375 -1.734375 -7.578125 -2.15625 -7.578125 -3.296875 C -7.578125 -4.4375 -6.59375 -4.859375 -4.3125 -4.859375 Z M -4.3125 -4.859375 \"/>\n",
       "</symbol>\n",
       "<symbol overflow=\"visible\" id=\"glyph1-3\">\n",
       "<path style=\"stroke:none;\" d=\"M -2.953125 -6.28125 C -4.625 -6.28125 -5.875 -5.046875 -5.875 -3.40625 C -5.875 -2.8125 -5.671875 -2.21875 -5.515625 -2.015625 L -7.28125 -2.28125 L -7.28125 -5.84375 L -8.59375 -5.84375 L -8.59375 -1.203125 L -3.875 -0.515625 L -3.875 -1.71875 C -4.5 -2.25 -4.671875 -2.5625 -4.671875 -3.21875 C -4.671875 -4.359375 -4.0625 -4.9375 -2.8125 -4.9375 C -1.578125 -4.9375 -1.015625 -4.375 -1.015625 -3.21875 C -1.015625 -2.296875 -1.359375 -1.859375 -2.453125 -1.578125 L -2.453125 -0.25 C -0.625 -0.625 0.1875 -1.734375 0.1875 -3.234375 C 0.1875 -4.953125 -1.15625 -6.28125 -2.953125 -6.28125 Z M -2.953125 -6.28125 \"/>\n",
       "</symbol>\n",
       "<symbol overflow=\"visible\" id=\"glyph1-4\">\n",
       "<path style=\"stroke:none;\" d=\"M -2.765625 -6.28125 C -4.359375 -6.28125 -5.5625 -5.078125 -5.5625 -3.546875 C -5.5625 -2.71875 -5.203125 -1.9375 -4.578125 -1.484375 L -4.46875 -1.734375 C -6.546875 -1.734375 -7.578125 -2.28125 -7.578125 -3.484375 C -7.578125 -4.234375 -7.234375 -4.609375 -6.28125 -4.796875 L -6.28125 -6.125 C -7.8125 -5.90625 -8.765625 -4.859375 -8.765625 -3.5625 C -8.765625 -1.578125 -6.96875 -0.375 -4.015625 -0.375 C -1.359375 -0.375 0.1875 -1.421875 0.1875 -3.375 C 0.1875 -4.984375 -1.109375 -6.28125 -2.765625 -6.28125 Z M -2.6875 -4.9375 C -1.625 -4.9375 -1.015625 -4.359375 -1.015625 -3.390625 C -1.015625 -2.40625 -1.65625 -1.78125 -2.75 -1.78125 C -3.796875 -1.78125 -4.359375 -2.375 -4.359375 -3.421875 C -4.359375 -4.4375 -3.828125 -4.9375 -2.6875 -4.9375 Z M -2.6875 -4.9375 \"/>\n",
       "</symbol>\n",
       "<symbol overflow=\"visible\" id=\"glyph1-5\">\n",
       "<path style=\"stroke:none;\" d=\"M -7.578125 -6.375 L -8.59375 -6.375 L -8.59375 -0.40625 L -7.28125 -0.40625 L -7.28125 -4.859375 C -5.375 -3.34375 -2.796875 -2.109375 0 -1.46875 L 0 -2.890625 C -2.875 -3.390625 -5.359375 -4.546875 -7.53125 -6.375 Z M -7.578125 -6.375 \"/>\n",
       "</symbol>\n",
       "<symbol overflow=\"visible\" id=\"glyph1-6\">\n",
       "<path style=\"stroke:none;\" d=\"M -2.53125 -6.28125 C -3.484375 -6.28125 -4.265625 -5.671875 -4.625 -4.953125 C -5.046875 -5.65625 -5.5625 -5.984375 -6.375 -5.984375 C -7.703125 -5.984375 -8.765625 -4.8125 -8.765625 -3.296875 C -8.765625 -1.796875 -7.703125 -0.59375 -6.375 -0.59375 C -5.578125 -0.59375 -5.046875 -0.921875 -4.625 -1.625 C -4.265625 -0.921875 -3.484375 -0.296875 -2.546875 -0.296875 C -0.984375 -0.296875 0.1875 -1.625 0.1875 -3.296875 C 0.1875 -4.984375 -0.984375 -6.28125 -2.53125 -6.28125 Z M -6.34375 -4.625 C -5.5625 -4.625 -5.15625 -4.1875 -5.15625 -3.296875 C -5.15625 -2.40625 -5.5625 -1.953125 -6.359375 -1.953125 C -7.171875 -1.953125 -7.578125 -2.40625 -7.578125 -3.296875 C -7.578125 -4.203125 -7.171875 -4.625 -6.34375 -4.625 Z M -2.515625 -4.9375 C -1.515625 -4.9375 -1.015625 -4.359375 -1.015625 -3.28125 C -1.015625 -2.25 -1.53125 -1.65625 -2.515625 -1.65625 C -3.515625 -1.65625 -4.015625 -2.25 -4.015625 -3.296875 C -4.015625 -4.359375 -3.515625 -4.9375 -2.515625 -4.9375 Z M -2.515625 -4.9375 \"/>\n",
       "</symbol>\n",
       "<symbol overflow=\"visible\" id=\"glyph1-7\">\n",
       "<path style=\"stroke:none;\" d=\"M -4.578125 -6.234375 C -7.25 -6.234375 -8.765625 -5.1875 -8.765625 -3.234375 C -8.765625 -1.625 -7.484375 -0.3125 -5.8125 -0.3125 C -4.234375 -0.3125 -3.03125 -1.53125 -3.03125 -3.078125 C -3.03125 -3.875 -3.359375 -4.5625 -4.015625 -5.109375 L -4.109375 -4.875 C -2.046875 -4.859375 -1.015625 -4.328125 -1.015625 -3.125 C -1.015625 -2.375 -1.359375 -1.984375 -2.296875 -1.796875 L -2.296875 -0.46875 C -0.78125 -0.703125 0.1875 -1.75 0.1875 -3.046875 C 0.1875 -5.046875 -1.640625 -6.234375 -4.578125 -6.234375 Z M -5.84375 -4.8125 C -4.796875 -4.8125 -4.234375 -4.21875 -4.234375 -3.1875 C -4.234375 -2.171875 -4.765625 -1.671875 -5.90625 -1.671875 C -6.984375 -1.671875 -7.578125 -2.25 -7.578125 -3.234375 C -7.578125 -4.21875 -6.953125 -4.8125 -5.84375 -4.8125 Z M -5.84375 -4.8125 \"/>\n",
       "</symbol>\n",
       "<symbol overflow=\"visible\" id=\"glyph1-8\">\n",
       "<path style=\"stroke:none;\" d=\"M -0.125 -7.859375 L -9.015625 -7.859375 L -9.015625 -6.46875 L -5.234375 -6.46875 L -5.234375 -2.25 L -9.015625 -2.25 L -9.015625 -0.859375 L 0 -0.859375 L 0 -2.25 L -3.984375 -2.25 L -3.984375 -6.46875 L 0 -6.46875 L 0 -7.859375 Z M -0.125 -7.859375 \"/>\n",
       "</symbol>\n",
       "<symbol overflow=\"visible\" id=\"glyph1-9\">\n",
       "<path style=\"stroke:none;\" d=\"M -2.984375 -6.28125 C -3.90625 -6.28125 -4.46875 -6.21875 -4.9375 -6.03125 C -5.96875 -5.625 -6.734375 -4.53125 -6.734375 -3.359375 C -6.734375 -1.609375 -5.296875 -0.34375 -3.234375 -0.34375 C -1.171875 -0.34375 0.1875 -1.578125 0.1875 -3.34375 C 0.1875 -4.78125 -0.765625 -5.90625 -2.171875 -6.1875 L -2.171875 -4.921875 C -1.21875 -4.59375 -1.015625 -4.171875 -1.015625 -3.375 C -1.015625 -2.328125 -1.546875 -1.6875 -2.859375 -1.65625 L -2.859375 -6.28125 Z M -3.78125 -5.1875 C -3.78125 -5.1875 -3.921875 -4.984375 -3.9375 -4.984375 L -3.9375 -1.6875 C -4.921875 -1.765625 -5.546875 -2.34375 -5.546875 -3.34375 C -5.546875 -4.328125 -4.859375 -4.9375 -3.875 -4.9375 Z M -3.78125 -5.1875 \"/>\n",
       "</symbol>\n",
       "<symbol overflow=\"visible\" id=\"glyph1-10\">\n",
       "<path style=\"stroke:none;\" d=\"M -0.15625 -6.546875 L -1.078125 -6.546875 C -1.015625 -6.3125 -1.015625 -6.265625 -1.015625 -6.203125 C -1.015625 -5.859375 -1.0625 -5.796875 -1.375 -5.796875 L -4.890625 -5.796875 C -6 -5.796875 -6.734375 -4.84375 -6.734375 -3.296875 C -6.734375 -1.78125 -6.015625 -0.703125 -4.421875 -0.640625 L -4.421875 -1.90625 C -5.328125 -2 -5.546875 -2.328125 -5.546875 -3.265625 C -5.546875 -4.15625 -5.34375 -4.53125 -4.734375 -4.53125 L -4.46875 -4.53125 C -4.0625 -4.53125 -4.015625 -4.421875 -3.90625 -3.625 C -3.734375 -2.203125 -3.6875 -1.984375 -3.53125 -1.609375 C -3.234375 -0.875 -2.53125 -0.359375 -1.765625 -0.359375 C -0.625 -0.359375 0.1875 -1.296875 0.1875 -2.5625 C 0.1875 -3.375 -0.1875 -4.25 -0.59375 -4.625 C -0.390625 -4.671875 0.078125 -5.25 0.078125 -5.734375 C 0.078125 -5.9375 0.0625 -6.09375 -0.046875 -6.546875 Z M -2.296875 -4.53125 C -1.40625 -4.53125 -0.953125 -3.75 -0.953125 -2.78125 C -0.953125 -2 -1.109375 -1.6875 -1.78125 -1.6875 C -2.453125 -1.6875 -2.609375 -1.984375 -2.765625 -3.0625 C -2.90625 -4.109375 -2.953125 -4.328125 -3.03125 -4.53125 Z M -2.296875 -4.53125 \"/>\n",
       "</symbol>\n",
       "<symbol overflow=\"visible\" id=\"glyph1-11\">\n",
       "<path style=\"stroke:none;\" d=\"M -5.546875 -3.984375 L -6.6875 -3.984375 C -6.71875 -3.6875 -6.734375 -3.59375 -6.734375 -3.46875 C -6.734375 -2.8125 -6.3125 -2.21875 -5.375 -1.640625 L -5.28125 -1.890625 L -6.546875 -1.890625 L -6.546875 -0.703125 L 0 -0.703125 L 0 -1.96875 L -3.390625 -1.96875 C -4.8125 -1.96875 -5.390625 -2.296875 -5.40625 -3.984375 Z M -5.546875 -3.984375 \"/>\n",
       "</symbol>\n",
       "<symbol overflow=\"visible\" id=\"glyph1-12\">\n",
       "<path style=\"stroke:none;\" d=\"M -0.125 -3.1875 L -1.15625 -3.1875 C -1.0625 -2.921875 -1.0625 -2.765625 -1.0625 -2.5625 C -1.0625 -2.140625 -1.046875 -2.140625 -1.484375 -2.140625 L -5.46875 -2.140625 L -5.46875 -3.1875 L -6.546875 -3.1875 L -6.546875 -2.140625 L -8.28125 -2.140625 L -8.28125 -0.875 L -6.546875 -0.875 L -6.546875 -0.03125 L -5.46875 -0.03125 L -5.46875 -0.875 L -1.046875 -0.875 C -0.40625 -0.875 0.078125 -1.453125 0.078125 -2.234375 C 0.078125 -2.46875 0.0625 -2.71875 -0.03125 -3.1875 Z M -0.125 -3.1875 \"/>\n",
       "</symbol>\n",
       "<symbol overflow=\"visible\" id=\"glyph1-13\">\n",
       "<path style=\"stroke:none;\" d=\"\"/>\n",
       "</symbol>\n",
       "</g>\n",
       "</defs>\n",
       "<g id=\"surface109\">\n",
       "<rect x=\"0\" y=\"0\" width=\"504\" height=\"432\" style=\"fill:rgb(100%,100%,100%);fill-opacity:1;stroke:none;\"/>\n",
       "<path style=\" stroke:none;fill-rule:nonzero;fill:rgb(54.509804%,0%,0%);fill-opacity:1;\" d=\"M 93.601562 260.460938 L 247.199219 260.460938 L 247.199219 81.007812 L 93.601562 81.007812 Z M 93.601562 260.460938 \"/>\n",
       "<path style=\"fill:none;stroke-width:2.25;stroke-linecap:butt;stroke-linejoin:round;stroke:rgb(0%,0%,0%);stroke-opacity:1;stroke-miterlimit:10;\" d=\"M 93.601562 170.734375 L 247.199219 170.734375 \"/>\n",
       "<path style=\"fill:none;stroke-width:0.75;stroke-linecap:round;stroke-linejoin:round;stroke:rgb(0%,0%,0%);stroke-opacity:1;stroke-dasharray:3,3;stroke-miterlimit:10;\" d=\"M 170.398438 260.460938 L 170.398438 260.460938 \"/>\n",
       "<path style=\"fill:none;stroke-width:0.75;stroke-linecap:round;stroke-linejoin:round;stroke:rgb(0%,0%,0%);stroke-opacity:1;stroke-dasharray:3,3;stroke-miterlimit:10;\" d=\"M 170.398438 81.007812 L 170.398438 81.007812 \"/>\n",
       "<path style=\"fill:none;stroke-width:0.75;stroke-linecap:round;stroke-linejoin:round;stroke:rgb(0%,0%,0%);stroke-opacity:1;stroke-miterlimit:10;\" d=\"M 132 260.460938 L 208.800781 260.460938 \"/>\n",
       "<path style=\"fill:none;stroke-width:0.75;stroke-linecap:round;stroke-linejoin:round;stroke:rgb(0%,0%,0%);stroke-opacity:1;stroke-miterlimit:10;\" d=\"M 132 81.007812 L 208.800781 81.007812 \"/>\n",
       "<path style=\"fill:none;stroke-width:0.75;stroke-linecap:round;stroke-linejoin:round;stroke:rgb(0%,0%,0%);stroke-opacity:1;stroke-miterlimit:10;\" d=\"M 93.601562 260.460938 L 247.199219 260.460938 L 247.199219 81.007812 L 93.601562 81.007812 L 93.601562 260.460938 \"/>\n",
       "<path style=\" stroke:none;fill-rule:nonzero;fill:rgb(100%,0%,0%);fill-opacity:1;\" d=\"M 285.601562 303.964844 L 439.199219 303.964844 L 439.199219 108.199219 L 285.601562 108.199219 Z M 285.601562 303.964844 \"/>\n",
       "<path style=\"fill:none;stroke-width:2.25;stroke-linecap:butt;stroke-linejoin:round;stroke:rgb(0%,0%,0%);stroke-opacity:1;stroke-miterlimit:10;\" d=\"M 285.601562 203.363281 L 439.199219 203.363281 \"/>\n",
       "<path style=\"fill:none;stroke-width:0.75;stroke-linecap:round;stroke-linejoin:round;stroke:rgb(0%,0%,0%);stroke-opacity:1;stroke-dasharray:3,3;stroke-miterlimit:10;\" d=\"M 362.398438 347.464844 L 362.398438 303.964844 \"/>\n",
       "<path style=\"fill:none;stroke-width:0.75;stroke-linecap:round;stroke-linejoin:round;stroke:rgb(0%,0%,0%);stroke-opacity:1;stroke-dasharray:3,3;stroke-miterlimit:10;\" d=\"M 362.398438 70.132812 L 362.398438 108.199219 \"/>\n",
       "<path style=\"fill:none;stroke-width:0.75;stroke-linecap:round;stroke-linejoin:round;stroke:rgb(0%,0%,0%);stroke-opacity:1;stroke-miterlimit:10;\" d=\"M 324 347.464844 L 400.800781 347.464844 \"/>\n",
       "<path style=\"fill:none;stroke-width:0.75;stroke-linecap:round;stroke-linejoin:round;stroke:rgb(0%,0%,0%);stroke-opacity:1;stroke-miterlimit:10;\" d=\"M 324 70.132812 L 400.800781 70.132812 \"/>\n",
       "<path style=\"fill:none;stroke-width:0.75;stroke-linecap:round;stroke-linejoin:round;stroke:rgb(0%,0%,0%);stroke-opacity:1;stroke-miterlimit:10;\" d=\"M 285.601562 303.964844 L 439.199219 303.964844 L 439.199219 108.199219 L 285.601562 108.199219 L 285.601562 303.964844 \"/>\n",
       "<path style=\"fill:none;stroke-width:0.75;stroke-linecap:round;stroke-linejoin:round;stroke:rgb(0%,0%,0%);stroke-opacity:1;stroke-miterlimit:10;\" d=\"M 170.398438 358.558594 L 362.398438 358.558594 \"/>\n",
       "<path style=\"fill:none;stroke-width:0.75;stroke-linecap:round;stroke-linejoin:round;stroke:rgb(0%,0%,0%);stroke-opacity:1;stroke-miterlimit:10;\" d=\"M 170.398438 358.558594 L 170.398438 365.761719 \"/>\n",
       "<path style=\"fill:none;stroke-width:0.75;stroke-linecap:round;stroke-linejoin:round;stroke:rgb(0%,0%,0%);stroke-opacity:1;stroke-miterlimit:10;\" d=\"M 362.398438 358.558594 L 362.398438 365.761719 \"/>\n",
       "<g style=\"fill:rgb(0%,0%,0%);fill-opacity:1;\">\n",
       "  <use xlink:href=\"#glyph0-1\" x=\"150.398438\" y=\"384.256836\"/>\n",
       "  <use xlink:href=\"#glyph0-2\" x=\"157.430664\" y=\"384.256836\"/>\n",
       "  <use xlink:href=\"#glyph0-3\" x=\"164.102539\" y=\"384.256836\"/>\n",
       "  <use xlink:href=\"#glyph0-4\" x=\"174.098633\" y=\"384.256836\"/>\n",
       "  <use xlink:href=\"#glyph0-5\" x=\"180.770508\" y=\"384.256836\"/>\n",
       "  <use xlink:href=\"#glyph0-2\" x=\"183.43457\" y=\"384.256836\"/>\n",
       "</g>\n",
       "<g style=\"fill:rgb(0%,0%,0%);fill-opacity:1;\">\n",
       "  <use xlink:href=\"#glyph0-6\" x=\"348.898438\" y=\"384.256836\"/>\n",
       "  <use xlink:href=\"#glyph0-4\" x=\"358.894531\" y=\"384.256836\"/>\n",
       "  <use xlink:href=\"#glyph0-5\" x=\"365.566406\" y=\"384.256836\"/>\n",
       "  <use xlink:href=\"#glyph0-2\" x=\"368.230469\" y=\"384.256836\"/>\n",
       "</g>\n",
       "<path style=\"fill:none;stroke-width:0.75;stroke-linecap:round;stroke-linejoin:round;stroke:rgb(0%,0%,0%);stroke-opacity:1;stroke-miterlimit:10;\" d=\"M 59.039062 347.464844 L 59.039062 75.570312 \"/>\n",
       "<path style=\"fill:none;stroke-width:0.75;stroke-linecap:round;stroke-linejoin:round;stroke:rgb(0%,0%,0%);stroke-opacity:1;stroke-miterlimit:10;\" d=\"M 59.039062 347.464844 L 51.839844 347.464844 \"/>\n",
       "<path style=\"fill:none;stroke-width:0.75;stroke-linecap:round;stroke-linejoin:round;stroke:rgb(0%,0%,0%);stroke-opacity:1;stroke-miterlimit:10;\" d=\"M 59.039062 293.085938 L 51.839844 293.085938 \"/>\n",
       "<path style=\"fill:none;stroke-width:0.75;stroke-linecap:round;stroke-linejoin:round;stroke:rgb(0%,0%,0%);stroke-opacity:1;stroke-miterlimit:10;\" d=\"M 59.039062 238.707031 L 51.839844 238.707031 \"/>\n",
       "<path style=\"fill:none;stroke-width:0.75;stroke-linecap:round;stroke-linejoin:round;stroke:rgb(0%,0%,0%);stroke-opacity:1;stroke-miterlimit:10;\" d=\"M 59.039062 184.328125 L 51.839844 184.328125 \"/>\n",
       "<path style=\"fill:none;stroke-width:0.75;stroke-linecap:round;stroke-linejoin:round;stroke:rgb(0%,0%,0%);stroke-opacity:1;stroke-miterlimit:10;\" d=\"M 59.039062 129.949219 L 51.839844 129.949219 \"/>\n",
       "<path style=\"fill:none;stroke-width:0.75;stroke-linecap:round;stroke-linejoin:round;stroke:rgb(0%,0%,0%);stroke-opacity:1;stroke-miterlimit:10;\" d=\"M 59.039062 75.570312 L 51.839844 75.570312 \"/>\n",
       "<g style=\"fill:rgb(0%,0%,0%);fill-opacity:1;\">\n",
       "  <use xlink:href=\"#glyph1-1\" x=\"41.538086\" y=\"354.464844\"/>\n",
       "  <use xlink:href=\"#glyph1-2\" x=\"41.538086\" y=\"347.792969\"/>\n",
       "</g>\n",
       "<g style=\"fill:rgb(0%,0%,0%);fill-opacity:1;\">\n",
       "  <use xlink:href=\"#glyph1-3\" x=\"41.538086\" y=\"300.085938\"/>\n",
       "  <use xlink:href=\"#glyph1-2\" x=\"41.538086\" y=\"293.414062\"/>\n",
       "</g>\n",
       "<g style=\"fill:rgb(0%,0%,0%);fill-opacity:1;\">\n",
       "  <use xlink:href=\"#glyph1-4\" x=\"41.538086\" y=\"245.707031\"/>\n",
       "  <use xlink:href=\"#glyph1-2\" x=\"41.538086\" y=\"239.035156\"/>\n",
       "</g>\n",
       "<g style=\"fill:rgb(0%,0%,0%);fill-opacity:1;\">\n",
       "  <use xlink:href=\"#glyph1-5\" x=\"41.538086\" y=\"191.328125\"/>\n",
       "  <use xlink:href=\"#glyph1-2\" x=\"41.538086\" y=\"184.65625\"/>\n",
       "</g>\n",
       "<g style=\"fill:rgb(0%,0%,0%);fill-opacity:1;\">\n",
       "  <use xlink:href=\"#glyph1-6\" x=\"41.538086\" y=\"136.949219\"/>\n",
       "  <use xlink:href=\"#glyph1-2\" x=\"41.538086\" y=\"130.277344\"/>\n",
       "</g>\n",
       "<g style=\"fill:rgb(0%,0%,0%);fill-opacity:1;\">\n",
       "  <use xlink:href=\"#glyph1-7\" x=\"41.538086\" y=\"82.570312\"/>\n",
       "  <use xlink:href=\"#glyph1-2\" x=\"41.538086\" y=\"75.898438\"/>\n",
       "</g>\n",
       "<g style=\"fill:rgb(0%,0%,0%);fill-opacity:1;\">\n",
       "  <use xlink:href=\"#glyph1-8\" x=\"12.737305\" y=\"235.800781\"/>\n",
       "  <use xlink:href=\"#glyph1-9\" x=\"12.737305\" y=\"227.136719\"/>\n",
       "  <use xlink:href=\"#glyph1-10\" x=\"12.737305\" y=\"220.464844\"/>\n",
       "  <use xlink:href=\"#glyph1-11\" x=\"12.737305\" y=\"213.792969\"/>\n",
       "  <use xlink:href=\"#glyph1-12\" x=\"12.737305\" y=\"209.4375\"/>\n",
       "  <use xlink:href=\"#glyph1-13\" x=\"12.737305\" y=\"206.101562\"/>\n",
       "  <use xlink:href=\"#glyph1-11\" x=\"12.737305\" y=\"202.765625\"/>\n",
       "  <use xlink:href=\"#glyph1-10\" x=\"12.737305\" y=\"198.829102\"/>\n",
       "  <use xlink:href=\"#glyph1-12\" x=\"12.737305\" y=\"192.157227\"/>\n",
       "  <use xlink:href=\"#glyph1-9\" x=\"12.737305\" y=\"189.000977\"/>\n",
       "</g>\n",
       "<path style=\"fill:none;stroke-width:0.75;stroke-linecap:round;stroke-linejoin:round;stroke:rgb(0%,0%,0%);stroke-opacity:1;stroke-miterlimit:10;\" d=\"M 59.039062 358.558594 L 473.761719 358.558594 L 473.761719 59.039062 L 59.039062 59.039062 L 59.039062 358.558594 \"/>\n",
       "</g>\n",
       "</svg>\n"
      ],
      "text/plain": [
       "plot without title"
      ]
     },
     "metadata": {
      "image/svg+xml": {
       "isolated": true
      }
     },
     "output_type": "display_data"
    }
   ],
   "source": [
    "# First some options for the size of the plot.\n",
    "options(repr.plot.width=7, repr.plot.height=6)\n",
    "\n",
    "Pdatanew<-Pdatanew[order(Pdatanew$HR),]\n",
    "Pdatanew<-na.omit(Pdatanew)\n",
    "\n",
    "cols <- ifelse(Pdatanew$GENDER == \"Male\", \"red\",\"darkred\")\n",
    "\n",
    "plot(c(1:20),pch=1:20,col=1:20)\n",
    "\n",
    "\n",
    "x1<-barplot(Pdatanew$HR, col=cols,ylim=c(0,200),xlab=\"Patient number\", ylab=\"Heart rate\",names.arg=Pdatanew$PATNO) #change the shape to triangles\n",
    "points(Pdatanew$SBP~x1, col=cols, pch=15)\n",
    "points(Pdatanew$DBP~x1, col=cols, pch=16)\n",
    "\n",
    "legend(0, 190, c(\"Male\", \"Female\"), col = c(\"red\",\"darkred\"), pch = c(15,15), cex=0.8)\n",
    "legend(0, 160, c(\"HR\", \"SBP\",\"DBP\"), col = \"black\", pch = c(15,11,10), cex=0.8)\n",
    "\n",
    "Pdatanew$GENDER<-as.factor(Pdatanew$GENDER)\n",
    "\n",
    "boxplot(Pdatanew$HR~Pdatanew$GENDER,col=c(\"darkred\",\"red\"),ylab=\"Heart rate\")\n"
   ]
  },
  {
   "cell_type": "markdown",
   "metadata": {},
   "source": [
    "# That's it! \n",
    "This is the end of this introduction. For the next part, we will go to RStudio and learn to work with this R script in that. We will practice good commenting practices there, so others (or you yourself, in two months time) can reuse your data easily. "
   ]
  }
 ],
 "metadata": {
  "kernelspec": {
   "display_name": "R",
   "language": "r",
   "name": "ir"
  },
  "language_info": {
   "codemirror_mode": "r",
   "file_extension": ".r",
   "mimetype": "text/x-r-source",
   "name": "R",
   "pygments_lexer": "r",
   "version": "3.2.2"
  }
 },
 "nbformat": 4,
 "nbformat_minor": 0
}
